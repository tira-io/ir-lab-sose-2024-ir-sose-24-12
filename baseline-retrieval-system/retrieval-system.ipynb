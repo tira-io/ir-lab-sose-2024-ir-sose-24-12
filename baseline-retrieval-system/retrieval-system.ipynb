{
 "cells": [
  {
   "cell_type": "code",
   "execution_count": 12,
   "metadata": {},
   "outputs": [],
   "source": [
    "from tira.third_party_integrations import ensure_pyterrier_is_loaded, persist_and_normalize_run, ir_datasets\n",
    "from tira.rest_api_client import Client\n",
    "import pyterrier as pt\n",
    "from pyterrier_pisa import PisaIndex"
   ]
  },
  {
   "cell_type": "code",
   "execution_count": 13,
   "metadata": {},
   "outputs": [],
   "source": [
    "# Create a REST client to the TIRA platform for retrieving the pre-indexed data.\n",
    "ensure_pyterrier_is_loaded()\n",
    "tira = Client()"
   ]
  },
  {
   "cell_type": "code",
   "execution_count": 14,
   "metadata": {},
   "outputs": [],
   "source": [
    "# The dataset: the union of the IR Anthology and the ACL Anthology\n",
    "# This line creates an IRDSDataset object and registers it under the name provided as an argument.\n",
    "pt_dataset = pt.get_dataset('irds:ir-lab-sose-2024/ir-acl-anthology-20240504-training')\n",
    "\n",
    "index = tira.pt.index('ir-lab-sose-2024/tira-ir-starter/Index (tira-ir-starter-pyterrier)', pt_dataset)\n",
    "\n",
    "\n",
    "# We are using Pisa Index to index the dataset\n",
    "#index = PisaIndex('./index', overwrite=True)\n",
    "#index.index(pt_dataset.get_corpus_iter())\n",
    "\n",
    "# get all topics of training dataset\n",
    "#topics = pt_dataset.get_topics()\n",
    "#topics"
   ]
  },
  {
   "cell_type": "markdown",
   "metadata": {},
   "source": [
    "# We now do Query expansion in order to improve retrieval effectiveness \n",
    "Query expansion generally improves recall, by adding more terms to the query, it broadens the search scope, potentially retrieving more relevant documents. While it could also have a slight negative effect on precision since query expansion might also introdoces irrelevant results. "
   ]
  },
  {
   "cell_type": "code",
   "execution_count": 15,
   "metadata": {},
   "outputs": [
    {
     "name": "stdout",
     "output_type": "stream",
     "text": [
      "There are multiple query fields available: ('text', 'title', 'query', 'description', 'narrative'). To use with pyterrier, provide variant or modify dataframe to add query column.\n"
     ]
    },
    {
     "data": {
      "text/html": [
       "<div>\n",
       "<style scoped>\n",
       "    .dataframe tbody tr th:only-of-type {\n",
       "        vertical-align: middle;\n",
       "    }\n",
       "\n",
       "    .dataframe tbody tr th {\n",
       "        vertical-align: top;\n",
       "    }\n",
       "\n",
       "    .dataframe thead th {\n",
       "        text-align: right;\n",
       "    }\n",
       "</style>\n",
       "<table border=\"1\" class=\"dataframe\">\n",
       "  <thead>\n",
       "    <tr style=\"text-align: right;\">\n",
       "      <th></th>\n",
       "      <th>name</th>\n",
       "      <th>ndcg_cut_5</th>\n",
       "    </tr>\n",
       "  </thead>\n",
       "  <tbody>\n",
       "    <tr>\n",
       "      <th>0</th>\n",
       "      <td>BM25</td>\n",
       "      <td>0.39365</td>\n",
       "    </tr>\n",
       "  </tbody>\n",
       "</table>\n",
       "</div>"
      ],
      "text/plain": [
       "   name  ndcg_cut_5\n",
       "0  BM25     0.39365"
      ]
     },
     "execution_count": 15,
     "metadata": {},
     "output_type": "execute_result"
    }
   ],
   "source": [
    "bm25 = pt.BatchRetrieve(index, wmodel=\"BM25\")\n",
    "\n",
    "#(bm25 >> pt.text.get_text(pt_dataset, 'text')).search('retrieval')\n",
    "pt.Experiment([bm25], pt_dataset.get_topics(), pt_dataset.get_qrels(), eval_metrics=['ndcg_cut_5'], names=['BM25'])"
   ]
  },
  {
   "cell_type": "code",
   "execution_count": 16,
   "metadata": {},
   "outputs": [
    {
     "name": "stdout",
     "output_type": "stream",
     "text": [
      "There are multiple query fields available: ('text', 'title', 'query', 'description', 'narrative'). To use with pyterrier, provide variant or modify dataframe to add query column.\n"
     ]
    },
    {
     "data": {
      "text/html": [
       "<div>\n",
       "<style scoped>\n",
       "    .dataframe tbody tr th:only-of-type {\n",
       "        vertical-align: middle;\n",
       "    }\n",
       "\n",
       "    .dataframe tbody tr th {\n",
       "        vertical-align: top;\n",
       "    }\n",
       "\n",
       "    .dataframe thead th {\n",
       "        text-align: right;\n",
       "    }\n",
       "</style>\n",
       "<table border=\"1\" class=\"dataframe\">\n",
       "  <thead>\n",
       "    <tr style=\"text-align: right;\">\n",
       "      <th></th>\n",
       "      <th>name</th>\n",
       "      <th>ndcg_cut_5</th>\n",
       "    </tr>\n",
       "  </thead>\n",
       "  <tbody>\n",
       "    <tr>\n",
       "      <th>0</th>\n",
       "      <td>BM25</td>\n",
       "      <td>0.393650</td>\n",
       "    </tr>\n",
       "    <tr>\n",
       "      <th>1</th>\n",
       "      <td>BM25 &gt;&gt; Bo1 &gt;&gt; BM25</td>\n",
       "      <td>0.381675</td>\n",
       "    </tr>\n",
       "  </tbody>\n",
       "</table>\n",
       "</div>"
      ],
      "text/plain": [
       "                  name  ndcg_cut_5\n",
       "0                 BM25    0.393650\n",
       "1  BM25 >> Bo1 >> BM25    0.381675"
      ]
     },
     "execution_count": 16,
     "metadata": {},
     "output_type": "execute_result"
    }
   ],
   "source": [
    "if not pt.started():\n",
    "    pt.init(boot_packages=[\"com.github.terrierteam:terrier-prf:-SNAPSHOT\"])\n",
    "\n",
    "bo1_pipe = bm25 >> pt.rewrite.Bo1QueryExpansion(index) >> bm25\n",
    "pt.Experiment([bm25, bo1_pipe], pt_dataset.get_topics(), pt_dataset.get_qrels(), eval_metrics=['ndcg_cut_5'], names=['BM25', 'BM25 >> Bo1 >> BM25'])"
   ]
  },
  {
   "cell_type": "code",
   "execution_count": 17,
   "metadata": {},
   "outputs": [
    {
     "name": "stdout",
     "output_type": "stream",
     "text": [
      "There are multiple query fields available: ('text', 'title', 'query', 'description', 'narrative'). To use with pyterrier, provide variant or modify dataframe to add query column.\n"
     ]
    },
    {
     "data": {
      "text/html": [
       "<div>\n",
       "<style scoped>\n",
       "    .dataframe tbody tr th:only-of-type {\n",
       "        vertical-align: middle;\n",
       "    }\n",
       "\n",
       "    .dataframe tbody tr th {\n",
       "        vertical-align: top;\n",
       "    }\n",
       "\n",
       "    .dataframe thead th {\n",
       "        text-align: right;\n",
       "    }\n",
       "</style>\n",
       "<table border=\"1\" class=\"dataframe\">\n",
       "  <thead>\n",
       "    <tr style=\"text-align: right;\">\n",
       "      <th></th>\n",
       "      <th>name</th>\n",
       "      <th>ndcg_cut_5</th>\n",
       "    </tr>\n",
       "  </thead>\n",
       "  <tbody>\n",
       "    <tr>\n",
       "      <th>0</th>\n",
       "      <td>BM25</td>\n",
       "      <td>0.393650</td>\n",
       "    </tr>\n",
       "    <tr>\n",
       "      <th>1</th>\n",
       "      <td>BM25 &gt;&gt; KL &gt;&gt; BM25</td>\n",
       "      <td>0.383947</td>\n",
       "    </tr>\n",
       "  </tbody>\n",
       "</table>\n",
       "</div>"
      ],
      "text/plain": [
       "                 name  ndcg_cut_5\n",
       "0                BM25    0.393650\n",
       "1  BM25 >> KL >> BM25    0.383947"
      ]
     },
     "execution_count": 17,
     "metadata": {},
     "output_type": "execute_result"
    }
   ],
   "source": [
    "kl_pipe = bm25 >> pt.rewrite.KLQueryExpansion(index) >> bm25\n",
    "\n",
    "pt.Experiment([bm25, kl_pipe], pt_dataset.get_topics(), pt_dataset.get_qrels(), eval_metrics=['ndcg_cut_5'], names=['BM25', 'BM25 >> KL >> BM25'])"
   ]
  },
  {
   "cell_type": "code",
   "execution_count": 19,
   "metadata": {},
   "outputs": [
    {
     "name": "stdout",
     "output_type": "stream",
     "text": [
      "There are multiple query fields available: ('text', 'title', 'query', 'description', 'narrative'). To use with pyterrier, provide variant or modify dataframe to add query column.\n",
      "   qid                                      text  \\\n",
      "0    1  retrieval system improving effectiveness   \n",
      "1    2  machine learning language identification   \n",
      "2    3             social media detect self-harm   \n",
      "3    4             stemming for arabic languages   \n",
      "4    5            audio based animal recognition   \n",
      "..  ..                                       ...   \n",
      "63  65         information in different language   \n",
      "64  66                  Abbreviations in queries   \n",
      "65  67                  lemmatization algorithms   \n",
      "66  68                  filter ad rich documents   \n",
      "67  18     Advancements in Information Retrieval   \n",
      "\n",
      "                                       title  \\\n",
      "0   retrieval system improving effectiveness   \n",
      "1   machine learning language identification   \n",
      "2              social media detect self-harm   \n",
      "3              stemming for arabic languages   \n",
      "4             audio based animal recognition   \n",
      "..                                       ...   \n",
      "63         information in different language   \n",
      "64                  Abbreviations in queries   \n",
      "65                  lemmatization algorithms   \n",
      "66                  filter ad rich documents   \n",
      "67     Advancements in Information Retrieval   \n",
      "\n",
      "                                       query  \\\n",
      "0   retrieval system improving effectiveness   \n",
      "1   machine learning language identification   \n",
      "2              social media detect self harm   \n",
      "3              stemming for arabic languages   \n",
      "4             audio based animal recognition   \n",
      "..                                       ...   \n",
      "63         information in different language   \n",
      "64                  abbreviations in queries   \n",
      "65                  lemmatization algorithms   \n",
      "66                  filter ad rich documents   \n",
      "67     advancements in information retrieval   \n",
      "\n",
      "                                          description  \\\n",
      "0   What papers focus on improving the effectivene...   \n",
      "1   What papers are about machine learning for lan...   \n",
      "2   Which papers focus on how to recognize signs o...   \n",
      "3   Which papers focus on improving stemming in ar...   \n",
      "4   Which papers focus on classifying animal speci...   \n",
      "..                                                ...   \n",
      "63  Which papers cover Cross-language information ...   \n",
      "64  Which papers cover the handling of abbreviatio...   \n",
      "65       Which papers cover lemmatization algorithms?   \n",
      "66                                               None   \n",
      "67                                               None   \n",
      "\n",
      "                                            narrative  \n",
      "0   Relevant papers include research on what makes...  \n",
      "1   Relevant papers include research on methods of...  \n",
      "2   Relevant papers include research on early dete...  \n",
      "3   Relevant papers include research on stemming m...  \n",
      "4   Relevant papers focus on recognizing the speci...  \n",
      "..                                                ...  \n",
      "63  Relevant papers cover concepts, that fall unde...  \n",
      "64  Relevant papers cover concepts, that deal with...  \n",
      "65  Relevant IR documents cover the topic of lemma...  \n",
      "66  How to filter webpages that have tons of ads a...  \n",
      "67  Relevant texts contain Innovations or Advancem...  \n",
      "\n",
      "[68 rows x 6 columns]\n",
      "There are multiple query fields available: ('text', 'title', 'query', 'description', 'narrative'). To use with pyterrier, provide variant or modify dataframe to add query column.\n",
      "14:34:15.757 [main] WARN org.terrier.querying.RM1 - Did not identify any usable candidate expansion terms from docid 125137 among 5 possibilities\n",
      "14:34:15.919 [main] WARN org.terrier.querying.RM1 - Did not identify any usable candidate expansion terms from docid 116910 among 4 possibilities\n"
     ]
    },
    {
     "data": {
      "text/html": [
       "<div>\n",
       "<style scoped>\n",
       "    .dataframe tbody tr th:only-of-type {\n",
       "        vertical-align: middle;\n",
       "    }\n",
       "\n",
       "    .dataframe tbody tr th {\n",
       "        vertical-align: top;\n",
       "    }\n",
       "\n",
       "    .dataframe thead th {\n",
       "        text-align: right;\n",
       "    }\n",
       "</style>\n",
       "<table border=\"1\" class=\"dataframe\">\n",
       "  <thead>\n",
       "    <tr style=\"text-align: right;\">\n",
       "      <th></th>\n",
       "      <th>name</th>\n",
       "      <th>ndcg_cut_5</th>\n",
       "    </tr>\n",
       "  </thead>\n",
       "  <tbody>\n",
       "    <tr>\n",
       "      <th>0</th>\n",
       "      <td>BM25</td>\n",
       "      <td>0.393650</td>\n",
       "    </tr>\n",
       "    <tr>\n",
       "      <th>1</th>\n",
       "      <td>BM25 &gt;&gt; RM3 &gt;&gt; BM25</td>\n",
       "      <td>0.341725</td>\n",
       "    </tr>\n",
       "  </tbody>\n",
       "</table>\n",
       "</div>"
      ],
      "text/plain": [
       "                  name  ndcg_cut_5\n",
       "0                 BM25    0.393650\n",
       "1  BM25 >> RM3 >> BM25    0.341725"
      ]
     },
     "execution_count": 19,
     "metadata": {},
     "output_type": "execute_result"
    }
   ],
   "source": [
    "if not pt.started():\n",
    "    pt.init(boot_packages=[\"com.github.terrierteam:terrier-prf:-SNAPSHOT\"])\n",
    "\n",
    "rm3_pipe = bm25 >> pt.rewrite.RM3(index) >> bm25\n",
    "print(pt_dataset.get_topics())\n",
    "\n",
    "pt.Experiment([bm25, rm3_pipe], pt_dataset.get_topics(), pt_dataset.get_qrels(), eval_metrics=['ndcg_cut_5'], names=['BM25', 'BM25 >> RM3 >> BM25'])\n"
   ]
  },
  {
   "cell_type": "code",
   "execution_count": null,
   "metadata": {},
   "outputs": [],
   "source": []
  },
  {
   "cell_type": "code",
   "execution_count": 13,
   "metadata": {},
   "outputs": [
    {
     "name": "stdout",
     "output_type": "stream",
     "text": [
      "The dataset has 126958 documents.\n",
      "\n",
      "Query:  1\n",
      "\tText:\t\tretrieval system improving effectiveness\n",
      "\tDescrition:\tWhat papers focus on improving the effectiveness of a retrieval system?\n",
      "\tNarrative:\tRelevant papers include research on what makes a retrieval system effective and what improves the effectiveness of a retrieval system. Papers that focus on improving something else or improving the effectiveness of a system that is not a retrieval system are not relevant.\n",
      "\n",
      "Query:  2\n",
      "\tText:\t\tmachine learning language identification\n",
      "\tDescrition:\tWhat papers are about machine learning for language identification?\n",
      "\tNarrative:\tRelevant papers include research on methods of machine learning for language identification or how to improve those methods. Papers that focus on other methods for language identification or the usaged of machine learning not for language identification are not relevant.\n",
      "\n",
      "Query:  3\n",
      "\tText:\t\tsocial media detect self-harm\n",
      "\tDescrition:\tWhich papers focus on how to recognize signs of self-harm in people's social media posts?\n",
      "\tNarrative:\tRelevant papers include research on early detection of self-harm on social media platforms such as Facebook, Instagram, Reddit, Twitter and co. Papers that addresses mental health issues like depression or anorexia are not relevant. Furthermore, papers that deal with self-harm but are not related to social media are also not relevant.\n"
     ]
    }
   ],
   "source": [
    "pt_dataset1 = ir_datasets.load('ir-lab-sose-2024/ir-acl-anthology-20240504-training')\n",
    "print('The dataset has', len(list(pt_dataset1.docs_iter())), 'documents.')\n",
    "for query in list(pt_dataset1.queries_iter())[:3]:\n",
    "    print('\\nQuery: ', query.query_id)\n",
    "\n",
    "    print('\\tText:\\t\\t' + query.default_text())\n",
    "    print('\\tDescrition:\\t' + query.description)\n",
    "    print('\\tNarrative:\\t' + query.narrative)"
   ]
  }
 ],
 "metadata": {
  "kernelspec": {
   "display_name": "Python 3",
   "language": "python",
   "name": "python3"
  },
  "language_info": {
   "codemirror_mode": {
    "name": "ipython",
    "version": 3
   },
   "file_extension": ".py",
   "mimetype": "text/x-python",
   "name": "python",
   "nbconvert_exporter": "python",
   "pygments_lexer": "ipython3",
   "version": "3.10.12"
  }
 },
 "nbformat": 4,
 "nbformat_minor": 2
}
