{
 "cells": [
  {
   "cell_type": "code",
   "execution_count": 6,
   "metadata": {},
   "outputs": [],
   "source": [
    "from tira.third_party_integrations import ensure_pyterrier_is_loaded, persist_and_normalize_run, ir_datasets\n",
    "from tira.rest_api_client import Client\n",
    "import pyterrier as pt\n",
    "from pyterrier_pisa import PisaIndex"
   ]
  },
  {
   "cell_type": "code",
   "execution_count": 2,
   "metadata": {},
   "outputs": [
    {
     "name": "stderr",
     "output_type": "stream",
     "text": [
      "PyTerrier 0.10.0 has loaded Terrier 5.8 (built by craigm on 2023-11-01 18:05) and terrier-helper 0.0.8\n",
      "\n",
      "No etc/terrier.properties, using terrier.default.properties for bootstrap configuration.\n"
     ]
    }
   ],
   "source": [
    "# Create a REST client to the TIRA platform for retrieving the pre-indexed data.\n",
    "ensure_pyterrier_is_loaded()\n",
    "tira = Client()"
   ]
  },
  {
   "cell_type": "code",
   "execution_count": 12,
   "metadata": {},
   "outputs": [
    {
     "data": {
      "application/vnd.jupyter.widget-view+json": {
       "model_id": "ad01bac0c3dc4e6d8344bc968e6874a8",
       "version_major": 2,
       "version_minor": 0
      },
      "text/plain": [
       "ir-lab-sose-2024/ir-acl-anthology-20240504-training documents:   0%|          | 0/126958 [00:00<?, ?it/s]"
      ]
     },
     "metadata": {},
     "output_type": "display_data"
    },
    {
     "name": "stderr",
     "output_type": "stream",
     "text": [
      "/usr/local/lib/python3.10/dist-packages/pyterrier_pisa/__init__.py:144: UserWarning: text_field not specified; indexing all str fields: ['text']\n",
      "  warn(f'text_field not specified; indexing all str fields: {text_field}')\n"
     ]
    },
    {
     "name": "stdout",
     "output_type": "stream",
     "text": [
      "[2024-06-12 11:21:27.360] [info] [Batch 1] Processed documents [100000, 126958)\n",
      "[2024-06-12 11:21:39.754] [info] [Batch 0] Processed documents [0, 100000)\n",
      "[2024-06-12 11:21:39.799] [info] Merging titles\n",
      "[2024-06-12 11:21:39.808] [info] Creating document lexicon\n",
      "[2024-06-12 11:21:39.824] [info] Merging URLs\n",
      "[2024-06-12 11:21:39.825] [info] Collecting terms\n",
      "[2024-06-12 11:21:39.861] [info] Writing terms\n",
      "[2024-06-12 11:21:39.876] [info] Mapping terms\n",
      "[2024-06-12 11:21:39.888] [info] Remapping IDs\n",
      "[2024-06-12 11:21:40.230] [info] Concatenating batches\n",
      "[2024-06-12 11:21:40.414] [info] Success.\n",
      "[2024-06-12 11:21:40.439] [info] Inverting [0, 100000)\n",
      "[2024-06-12 11:21:42.052] [info] Inverting [100000, 126958)\n",
      "[2024-06-12 11:21:42.565] [info] Number of terms: 100128\n",
      "[2024-06-12 11:21:42.566] [info] Number of documents: 126958\n",
      "[2024-06-12 11:21:42.566] [info] Number of postings: 7914234\n"
     ]
    },
    {
     "data": {
      "text/plain": [
       "PisaIndex('./index')"
      ]
     },
     "execution_count": 12,
     "metadata": {},
     "output_type": "execute_result"
    }
   ],
   "source": [
    "# The dataset: the union of the IR Anthology and the ACL Anthology\n",
    "# This line creates an IRDSDataset object and registers it under the name provided as an argument.\n",
    "pt_dataset = pt.get_dataset('irds:ir-lab-sose-2024/ir-acl-anthology-20240504-training')\n",
    "\n",
    "index = PisaIndex('./index', overwrite=True)\n",
    "\n",
    "#stemmer porter2 atm, maybe use krovetz?\n",
    "#stopword list already good I think\n",
    "\n",
    "index.index(pt_dataset.get_corpus_iter())"
   ]
  },
  {
   "cell_type": "markdown",
   "metadata": {},
   "source": [
    "# We now do Query expansion in order to mitigate any errors"
   ]
  },
  {
   "cell_type": "code",
   "execution_count": 13,
   "metadata": {},
   "outputs": [
    {
     "name": "stdout",
     "output_type": "stream",
     "text": [
      "The dataset has 126958 documents.\n",
      "\n",
      "Query:  1\n",
      "\tText:\t\tretrieval system improving effectiveness\n",
      "\tDescrition:\tWhat papers focus on improving the effectiveness of a retrieval system?\n",
      "\tNarrative:\tRelevant papers include research on what makes a retrieval system effective and what improves the effectiveness of a retrieval system. Papers that focus on improving something else or improving the effectiveness of a system that is not a retrieval system are not relevant.\n",
      "\n",
      "Query:  2\n",
      "\tText:\t\tmachine learning language identification\n",
      "\tDescrition:\tWhat papers are about machine learning for language identification?\n",
      "\tNarrative:\tRelevant papers include research on methods of machine learning for language identification or how to improve those methods. Papers that focus on other methods for language identification or the usaged of machine learning not for language identification are not relevant.\n",
      "\n",
      "Query:  3\n",
      "\tText:\t\tsocial media detect self-harm\n",
      "\tDescrition:\tWhich papers focus on how to recognize signs of self-harm in people's social media posts?\n",
      "\tNarrative:\tRelevant papers include research on early detection of self-harm on social media platforms such as Facebook, Instagram, Reddit, Twitter and co. Papers that addresses mental health issues like depression or anorexia are not relevant. Furthermore, papers that deal with self-harm but are not related to social media are also not relevant.\n"
     ]
    }
   ],
   "source": [
    "pt_dataset1 = ir_datasets.load('ir-lab-sose-2024/ir-acl-anthology-20240504-training')\n",
    "print('The dataset has', len(list(pt_dataset1.docs_iter())), 'documents.')\n",
    "for query in list(pt_dataset1.queries_iter())[:3]:\n",
    "    print('\\nQuery: ', query.query_id)\n",
    "\n",
    "    print('\\tText:\\t\\t' + query.default_text())\n",
    "    print('\\tDescrition:\\t' + query.description)\n",
    "    print('\\tNarrative:\\t' + query.narrative)"
   ]
  }
 ],
 "metadata": {
  "kernelspec": {
   "display_name": "Python 3",
   "language": "python",
   "name": "python3"
  },
  "language_info": {
   "codemirror_mode": {
    "name": "ipython",
    "version": 3
   },
   "file_extension": ".py",
   "mimetype": "text/x-python",
   "name": "python",
   "nbconvert_exporter": "python",
   "pygments_lexer": "ipython3",
   "version": "3.10.12"
  }
 },
 "nbformat": 4,
 "nbformat_minor": 2
}
