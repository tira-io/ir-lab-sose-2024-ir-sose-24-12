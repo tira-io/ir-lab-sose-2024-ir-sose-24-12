{
 "cells": [
  {
   "cell_type": "code",
   "execution_count": 1,
   "metadata": {},
   "outputs": [
    {
     "name": "stderr",
     "output_type": "stream",
     "text": [
      "PyTerrier 0.10.0 has loaded Terrier 5.8 (built by craigm on 2023-11-01 18:05) and terrier-helper 0.0.8\n",
      "\n",
      "No etc/terrier.properties, using terrier.default.properties for bootstrap configuration.\n"
     ]
    }
   ],
   "source": [
    "from tira.third_party_integrations import ensure_pyterrier_is_loaded, persist_and_normalize_run, ir_datasets\n",
    "from tira.rest_api_client import Client\n",
    "ensure_pyterrier_is_loaded()\n",
    "import pandas as pd\n",
    "import pyterrier as pt"
   ]
  },
  {
   "cell_type": "code",
   "execution_count": 2,
   "metadata": {},
   "outputs": [],
   "source": [
    "# Create a REST client to the TIRA platform for retrieving the pre-indexed data.\n",
    "ensure_pyterrier_is_loaded()\n",
    "tira = Client()"
   ]
  },
  {
   "cell_type": "code",
   "execution_count": 50,
   "metadata": {},
   "outputs": [
    {
     "name": "stderr",
     "output_type": "stream",
     "text": [
      "ir-lab-sose-2024/ir-acl-anthology-20240504-training documents: 100%|██████████| 126958/126958 [00:02<00:00, 55395.31it/s]"
     ]
    },
    {
     "name": "stdout",
     "output_type": "stream",
     "text": [
      "Files in IR-ACL corpus: 126958 \n"
     ]
    },
    {
     "name": "stderr",
     "output_type": "stream",
     "text": [
      "\n"
     ]
    }
   ],
   "source": [
    "# The dataset: the union of the IR Anthology and the ACL Anthology\n",
    "# This line creates an IRDSDataset object and registers it under the name provided as an argument.\n",
    "dataset = 'ir-lab-sose-2024/ir-acl-anthology-20240504-training'\n",
    "pt_dataset = pt.get_dataset('irds:' + dataset)\n",
    "\n",
    "index = tira.pt.index('ir-lab-sose-2024/tira-ir-starter/Index (tira-ir-starter-pyterrier)', pt_dataset)\n",
    "print(\"Files in IR-ACL corpus: %s \" % len(list(pt_dataset.get_corpus_iter())))\n",
    "\n",
    "\n",
    "# We are using Pisa Index to index the dataset\n",
    "#index = PisaIndex('./index', overwrite=True)\n",
    "#index.index(pt_dataset.get_corpus_iter())\n",
    "\n",
    "# get all topics of training dataset\n",
    "#topics = pt_dataset.get_topics()\n",
    "#topics"
   ]
  },
  {
   "cell_type": "markdown",
   "metadata": {},
   "source": [
    "# We now do Query expansion in order to improve retrieval effectiveness \n",
    "Query expansion generally improves recall, by adding more terms to the query, it broadens the search scope, potentially retrieving more relevant documents. While it could also have a slight negative effect on precision since query expansion might also introdoces irrelevant results. Therefore, we use ndcg_cut_10 and recall_1000 as the evalutation metric."
   ]
  },
  {
   "cell_type": "code",
   "execution_count": 47,
   "metadata": {},
   "outputs": [
    {
     "name": "stdout",
     "output_type": "stream",
     "text": [
      "There are multiple query fields available: ('text', 'title', 'query', 'description', 'narrative'). To use with pyterrier, provide variant or modify dataframe to add query column.\n"
     ]
    },
    {
     "data": {
      "text/html": [
       "<div>\n",
       "<style scoped>\n",
       "    .dataframe tbody tr th:only-of-type {\n",
       "        vertical-align: middle;\n",
       "    }\n",
       "\n",
       "    .dataframe tbody tr th {\n",
       "        vertical-align: top;\n",
       "    }\n",
       "\n",
       "    .dataframe thead th {\n",
       "        text-align: right;\n",
       "    }\n",
       "</style>\n",
       "<table border=\"1\" class=\"dataframe\">\n",
       "  <thead>\n",
       "    <tr style=\"text-align: right;\">\n",
       "      <th></th>\n",
       "      <th>name</th>\n",
       "      <th>ndcg_cut_10</th>\n",
       "      <th>recall_1000</th>\n",
       "    </tr>\n",
       "  </thead>\n",
       "  <tbody>\n",
       "    <tr>\n",
       "      <th>0</th>\n",
       "      <td>BM25</td>\n",
       "      <td>0.462726</td>\n",
       "      <td>0.841521</td>\n",
       "    </tr>\n",
       "    <tr>\n",
       "      <th>1</th>\n",
       "      <td>Js_KLs</td>\n",
       "      <td>0.424393</td>\n",
       "      <td>0.842299</td>\n",
       "    </tr>\n",
       "  </tbody>\n",
       "</table>\n",
       "</div>"
      ],
      "text/plain": [
       "     name  ndcg_cut_10  recall_1000\n",
       "0    BM25     0.462726     0.841521\n",
       "1  Js_KLs     0.424393     0.842299"
      ]
     },
     "execution_count": 47,
     "metadata": {},
     "output_type": "execute_result"
    }
   ],
   "source": [
    "bm25 = pt.BatchRetrieve(index, wmodel=\"BM25\", controls={\"bm25.b\" : 0.1, \"bm25.k_1\": 2.5})\n",
    "\n",
    "js_kls = pt.BatchRetrieve(index, wmodel=\"Js_KLs\")\n",
    "\n",
    "pt.Experiment([bm25, js_kls], pt_dataset.get_topics(), pt_dataset.get_qrels(), eval_metrics=['ndcg_cut_10', 'recall_1000'], names=['BM25', 'Js_KLs'])"
   ]
  },
  {
   "cell_type": "code",
   "execution_count": 48,
   "metadata": {},
   "outputs": [
    {
     "name": "stdout",
     "output_type": "stream",
     "text": [
      "There are multiple query fields available: ('text', 'title', 'query', 'description', 'narrative'). To use with pyterrier, provide variant or modify dataframe to add query column.\n"
     ]
    },
    {
     "data": {
      "text/html": [
       "<div>\n",
       "<style scoped>\n",
       "    .dataframe tbody tr th:only-of-type {\n",
       "        vertical-align: middle;\n",
       "    }\n",
       "\n",
       "    .dataframe tbody tr th {\n",
       "        vertical-align: top;\n",
       "    }\n",
       "\n",
       "    .dataframe thead th {\n",
       "        text-align: right;\n",
       "    }\n",
       "</style>\n",
       "<table border=\"1\" class=\"dataframe\">\n",
       "  <thead>\n",
       "    <tr style=\"text-align: right;\">\n",
       "      <th></th>\n",
       "      <th>name</th>\n",
       "      <th>ndcg_cut_10</th>\n",
       "      <th>recall_1000</th>\n",
       "    </tr>\n",
       "  </thead>\n",
       "  <tbody>\n",
       "    <tr>\n",
       "      <th>0</th>\n",
       "      <td>BM25</td>\n",
       "      <td>0.462726</td>\n",
       "      <td>0.841521</td>\n",
       "    </tr>\n",
       "    <tr>\n",
       "      <th>1</th>\n",
       "      <td>BM25 &gt;&gt; Bo1 &gt;&gt; BM25</td>\n",
       "      <td>0.425518</td>\n",
       "      <td>0.829610</td>\n",
       "    </tr>\n",
       "    <tr>\n",
       "      <th>2</th>\n",
       "      <td>JS_KLS</td>\n",
       "      <td>0.424393</td>\n",
       "      <td>0.842299</td>\n",
       "    </tr>\n",
       "    <tr>\n",
       "      <th>3</th>\n",
       "      <td>JS_KLS &gt;&gt; Bo1 &gt;&gt; JS_KLS</td>\n",
       "      <td>0.428744</td>\n",
       "      <td>0.850608</td>\n",
       "    </tr>\n",
       "    <tr>\n",
       "      <th>4</th>\n",
       "      <td>BM251</td>\n",
       "      <td>0.401907</td>\n",
       "      <td>0.834609</td>\n",
       "    </tr>\n",
       "  </tbody>\n",
       "</table>\n",
       "</div>"
      ],
      "text/plain": [
       "                      name  ndcg_cut_10  recall_1000\n",
       "0                     BM25     0.462726     0.841521\n",
       "1      BM25 >> Bo1 >> BM25     0.425518     0.829610\n",
       "2                   JS_KLS     0.424393     0.842299\n",
       "3  JS_KLS >> Bo1 >> JS_KLS     0.428744     0.850608\n",
       "4                    BM251     0.401907     0.834609"
      ]
     },
     "execution_count": 48,
     "metadata": {},
     "output_type": "execute_result"
    }
   ],
   "source": [
    "if not pt.started():\n",
    "    pt.init(boot_packages=[\"com.github.terrierteam:terrier-prf:-SNAPSHOT\"])\n",
    "\n",
    "bo1_pipe = bm25 >> pt.rewrite.Bo1QueryExpansion(index) >> bm25\n",
    "\n",
    "bo1_pipe1 = js_kls >> pt.rewrite.Bo1QueryExpansion(index) >> js_kls\n",
    "\n",
    "bm251 = pt.BatchRetrieve(index, wmodel=\"BM25\", controls={\"bm25.b\" : 0.7, \"bm25.k_1\": 1.1, \"qe\":\"on\", \"qemodel\" : \"Bo1\"})\n",
    "\n",
    "\n",
    "pt.Experiment([bm25, bo1_pipe, js_kls, bo1_pipe1, bm251], pt_dataset.get_topics(), pt_dataset.get_qrels(), eval_metrics=['ndcg_cut_10', 'recall_1000'], names=['BM25', 'BM25 >> Bo1 >> BM25','JS_KLS', 'JS_KLS >> Bo1 >> JS_KLS', 'BM251'])"
   ]
  },
  {
   "cell_type": "code",
   "execution_count": 6,
   "metadata": {},
   "outputs": [
    {
     "name": "stdout",
     "output_type": "stream",
     "text": [
      "There are multiple query fields available: ('text', 'title', 'query', 'description', 'narrative'). To use with pyterrier, provide variant or modify dataframe to add query column.\n"
     ]
    },
    {
     "data": {
      "text/html": [
       "<div>\n",
       "<style scoped>\n",
       "    .dataframe tbody tr th:only-of-type {\n",
       "        vertical-align: middle;\n",
       "    }\n",
       "\n",
       "    .dataframe tbody tr th {\n",
       "        vertical-align: top;\n",
       "    }\n",
       "\n",
       "    .dataframe thead th {\n",
       "        text-align: right;\n",
       "    }\n",
       "</style>\n",
       "<table border=\"1\" class=\"dataframe\">\n",
       "  <thead>\n",
       "    <tr style=\"text-align: right;\">\n",
       "      <th></th>\n",
       "      <th>name</th>\n",
       "      <th>ndcg_cut_5</th>\n",
       "      <th>recall_1000</th>\n",
       "    </tr>\n",
       "  </thead>\n",
       "  <tbody>\n",
       "    <tr>\n",
       "      <th>0</th>\n",
       "      <td>BM25</td>\n",
       "      <td>0.393650</td>\n",
       "      <td>0.825376</td>\n",
       "    </tr>\n",
       "    <tr>\n",
       "      <th>1</th>\n",
       "      <td>BM25 &gt;&gt; KL &gt;&gt; BM25</td>\n",
       "      <td>0.383947</td>\n",
       "      <td>0.831915</td>\n",
       "    </tr>\n",
       "  </tbody>\n",
       "</table>\n",
       "</div>"
      ],
      "text/plain": [
       "                 name  ndcg_cut_5  recall_1000\n",
       "0                BM25    0.393650     0.825376\n",
       "1  BM25 >> KL >> BM25    0.383947     0.831915"
      ]
     },
     "execution_count": 6,
     "metadata": {},
     "output_type": "execute_result"
    }
   ],
   "source": [
    "kl_pipe = bm25 >> pt.rewrite.KLQueryExpansion(index) >> bm25\n",
    "\n",
    "pt.Experiment([bm25, kl_pipe], pt_dataset.get_topics(), pt_dataset.get_qrels(), eval_metrics=['ndcg_cut_5', 'recall_1000'], names=['BM25', 'BM25 >> KL >> BM25'])"
   ]
  },
  {
   "cell_type": "code",
   "execution_count": 7,
   "metadata": {},
   "outputs": [
    {
     "name": "stdout",
     "output_type": "stream",
     "text": [
      "There are multiple query fields available: ('text', 'title', 'query', 'description', 'narrative'). To use with pyterrier, provide variant or modify dataframe to add query column.\n",
      "09:10:28.129 [main] WARN org.terrier.querying.RM1 - Did not identify any usable candidate expansion terms from docid 125137 among 5 possibilities\n",
      "09:10:28.478 [main] WARN org.terrier.querying.RM1 - Did not identify any usable candidate expansion terms from docid 116910 among 4 possibilities\n"
     ]
    },
    {
     "data": {
      "text/html": [
       "<div>\n",
       "<style scoped>\n",
       "    .dataframe tbody tr th:only-of-type {\n",
       "        vertical-align: middle;\n",
       "    }\n",
       "\n",
       "    .dataframe tbody tr th {\n",
       "        vertical-align: top;\n",
       "    }\n",
       "\n",
       "    .dataframe thead th {\n",
       "        text-align: right;\n",
       "    }\n",
       "</style>\n",
       "<table border=\"1\" class=\"dataframe\">\n",
       "  <thead>\n",
       "    <tr style=\"text-align: right;\">\n",
       "      <th></th>\n",
       "      <th>name</th>\n",
       "      <th>ndcg_cut_5</th>\n",
       "      <th>recall_1000</th>\n",
       "    </tr>\n",
       "  </thead>\n",
       "  <tbody>\n",
       "    <tr>\n",
       "      <th>0</th>\n",
       "      <td>BM25</td>\n",
       "      <td>0.393650</td>\n",
       "      <td>0.825376</td>\n",
       "    </tr>\n",
       "    <tr>\n",
       "      <th>1</th>\n",
       "      <td>BM25 &gt;&gt; RM3 &gt;&gt; BM25</td>\n",
       "      <td>0.341725</td>\n",
       "      <td>0.825062</td>\n",
       "    </tr>\n",
       "  </tbody>\n",
       "</table>\n",
       "</div>"
      ],
      "text/plain": [
       "                  name  ndcg_cut_5  recall_1000\n",
       "0                 BM25    0.393650     0.825376\n",
       "1  BM25 >> RM3 >> BM25    0.341725     0.825062"
      ]
     },
     "execution_count": 7,
     "metadata": {},
     "output_type": "execute_result"
    }
   ],
   "source": [
    "if not pt.started():\n",
    "    pt.init(boot_packages=[\"com.github.terrierteam:terrier-prf:-SNAPSHOT\"])\n",
    "\n",
    "rm3_pipe = bm25 >> pt.rewrite.RM3(index) >> bm25\n",
    "\n",
    "pt.Experiment([bm25, rm3_pipe], pt_dataset.get_topics(), pt_dataset.get_qrels(), eval_metrics=['ndcg_cut_5', 'recall_1000'], names=['BM25', 'BM25 >> RM3 >> BM25'])"
   ]
  },
  {
   "cell_type": "markdown",
   "metadata": {},
   "source": [
    "# Query expansion with LLM´s"
   ]
  },
  {
   "cell_type": "code",
   "execution_count": 8,
   "metadata": {},
   "outputs": [
    {
     "name": "stderr",
     "output_type": "stream",
     "text": [
      "Download: 22.6kiB [00:00, 1.07MiB/s]\n"
     ]
    },
    {
     "name": "stdout",
     "output_type": "stream",
     "text": [
      "Download finished. Extract...\n",
      "Extraction finished:  /root/.tira/extracted_runs/workshop-on-open-web-search/ir-acl-anthology-20240504-training/tu-dresden-03\n"
     ]
    },
    {
     "name": "stderr",
     "output_type": "stream",
     "text": [
      "Download: 3.42kiB [00:00, 13.9MiB/s]\n"
     ]
    },
    {
     "name": "stdout",
     "output_type": "stream",
     "text": [
      "Download finished. Extract...\n",
      "Extraction finished:  /root/.tira/extracted_runs/workshop-on-open-web-search/ir-acl-anthology-20240504-training/tu-dresden-03\n"
     ]
    },
    {
     "name": "stderr",
     "output_type": "stream",
     "text": [
      "Download: 7.72kiB [00:00, 33.3MiB/s]\n"
     ]
    },
    {
     "name": "stdout",
     "output_type": "stream",
     "text": [
      "Download finished. Extract...\n",
      "Extraction finished:  /root/.tira/extracted_runs/ir-benchmarks/ir-acl-anthology-20240504-training/tu-dresden-03\n"
     ]
    },
    {
     "name": "stderr",
     "output_type": "stream",
     "text": [
      "Download: 20.7kiB [00:00, 1.07MiB/s]\n"
     ]
    },
    {
     "name": "stdout",
     "output_type": "stream",
     "text": [
      "Download finished. Extract...\n",
      "Extraction finished:  /root/.tira/extracted_runs/ir-benchmarks/ir-acl-anthology-20240504-training/tu-dresden-03\n"
     ]
    },
    {
     "name": "stderr",
     "output_type": "stream",
     "text": [
      "Download: 3.67kiB [00:00, 10.2MiB/s]\n"
     ]
    },
    {
     "name": "stdout",
     "output_type": "stream",
     "text": [
      "Download finished. Extract...\n",
      "Extraction finished:  /root/.tira/extracted_runs/ir-benchmarks/ir-acl-anthology-20240504-training/tu-dresden-03\n"
     ]
    },
    {
     "name": "stderr",
     "output_type": "stream",
     "text": [
      "Download: 10.0kiB [00:00, 36.1MiB/s]\n"
     ]
    },
    {
     "name": "stdout",
     "output_type": "stream",
     "text": [
      "Download finished. Extract...\n",
      "Extraction finished:  /root/.tira/extracted_runs/ir-benchmarks/ir-acl-anthology-20240504-training/tu-dresden-03\n"
     ]
    },
    {
     "name": "stderr",
     "output_type": "stream",
     "text": [
      "Download: 6.11kiB [00:00, 19.8MiB/s]\n"
     ]
    },
    {
     "name": "stdout",
     "output_type": "stream",
     "text": [
      "Download finished. Extract...\n",
      "Extraction finished:  /root/.tira/extracted_runs/ir-benchmarks/ir-acl-anthology-20240504-training/tu-dresden-03\n"
     ]
    },
    {
     "name": "stderr",
     "output_type": "stream",
     "text": [
      "Download: 3.60kiB [00:00, 19.1MiB/s]\n"
     ]
    },
    {
     "name": "stdout",
     "output_type": "stream",
     "text": [
      "Download finished. Extract...\n",
      "Extraction finished:  /root/.tira/extracted_runs/ir-benchmarks/ir-acl-anthology-20240504-training/tu-dresden-03\n"
     ]
    },
    {
     "name": "stderr",
     "output_type": "stream",
     "text": [
      "Download: 3.63kiB [00:00, 18.0MiB/s]"
     ]
    },
    {
     "name": "stdout",
     "output_type": "stream",
     "text": [
      "Download finished. Extract...\n",
      "Extraction finished:  /root/.tira/extracted_runs/ir-benchmarks/ir-acl-anthology-20240504-training/tu-dresden-03\n"
     ]
    },
    {
     "name": "stderr",
     "output_type": "stream",
     "text": [
      "\n"
     ]
    }
   ],
   "source": [
    "# Load the expansions\n",
    "\n",
    "# llm expansions with gpt\n",
    "gpt_cot = tira.pt.transform_queries('workshop-on-open-web-search/tu-dresden-03/qe-gpt3.5-cot', dataset, prefix='llm_expansion_')\n",
    "gpt_sq_fs = tira.pt.transform_queries('workshop-on-open-web-search/tu-dresden-03/qe-gpt3.5-sq-fs', dataset, prefix='llm_expansion_')\n",
    "gpt_sq_zs = tira.pt.transform_queries('ir-benchmarks/tu-dresden-03/qe-gpt3.5-sq-zs', dataset, prefix='llm_expansion_')\n",
    "\n",
    "# llm expansions with llama\n",
    "llama_cot = tira.pt.transform_queries('ir-benchmarks/tu-dresden-03/qe-llama-cot', dataset, prefix='llm_expansion_')\n",
    "llama_sq_fs = tira.pt.transform_queries('ir-benchmarks/tu-dresden-03/qe-llama-sq-fs', dataset, prefix='llm_expansion_')\n",
    "llama_sq_zs = tira.pt.transform_queries('ir-benchmarks/tu-dresden-03/qe-llama-sq-zs', dataset, prefix='llm_expansion_')\n",
    "\n",
    "# llm expansions with flan-ul2\n",
    "flan_cot = tira.pt.transform_queries('ir-benchmarks/tu-dresden-03/qe-flan-ul2-cot', dataset, prefix='llm_expansion_')\n",
    "flan_sq_fs = tira.pt.transform_queries('ir-benchmarks/tu-dresden-03/qe-flan-ul2-sq-fs', dataset, prefix='llm_expansion_')\n",
    "flan_sq_zs = tira.pt.transform_queries('ir-benchmarks/tu-dresden-03/qe-flan-ul2-sq-zs', dataset, prefix='llm_expansion_')"
   ]
  },
  {
   "cell_type": "code",
   "execution_count": 10,
   "metadata": {},
   "outputs": [
    {
     "data": {
      "text/plain": [
       "{'qid': '1',\n",
       " 'query': 'retrieval system improving effectiveness',\n",
       " 'llm_expansion_query': 'Improving the effectiveness of a retrieval system involves enhancing its ability to accurately and efficiently retrieve relevant information in response to user queries. This can be achieved through various strategies such as:\\n\\n1. **Improved indexing**: By ensuring that all relevant content is properly indexed, including metadata and keywords, the retrieval system can more easily locate and retrieve relevant information.\\n\\n2. **Enhanced search algorithms**: Implementing advanced search algorithms can help the system better understand user queries and match them with relevant content, improving the accuracy of search results.\\n\\n3. **User feedback**: Incorporating user feedback mechanisms can help the system learn from user interactions and improve its performance over time by adjusting search results based on user preferences.\\n\\n4. **Personalization**: Tailoring search results to individual user preferences and behavior can improve the relevance of retrieved information and enhance the overall user experience.\\n\\n5. **Integration of AI and machine learning**: Utilizing artificial intelligence and machine learning technologies can help the retrieval system continuously learn and adapt to changing user needs and preferences'}"
      ]
     },
     "execution_count": 10,
     "metadata": {},
     "output_type": "execute_result"
    }
   ],
   "source": [
    "topics = pt_dataset.get_topics('query')\n",
    "\n",
    "gpt_cot(topics.head(3))\n",
    "gpt_cot(topics.head(3)).iloc[0].to_dict()\n"
   ]
  },
  {
   "cell_type": "code",
   "execution_count": 11,
   "metadata": {},
   "outputs": [],
   "source": [
    "tokeniser = pt.autoclass(\"org.terrier.indexing.tokenisation.Tokeniser\").getTokeniser()\n",
    "\n",
    "def pt_tokenize(text):\n",
    "    return ' '.join(tokeniser.getTokens(text))\n",
    "\n",
    "def expand_query(topic):\n",
    "  ret = ' '.join([topic['query'], topic['query'], topic['query'],  topic['query'],  topic['query'], topic['llm_expansion_query']])\n",
    "\n",
    "  # apply the tokenization\n",
    "  return pt_tokenize(ret)\n",
    "\n",
    "# we wrap this into an pyterrier transformer\n",
    "# Documentation: https://pyterrier.readthedocs.io/en/latest/apply.html\n",
    "pt_expand_query = pt.apply.query(expand_query)"
   ]
  },
  {
   "cell_type": "code",
   "execution_count": 16,
   "metadata": {},
   "outputs": [
    {
     "data": {
      "text/html": [
       "<div>\n",
       "<style scoped>\n",
       "    .dataframe tbody tr th:only-of-type {\n",
       "        vertical-align: middle;\n",
       "    }\n",
       "\n",
       "    .dataframe tbody tr th {\n",
       "        vertical-align: top;\n",
       "    }\n",
       "\n",
       "    .dataframe thead th {\n",
       "        text-align: right;\n",
       "    }\n",
       "</style>\n",
       "<table border=\"1\" class=\"dataframe\">\n",
       "  <thead>\n",
       "    <tr style=\"text-align: right;\">\n",
       "      <th></th>\n",
       "      <th>qid</th>\n",
       "      <th>query_0</th>\n",
       "      <th>llm_expansion_query</th>\n",
       "      <th>query</th>\n",
       "    </tr>\n",
       "  </thead>\n",
       "  <tbody>\n",
       "    <tr>\n",
       "      <th>0</th>\n",
       "      <td>1</td>\n",
       "      <td>retrieval system improving effectiveness</td>\n",
       "      <td>Improving the effectiveness of a retrieval sys...</td>\n",
       "      <td>retrieval system improving effectiveness retri...</td>\n",
       "    </tr>\n",
       "    <tr>\n",
       "      <th>1</th>\n",
       "      <td>2</td>\n",
       "      <td>machine learning language identification</td>\n",
       "      <td>Machine learning language identification is a ...</td>\n",
       "      <td>machine learning language identification machi...</td>\n",
       "    </tr>\n",
       "    <tr>\n",
       "      <th>2</th>\n",
       "      <td>3</td>\n",
       "      <td>social media detect self harm</td>\n",
       "      <td>Social media platforms have implemented variou...</td>\n",
       "      <td>social media detect self harm social media det...</td>\n",
       "    </tr>\n",
       "  </tbody>\n",
       "</table>\n",
       "</div>"
      ],
      "text/plain": [
       "  qid                                   query_0  \\\n",
       "0   1  retrieval system improving effectiveness   \n",
       "1   2  machine learning language identification   \n",
       "2   3             social media detect self harm   \n",
       "\n",
       "                                 llm_expansion_query  \\\n",
       "0  Improving the effectiveness of a retrieval sys...   \n",
       "1  Machine learning language identification is a ...   \n",
       "2  Social media platforms have implemented variou...   \n",
       "\n",
       "                                               query  \n",
       "0  retrieval system improving effectiveness retri...  \n",
       "1  machine learning language identification machi...  \n",
       "2  social media detect self harm social media det...  "
      ]
     },
     "execution_count": 16,
     "metadata": {},
     "output_type": "execute_result"
    }
   ],
   "source": [
    "# Now we can look into some expansion\n",
    "\n",
    "(gpt_cot >> pt_expand_query)(topics.head(3))"
   ]
  },
  {
   "cell_type": "code",
   "execution_count": 17,
   "metadata": {},
   "outputs": [
    {
     "data": {
      "text/plain": [
       "{'qid': '1',\n",
       " 'query_0': 'retrieval system improving effectiveness',\n",
       " 'llm_expansion_query': 'Improving the effectiveness of a retrieval system involves enhancing its ability to accurately and efficiently retrieve relevant information in response to user queries. This can be achieved through various strategies such as:\\n\\n1. **Improved indexing**: By ensuring that all relevant content is properly indexed, including metadata and keywords, the retrieval system can more easily locate and retrieve relevant information.\\n\\n2. **Enhanced search algorithms**: Implementing advanced search algorithms can help the system better understand user queries and match them with relevant content, improving the accuracy of search results.\\n\\n3. **User feedback**: Incorporating user feedback mechanisms can help the system learn from user interactions and improve its performance over time by adjusting search results based on user preferences.\\n\\n4. **Personalization**: Tailoring search results to individual user preferences and behavior can improve the relevance of retrieved information and enhance the overall user experience.\\n\\n5. **Integration of AI and machine learning**: Utilizing artificial intelligence and machine learning technologies can help the retrieval system continuously learn and adapt to changing user needs and preferences',\n",
       " 'query': 'retrieval system improving effectiveness retrieval system improving effectiveness retrieval system improving effectiveness retrieval system improving effectiveness retrieval system improving effectiveness improving the effectiveness of a retrieval system involves enhancing its ability to accurately and efficiently retrieve relevant information in response to user queries this can be achieved through various strategies such as 1 improved indexing by ensuring that all relevant content is properly indexed including metadata and keywords the retrieval system can more easily locate and retrieve relevant information 2 enhanced search algorithms implementing advanced search algorithms can help the system better understand user queries and match them with relevant content improving the accuracy of search results 3 user feedback incorporating user feedback mechanisms can help the system learn from user interactions and improve its performance over time by adjusting search results based on user preferences 4 personalization tailoring search results to individual user preferences and behavior can improve the relevance of retrieved information and enhance the overall user experience 5 integration of ai and machine learning utilizing artificial intelligence and machine learning technologies can help the retrieval system continuously learn and adapt to changing user needs and preferences'}"
      ]
     },
     "execution_count": 17,
     "metadata": {},
     "output_type": "execute_result"
    }
   ],
   "source": [
    "(gpt_cot >> pt_expand_query)(topics.head(3)).iloc[0].to_dict()\n"
   ]
  },
  {
   "cell_type": "code",
   "execution_count": 18,
   "metadata": {},
   "outputs": [],
   "source": [
    "pipeline_gpt_cot = (gpt_cot >> pt_expand_query) >> bm25\n",
    "pipeline_gpt_sq_fs = (gpt_sq_fs >> pt_expand_query) >> bm25\n",
    "pipeline_gpt_sq_zs = (gpt_sq_zs >> pt_expand_query) >> bm25\n",
    "\n",
    "pipeline_llama_cot = (llama_cot >> pt_expand_query) >> bm25\n",
    "pipeline_llama_sq_fs = (llama_sq_fs >> pt_expand_query) >> bm25\n",
    "pipeline_llama_sq_zs = (llama_sq_zs >> pt_expand_query) >> bm25\n",
    "\n",
    "pipeline_flan_cot = (flan_cot >> pt_expand_query) >> bm25\n",
    "pipeline_flan_sq_fs = (flan_sq_fs >> pt_expand_query) >> bm25\n",
    "pipeline_flan_sq_zs = (flan_sq_zs >> pt_expand_query) >> bm25"
   ]
  },
  {
   "cell_type": "code",
   "execution_count": 36,
   "metadata": {},
   "outputs": [
    {
     "name": "stderr",
     "output_type": "stream",
     "text": [
      "pt.Experiment:   8%|▊         | 1/13 [00:01<00:17,  1.48s/system]"
     ]
    },
    {
     "name": "stdout",
     "output_type": "stream",
     "text": [
      "10:29:38.173 [main] WARN org.terrier.querying.RM1 - Did not identify any usable candidate expansion terms from docid 125137 among 5 possibilities\n",
      "10:29:38.336 [main] WARN org.terrier.querying.RM1 - Did not identify any usable candidate expansion terms from docid 116910 among 4 possibilities\n"
     ]
    },
    {
     "name": "stderr",
     "output_type": "stream",
     "text": [
      "pt.Experiment: 100%|██████████| 13/13 [00:32<00:00,  2.51s/system]\n"
     ]
    },
    {
     "data": {
      "text/html": [
       "<div>\n",
       "<style scoped>\n",
       "    .dataframe tbody tr th:only-of-type {\n",
       "        vertical-align: middle;\n",
       "    }\n",
       "\n",
       "    .dataframe tbody tr th {\n",
       "        vertical-align: top;\n",
       "    }\n",
       "\n",
       "    .dataframe thead th {\n",
       "        text-align: right;\n",
       "    }\n",
       "</style>\n",
       "<table border=\"1\" class=\"dataframe\">\n",
       "  <thead>\n",
       "    <tr style=\"text-align: right;\">\n",
       "      <th></th>\n",
       "      <th>name</th>\n",
       "      <th>ndcg_cut_5</th>\n",
       "      <th>recall_1000</th>\n",
       "    </tr>\n",
       "  </thead>\n",
       "  <tbody>\n",
       "    <tr>\n",
       "      <th>0</th>\n",
       "      <td>BM25</td>\n",
       "      <td>0.419737</td>\n",
       "      <td>0.830769</td>\n",
       "    </tr>\n",
       "    <tr>\n",
       "      <th>1</th>\n",
       "      <td>BM25+RM3</td>\n",
       "      <td>0.341725</td>\n",
       "      <td>0.824720</td>\n",
       "    </tr>\n",
       "    <tr>\n",
       "      <th>2</th>\n",
       "      <td>BM25+KL</td>\n",
       "      <td>0.383947</td>\n",
       "      <td>0.831915</td>\n",
       "    </tr>\n",
       "    <tr>\n",
       "      <th>3</th>\n",
       "      <td>BM25+BO1</td>\n",
       "      <td>0.425813</td>\n",
       "      <td>0.834609</td>\n",
       "    </tr>\n",
       "    <tr>\n",
       "      <th>4</th>\n",
       "      <td>BM25+GPT-COT</td>\n",
       "      <td>0.320591</td>\n",
       "      <td>0.825698</td>\n",
       "    </tr>\n",
       "    <tr>\n",
       "      <th>5</th>\n",
       "      <td>BM25+GPT-SQ-FS</td>\n",
       "      <td>0.398788</td>\n",
       "      <td>0.835660</td>\n",
       "    </tr>\n",
       "    <tr>\n",
       "      <th>6</th>\n",
       "      <td>BM25+GPT-SQ-ZS</td>\n",
       "      <td>0.397821</td>\n",
       "      <td>0.829955</td>\n",
       "    </tr>\n",
       "    <tr>\n",
       "      <th>7</th>\n",
       "      <td>BM25+Llama-COT</td>\n",
       "      <td>0.285551</td>\n",
       "      <td>0.783448</td>\n",
       "    </tr>\n",
       "    <tr>\n",
       "      <th>8</th>\n",
       "      <td>BM25+Llama-SQ-FS</td>\n",
       "      <td>0.380488</td>\n",
       "      <td>0.837392</td>\n",
       "    </tr>\n",
       "    <tr>\n",
       "      <th>9</th>\n",
       "      <td>BM25+Llama-SQ-ZS</td>\n",
       "      <td>0.377338</td>\n",
       "      <td>0.839125</td>\n",
       "    </tr>\n",
       "    <tr>\n",
       "      <th>10</th>\n",
       "      <td>BM25+Flan-COT</td>\n",
       "      <td>0.353227</td>\n",
       "      <td>0.831033</td>\n",
       "    </tr>\n",
       "    <tr>\n",
       "      <th>11</th>\n",
       "      <td>BM25+Flan-SQ-FS</td>\n",
       "      <td>0.374224</td>\n",
       "      <td>0.833705</td>\n",
       "    </tr>\n",
       "    <tr>\n",
       "      <th>12</th>\n",
       "      <td>BM25+Flan-SQ-ZS</td>\n",
       "      <td>0.364216</td>\n",
       "      <td>0.824227</td>\n",
       "    </tr>\n",
       "  </tbody>\n",
       "</table>\n",
       "</div>"
      ],
      "text/plain": [
       "                name  ndcg_cut_5  recall_1000\n",
       "0               BM25    0.419737     0.830769\n",
       "1           BM25+RM3    0.341725     0.824720\n",
       "2            BM25+KL    0.383947     0.831915\n",
       "3           BM25+BO1    0.425813     0.834609\n",
       "4       BM25+GPT-COT    0.320591     0.825698\n",
       "5     BM25+GPT-SQ-FS    0.398788     0.835660\n",
       "6     BM25+GPT-SQ-ZS    0.397821     0.829955\n",
       "7     BM25+Llama-COT    0.285551     0.783448\n",
       "8   BM25+Llama-SQ-FS    0.380488     0.837392\n",
       "9   BM25+Llama-SQ-ZS    0.377338     0.839125\n",
       "10     BM25+Flan-COT    0.353227     0.831033\n",
       "11   BM25+Flan-SQ-FS    0.374224     0.833705\n",
       "12   BM25+Flan-SQ-ZS    0.364216     0.824227"
      ]
     },
     "execution_count": 36,
     "metadata": {},
     "output_type": "execute_result"
    }
   ],
   "source": [
    "pt.Experiment(\n",
    "    [bm25, rm3_pipe, kl_pipe, bo1_pipe, pipeline_gpt_cot, pipeline_gpt_sq_fs, pipeline_gpt_sq_zs, pipeline_llama_cot, pipeline_llama_sq_fs, pipeline_llama_sq_zs, pipeline_flan_cot, pipeline_flan_sq_fs, pipeline_flan_sq_zs, ],\n",
    "    names=['BM25', 'BM25+RM3', 'BM25+KL','BM25+BO1', 'BM25+GPT-COT', 'BM25+GPT-SQ-FS', 'BM25+GPT-SQ-ZS', 'BM25+Llama-COT', 'BM25+Llama-SQ-FS', 'BM25+Llama-SQ-ZS', 'BM25+Flan-COT', 'BM25+Flan-SQ-FS', 'BM25+Flan-SQ-ZS'],\n",
    "    topics=topics,\n",
    "    qrels=pt_dataset.get_qrels(),\n",
    "    eval_metrics=['ndcg_cut_5','recall_1000'],\n",
    "    verbose=True,\n",
    ")"
   ]
  },
  {
   "cell_type": "markdown",
   "metadata": {},
   "source": [
    "# Running gridsearch on BM25 to find the best configuration"
   ]
  },
  {
   "cell_type": "code",
   "execution_count": 41,
   "metadata": {},
   "outputs": [],
   "source": [
    "def run_bm25_grid_search_run(index, output_dir, queries):\n",
    "    \"\"\"\n",
    "        defaults: http://terrier.org/docs/current/javadoc/org/terrier/matching/models/BM25.html\n",
    "        k_1 = 1.2d, k_3 = 8d, b = 0.75d\n",
    "        We do not tune parameter k_3, as this parameter only impacts queries with reduntant terms.\n",
    "    \"\"\"\n",
    "    for b in [0.1, 0.2, 0.3, 0.4, 0.5, 0.6, 0.7, 0.8, 0.9, 1.0]:\n",
    "        for k_1 in [0.5, 1.0, 1.5, 2.0, 2.5]:\n",
    "            system = f'bm25-b={b}-k_1={k_1}'\n",
    "            configuration = {\"bm25.b\" : b, \"bm25.k_1\": k_1}\n",
    "            run_output_dir = output_dir + '/' + system\n",
    "            !rm -Rf {run_output_dir}\n",
    "            !mkdir -p {run_output_dir}\n",
    "            print(f'Run {system}')\n",
    "            BM25 = pt.BatchRetrieve(index, wmodel=\"BM25\", controls=configuration, verbose=True)\n",
    "            run = BM25(queries)\n",
    "            persist_and_normalize_run(run, system, run_output_dir)"
   ]
  },
  {
   "cell_type": "code",
   "execution_count": 42,
   "metadata": {},
   "outputs": [
    {
     "data": {
      "text/html": [
       "<div>\n",
       "<style scoped>\n",
       "    .dataframe tbody tr th:only-of-type {\n",
       "        vertical-align: middle;\n",
       "    }\n",
       "\n",
       "    .dataframe tbody tr th {\n",
       "        vertical-align: top;\n",
       "    }\n",
       "\n",
       "    .dataframe thead th {\n",
       "        text-align: right;\n",
       "    }\n",
       "</style>\n",
       "<table border=\"1\" class=\"dataframe\">\n",
       "  <thead>\n",
       "    <tr style=\"text-align: right;\">\n",
       "      <th></th>\n",
       "      <th>qid</th>\n",
       "      <th>query</th>\n",
       "    </tr>\n",
       "  </thead>\n",
       "  <tbody>\n",
       "    <tr>\n",
       "      <th>0</th>\n",
       "      <td>1</td>\n",
       "      <td>retrieval system improving effectiveness</td>\n",
       "    </tr>\n",
       "    <tr>\n",
       "      <th>1</th>\n",
       "      <td>2</td>\n",
       "      <td>machine learning language identification</td>\n",
       "    </tr>\n",
       "    <tr>\n",
       "      <th>2</th>\n",
       "      <td>3</td>\n",
       "      <td>social media detect self harm</td>\n",
       "    </tr>\n",
       "  </tbody>\n",
       "</table>\n",
       "</div>"
      ],
      "text/plain": [
       "  qid                                      query\n",
       "0   1   retrieval system improving effectiveness\n",
       "1   2   machine learning language identification\n",
       "2   3              social media detect self harm"
      ]
     },
     "execution_count": 42,
     "metadata": {},
     "output_type": "execute_result"
    }
   ],
   "source": [
    "dataset_tira = ir_datasets.load(dataset)\n",
    "queries = pt.io.read_topics(ir_datasets.topics_file(dataset), format='trecxml')\n",
    "\n",
    "queries.head(3)"
   ]
  },
  {
   "cell_type": "code",
   "execution_count": 43,
   "metadata": {},
   "outputs": [
    {
     "name": "stdout",
     "output_type": "stream",
     "text": [
      "Run bm25-b=0.1-k_1=0.5\n"
     ]
    },
    {
     "name": "stderr",
     "output_type": "stream",
     "text": [
      "BR(BM25): 100%|██████████| 68/68 [00:01<00:00, 43.71q/s]\n"
     ]
    },
    {
     "name": "stdout",
     "output_type": "stream",
     "text": [
      "The run file is normalized outside the TIRA sandbox, I will store it at \"grid-search/training/bm25-b=0.1-k_1=0.5\".\n",
      "Done. run file is stored under \"grid-search/training/bm25-b=0.1-k_1=0.5/run.txt\".\n",
      "Run bm25-b=0.1-k_1=1.0\n"
     ]
    },
    {
     "name": "stderr",
     "output_type": "stream",
     "text": [
      "BR(BM25): 100%|██████████| 68/68 [00:01<00:00, 50.68q/s]\n"
     ]
    },
    {
     "name": "stdout",
     "output_type": "stream",
     "text": [
      "The run file is normalized outside the TIRA sandbox, I will store it at \"grid-search/training/bm25-b=0.1-k_1=1.0\".\n",
      "Done. run file is stored under \"grid-search/training/bm25-b=0.1-k_1=1.0/run.txt\".\n",
      "Run bm25-b=0.1-k_1=1.5\n"
     ]
    },
    {
     "name": "stderr",
     "output_type": "stream",
     "text": [
      "BR(BM25): 100%|██████████| 68/68 [00:01<00:00, 53.47q/s]\n"
     ]
    },
    {
     "name": "stdout",
     "output_type": "stream",
     "text": [
      "The run file is normalized outside the TIRA sandbox, I will store it at \"grid-search/training/bm25-b=0.1-k_1=1.5\".\n",
      "Done. run file is stored under \"grid-search/training/bm25-b=0.1-k_1=1.5/run.txt\".\n",
      "Run bm25-b=0.1-k_1=2.0\n"
     ]
    },
    {
     "name": "stderr",
     "output_type": "stream",
     "text": [
      "BR(BM25): 100%|██████████| 68/68 [00:01<00:00, 49.64q/s]\n"
     ]
    },
    {
     "name": "stdout",
     "output_type": "stream",
     "text": [
      "The run file is normalized outside the TIRA sandbox, I will store it at \"grid-search/training/bm25-b=0.1-k_1=2.0\".\n",
      "Done. run file is stored under \"grid-search/training/bm25-b=0.1-k_1=2.0/run.txt\".\n",
      "Run bm25-b=0.1-k_1=2.5\n"
     ]
    },
    {
     "name": "stderr",
     "output_type": "stream",
     "text": [
      "BR(BM25): 100%|██████████| 68/68 [00:01<00:00, 50.65q/s]\n"
     ]
    },
    {
     "name": "stdout",
     "output_type": "stream",
     "text": [
      "The run file is normalized outside the TIRA sandbox, I will store it at \"grid-search/training/bm25-b=0.1-k_1=2.5\".\n",
      "Done. run file is stored under \"grid-search/training/bm25-b=0.1-k_1=2.5/run.txt\".\n",
      "Run bm25-b=0.2-k_1=0.5\n"
     ]
    },
    {
     "name": "stderr",
     "output_type": "stream",
     "text": [
      "BR(BM25): 100%|██████████| 68/68 [00:01<00:00, 46.85q/s]\n"
     ]
    },
    {
     "name": "stdout",
     "output_type": "stream",
     "text": [
      "The run file is normalized outside the TIRA sandbox, I will store it at \"grid-search/training/bm25-b=0.2-k_1=0.5\".\n",
      "Done. run file is stored under \"grid-search/training/bm25-b=0.2-k_1=0.5/run.txt\".\n",
      "Run bm25-b=0.2-k_1=1.0\n"
     ]
    },
    {
     "name": "stderr",
     "output_type": "stream",
     "text": [
      "BR(BM25): 100%|██████████| 68/68 [00:01<00:00, 51.25q/s]\n"
     ]
    },
    {
     "name": "stdout",
     "output_type": "stream",
     "text": [
      "The run file is normalized outside the TIRA sandbox, I will store it at \"grid-search/training/bm25-b=0.2-k_1=1.0\".\n",
      "Done. run file is stored under \"grid-search/training/bm25-b=0.2-k_1=1.0/run.txt\".\n",
      "Run bm25-b=0.2-k_1=1.5\n"
     ]
    },
    {
     "name": "stderr",
     "output_type": "stream",
     "text": [
      "BR(BM25): 100%|██████████| 68/68 [00:01<00:00, 54.33q/s]\n"
     ]
    },
    {
     "name": "stdout",
     "output_type": "stream",
     "text": [
      "The run file is normalized outside the TIRA sandbox, I will store it at \"grid-search/training/bm25-b=0.2-k_1=1.5\".\n",
      "Done. run file is stored under \"grid-search/training/bm25-b=0.2-k_1=1.5/run.txt\".\n",
      "Run bm25-b=0.2-k_1=2.0\n"
     ]
    },
    {
     "name": "stderr",
     "output_type": "stream",
     "text": [
      "BR(BM25): 100%|██████████| 68/68 [00:01<00:00, 51.01q/s]\n"
     ]
    },
    {
     "name": "stdout",
     "output_type": "stream",
     "text": [
      "The run file is normalized outside the TIRA sandbox, I will store it at \"grid-search/training/bm25-b=0.2-k_1=2.0\".\n",
      "Done. run file is stored under \"grid-search/training/bm25-b=0.2-k_1=2.0/run.txt\".\n",
      "Run bm25-b=0.2-k_1=2.5\n"
     ]
    },
    {
     "name": "stderr",
     "output_type": "stream",
     "text": [
      "BR(BM25): 100%|██████████| 68/68 [00:01<00:00, 55.83q/s]\n"
     ]
    },
    {
     "name": "stdout",
     "output_type": "stream",
     "text": [
      "The run file is normalized outside the TIRA sandbox, I will store it at \"grid-search/training/bm25-b=0.2-k_1=2.5\".\n",
      "Done. run file is stored under \"grid-search/training/bm25-b=0.2-k_1=2.5/run.txt\".\n",
      "Run bm25-b=0.3-k_1=0.5\n"
     ]
    },
    {
     "name": "stderr",
     "output_type": "stream",
     "text": [
      "BR(BM25): 100%|██████████| 68/68 [00:01<00:00, 51.79q/s]\n"
     ]
    },
    {
     "name": "stdout",
     "output_type": "stream",
     "text": [
      "The run file is normalized outside the TIRA sandbox, I will store it at \"grid-search/training/bm25-b=0.3-k_1=0.5\".\n",
      "Done. run file is stored under \"grid-search/training/bm25-b=0.3-k_1=0.5/run.txt\".\n",
      "Run bm25-b=0.3-k_1=1.0\n"
     ]
    },
    {
     "name": "stderr",
     "output_type": "stream",
     "text": [
      "BR(BM25): 100%|██████████| 68/68 [00:01<00:00, 51.98q/s]\n"
     ]
    },
    {
     "name": "stdout",
     "output_type": "stream",
     "text": [
      "The run file is normalized outside the TIRA sandbox, I will store it at \"grid-search/training/bm25-b=0.3-k_1=1.0\".\n",
      "Done. run file is stored under \"grid-search/training/bm25-b=0.3-k_1=1.0/run.txt\".\n",
      "Run bm25-b=0.3-k_1=1.5\n"
     ]
    },
    {
     "name": "stderr",
     "output_type": "stream",
     "text": [
      "BR(BM25): 100%|██████████| 68/68 [00:01<00:00, 52.49q/s]\n"
     ]
    },
    {
     "name": "stdout",
     "output_type": "stream",
     "text": [
      "The run file is normalized outside the TIRA sandbox, I will store it at \"grid-search/training/bm25-b=0.3-k_1=1.5\".\n",
      "Done. run file is stored under \"grid-search/training/bm25-b=0.3-k_1=1.5/run.txt\".\n",
      "Run bm25-b=0.3-k_1=2.0\n"
     ]
    },
    {
     "name": "stderr",
     "output_type": "stream",
     "text": [
      "BR(BM25): 100%|██████████| 68/68 [00:01<00:00, 50.15q/s]\n"
     ]
    },
    {
     "name": "stdout",
     "output_type": "stream",
     "text": [
      "The run file is normalized outside the TIRA sandbox, I will store it at \"grid-search/training/bm25-b=0.3-k_1=2.0\".\n",
      "Done. run file is stored under \"grid-search/training/bm25-b=0.3-k_1=2.0/run.txt\".\n",
      "Run bm25-b=0.3-k_1=2.5\n"
     ]
    },
    {
     "name": "stderr",
     "output_type": "stream",
     "text": [
      "BR(BM25): 100%|██████████| 68/68 [00:01<00:00, 52.76q/s]\n"
     ]
    },
    {
     "name": "stdout",
     "output_type": "stream",
     "text": [
      "The run file is normalized outside the TIRA sandbox, I will store it at \"grid-search/training/bm25-b=0.3-k_1=2.5\".\n",
      "Done. run file is stored under \"grid-search/training/bm25-b=0.3-k_1=2.5/run.txt\".\n",
      "Run bm25-b=0.4-k_1=0.5\n"
     ]
    },
    {
     "name": "stderr",
     "output_type": "stream",
     "text": [
      "BR(BM25): 100%|██████████| 68/68 [00:01<00:00, 45.93q/s]\n"
     ]
    },
    {
     "name": "stdout",
     "output_type": "stream",
     "text": [
      "The run file is normalized outside the TIRA sandbox, I will store it at \"grid-search/training/bm25-b=0.4-k_1=0.5\".\n",
      "Done. run file is stored under \"grid-search/training/bm25-b=0.4-k_1=0.5/run.txt\".\n",
      "Run bm25-b=0.4-k_1=1.0\n"
     ]
    },
    {
     "name": "stderr",
     "output_type": "stream",
     "text": [
      "BR(BM25): 100%|██████████| 68/68 [00:01<00:00, 53.15q/s]\n"
     ]
    },
    {
     "name": "stdout",
     "output_type": "stream",
     "text": [
      "The run file is normalized outside the TIRA sandbox, I will store it at \"grid-search/training/bm25-b=0.4-k_1=1.0\".\n",
      "Done. run file is stored under \"grid-search/training/bm25-b=0.4-k_1=1.0/run.txt\".\n",
      "Run bm25-b=0.4-k_1=1.5\n"
     ]
    },
    {
     "name": "stderr",
     "output_type": "stream",
     "text": [
      "BR(BM25): 100%|██████████| 68/68 [00:01<00:00, 46.97q/s]\n"
     ]
    },
    {
     "name": "stdout",
     "output_type": "stream",
     "text": [
      "The run file is normalized outside the TIRA sandbox, I will store it at \"grid-search/training/bm25-b=0.4-k_1=1.5\".\n",
      "Done. run file is stored under \"grid-search/training/bm25-b=0.4-k_1=1.5/run.txt\".\n",
      "Run bm25-b=0.4-k_1=2.0\n"
     ]
    },
    {
     "name": "stderr",
     "output_type": "stream",
     "text": [
      "BR(BM25): 100%|██████████| 68/68 [00:01<00:00, 53.90q/s]\n"
     ]
    },
    {
     "name": "stdout",
     "output_type": "stream",
     "text": [
      "The run file is normalized outside the TIRA sandbox, I will store it at \"grid-search/training/bm25-b=0.4-k_1=2.0\".\n",
      "Done. run file is stored under \"grid-search/training/bm25-b=0.4-k_1=2.0/run.txt\".\n",
      "Run bm25-b=0.4-k_1=2.5\n"
     ]
    },
    {
     "name": "stderr",
     "output_type": "stream",
     "text": [
      "BR(BM25): 100%|██████████| 68/68 [00:01<00:00, 59.09q/s]\n"
     ]
    },
    {
     "name": "stdout",
     "output_type": "stream",
     "text": [
      "The run file is normalized outside the TIRA sandbox, I will store it at \"grid-search/training/bm25-b=0.4-k_1=2.5\".\n",
      "Done. run file is stored under \"grid-search/training/bm25-b=0.4-k_1=2.5/run.txt\".\n",
      "Run bm25-b=0.5-k_1=0.5\n"
     ]
    },
    {
     "name": "stderr",
     "output_type": "stream",
     "text": [
      "BR(BM25): 100%|██████████| 68/68 [00:01<00:00, 50.06q/s]\n"
     ]
    },
    {
     "name": "stdout",
     "output_type": "stream",
     "text": [
      "The run file is normalized outside the TIRA sandbox, I will store it at \"grid-search/training/bm25-b=0.5-k_1=0.5\".\n",
      "Done. run file is stored under \"grid-search/training/bm25-b=0.5-k_1=0.5/run.txt\".\n",
      "Run bm25-b=0.5-k_1=1.0\n"
     ]
    },
    {
     "name": "stderr",
     "output_type": "stream",
     "text": [
      "BR(BM25): 100%|██████████| 68/68 [00:01<00:00, 58.31q/s]\n"
     ]
    },
    {
     "name": "stdout",
     "output_type": "stream",
     "text": [
      "The run file is normalized outside the TIRA sandbox, I will store it at \"grid-search/training/bm25-b=0.5-k_1=1.0\".\n",
      "Done. run file is stored under \"grid-search/training/bm25-b=0.5-k_1=1.0/run.txt\".\n",
      "Run bm25-b=0.5-k_1=1.5\n"
     ]
    },
    {
     "name": "stderr",
     "output_type": "stream",
     "text": [
      "BR(BM25): 100%|██████████| 68/68 [00:01<00:00, 46.67q/s]\n"
     ]
    },
    {
     "name": "stdout",
     "output_type": "stream",
     "text": [
      "The run file is normalized outside the TIRA sandbox, I will store it at \"grid-search/training/bm25-b=0.5-k_1=1.5\".\n",
      "Done. run file is stored under \"grid-search/training/bm25-b=0.5-k_1=1.5/run.txt\".\n",
      "Run bm25-b=0.5-k_1=2.0\n"
     ]
    },
    {
     "name": "stderr",
     "output_type": "stream",
     "text": [
      "BR(BM25): 100%|██████████| 68/68 [00:01<00:00, 46.39q/s]\n"
     ]
    },
    {
     "name": "stdout",
     "output_type": "stream",
     "text": [
      "The run file is normalized outside the TIRA sandbox, I will store it at \"grid-search/training/bm25-b=0.5-k_1=2.0\".\n",
      "Done. run file is stored under \"grid-search/training/bm25-b=0.5-k_1=2.0/run.txt\".\n",
      "Run bm25-b=0.5-k_1=2.5\n"
     ]
    },
    {
     "name": "stderr",
     "output_type": "stream",
     "text": [
      "BR(BM25): 100%|██████████| 68/68 [00:01<00:00, 55.52q/s]\n"
     ]
    },
    {
     "name": "stdout",
     "output_type": "stream",
     "text": [
      "The run file is normalized outside the TIRA sandbox, I will store it at \"grid-search/training/bm25-b=0.5-k_1=2.5\".\n",
      "Done. run file is stored under \"grid-search/training/bm25-b=0.5-k_1=2.5/run.txt\".\n",
      "Run bm25-b=0.6-k_1=0.5\n"
     ]
    },
    {
     "name": "stderr",
     "output_type": "stream",
     "text": [
      "BR(BM25): 100%|██████████| 68/68 [00:01<00:00, 50.52q/s]\n"
     ]
    },
    {
     "name": "stdout",
     "output_type": "stream",
     "text": [
      "The run file is normalized outside the TIRA sandbox, I will store it at \"grid-search/training/bm25-b=0.6-k_1=0.5\".\n",
      "Done. run file is stored under \"grid-search/training/bm25-b=0.6-k_1=0.5/run.txt\".\n",
      "Run bm25-b=0.6-k_1=1.0\n"
     ]
    },
    {
     "name": "stderr",
     "output_type": "stream",
     "text": [
      "BR(BM25): 100%|██████████| 68/68 [00:01<00:00, 54.66q/s]\n"
     ]
    },
    {
     "name": "stdout",
     "output_type": "stream",
     "text": [
      "The run file is normalized outside the TIRA sandbox, I will store it at \"grid-search/training/bm25-b=0.6-k_1=1.0\".\n",
      "Done. run file is stored under \"grid-search/training/bm25-b=0.6-k_1=1.0/run.txt\".\n",
      "Run bm25-b=0.6-k_1=1.5\n"
     ]
    },
    {
     "name": "stderr",
     "output_type": "stream",
     "text": [
      "BR(BM25): 100%|██████████| 68/68 [00:01<00:00, 45.33q/s]\n"
     ]
    },
    {
     "name": "stdout",
     "output_type": "stream",
     "text": [
      "The run file is normalized outside the TIRA sandbox, I will store it at \"grid-search/training/bm25-b=0.6-k_1=1.5\".\n",
      "Done. run file is stored under \"grid-search/training/bm25-b=0.6-k_1=1.5/run.txt\".\n",
      "Run bm25-b=0.6-k_1=2.0\n"
     ]
    },
    {
     "name": "stderr",
     "output_type": "stream",
     "text": [
      "BR(BM25): 100%|██████████| 68/68 [00:01<00:00, 46.49q/s]\n"
     ]
    },
    {
     "name": "stdout",
     "output_type": "stream",
     "text": [
      "The run file is normalized outside the TIRA sandbox, I will store it at \"grid-search/training/bm25-b=0.6-k_1=2.0\".\n",
      "Done. run file is stored under \"grid-search/training/bm25-b=0.6-k_1=2.0/run.txt\".\n",
      "Run bm25-b=0.6-k_1=2.5\n"
     ]
    },
    {
     "name": "stderr",
     "output_type": "stream",
     "text": [
      "BR(BM25): 100%|██████████| 68/68 [00:01<00:00, 51.53q/s]\n"
     ]
    },
    {
     "name": "stdout",
     "output_type": "stream",
     "text": [
      "The run file is normalized outside the TIRA sandbox, I will store it at \"grid-search/training/bm25-b=0.6-k_1=2.5\".\n",
      "Done. run file is stored under \"grid-search/training/bm25-b=0.6-k_1=2.5/run.txt\".\n",
      "Run bm25-b=0.7-k_1=0.5\n"
     ]
    },
    {
     "name": "stderr",
     "output_type": "stream",
     "text": [
      "BR(BM25): 100%|██████████| 68/68 [00:01<00:00, 54.16q/s]\n"
     ]
    },
    {
     "name": "stdout",
     "output_type": "stream",
     "text": [
      "The run file is normalized outside the TIRA sandbox, I will store it at \"grid-search/training/bm25-b=0.7-k_1=0.5\".\n",
      "Done. run file is stored under \"grid-search/training/bm25-b=0.7-k_1=0.5/run.txt\".\n",
      "Run bm25-b=0.7-k_1=1.0\n"
     ]
    },
    {
     "name": "stderr",
     "output_type": "stream",
     "text": [
      "BR(BM25): 100%|██████████| 68/68 [00:01<00:00, 58.13q/s]\n"
     ]
    },
    {
     "name": "stdout",
     "output_type": "stream",
     "text": [
      "The run file is normalized outside the TIRA sandbox, I will store it at \"grid-search/training/bm25-b=0.7-k_1=1.0\".\n",
      "Done. run file is stored under \"grid-search/training/bm25-b=0.7-k_1=1.0/run.txt\".\n",
      "Run bm25-b=0.7-k_1=1.5\n"
     ]
    },
    {
     "name": "stderr",
     "output_type": "stream",
     "text": [
      "BR(BM25): 100%|██████████| 68/68 [00:01<00:00, 43.85q/s]\n"
     ]
    },
    {
     "name": "stdout",
     "output_type": "stream",
     "text": [
      "The run file is normalized outside the TIRA sandbox, I will store it at \"grid-search/training/bm25-b=0.7-k_1=1.5\".\n",
      "Done. run file is stored under \"grid-search/training/bm25-b=0.7-k_1=1.5/run.txt\".\n",
      "Run bm25-b=0.7-k_1=2.0\n"
     ]
    },
    {
     "name": "stderr",
     "output_type": "stream",
     "text": [
      "BR(BM25): 100%|██████████| 68/68 [00:01<00:00, 48.63q/s]\n"
     ]
    },
    {
     "name": "stdout",
     "output_type": "stream",
     "text": [
      "The run file is normalized outside the TIRA sandbox, I will store it at \"grid-search/training/bm25-b=0.7-k_1=2.0\".\n",
      "Done. run file is stored under \"grid-search/training/bm25-b=0.7-k_1=2.0/run.txt\".\n",
      "Run bm25-b=0.7-k_1=2.5\n"
     ]
    },
    {
     "name": "stderr",
     "output_type": "stream",
     "text": [
      "BR(BM25): 100%|██████████| 68/68 [00:01<00:00, 59.05q/s]\n"
     ]
    },
    {
     "name": "stdout",
     "output_type": "stream",
     "text": [
      "The run file is normalized outside the TIRA sandbox, I will store it at \"grid-search/training/bm25-b=0.7-k_1=2.5\".\n",
      "Done. run file is stored under \"grid-search/training/bm25-b=0.7-k_1=2.5/run.txt\".\n",
      "Run bm25-b=0.8-k_1=0.5\n"
     ]
    },
    {
     "name": "stderr",
     "output_type": "stream",
     "text": [
      "BR(BM25): 100%|██████████| 68/68 [00:01<00:00, 50.51q/s]\n"
     ]
    },
    {
     "name": "stdout",
     "output_type": "stream",
     "text": [
      "The run file is normalized outside the TIRA sandbox, I will store it at \"grid-search/training/bm25-b=0.8-k_1=0.5\".\n",
      "Done. run file is stored under \"grid-search/training/bm25-b=0.8-k_1=0.5/run.txt\".\n",
      "Run bm25-b=0.8-k_1=1.0\n"
     ]
    },
    {
     "name": "stderr",
     "output_type": "stream",
     "text": [
      "BR(BM25): 100%|██████████| 68/68 [00:01<00:00, 47.43q/s]\n"
     ]
    },
    {
     "name": "stdout",
     "output_type": "stream",
     "text": [
      "The run file is normalized outside the TIRA sandbox, I will store it at \"grid-search/training/bm25-b=0.8-k_1=1.0\".\n",
      "Done. run file is stored under \"grid-search/training/bm25-b=0.8-k_1=1.0/run.txt\".\n",
      "Run bm25-b=0.8-k_1=1.5\n"
     ]
    },
    {
     "name": "stderr",
     "output_type": "stream",
     "text": [
      "BR(BM25): 100%|██████████| 68/68 [00:01<00:00, 56.23q/s]\n"
     ]
    },
    {
     "name": "stdout",
     "output_type": "stream",
     "text": [
      "The run file is normalized outside the TIRA sandbox, I will store it at \"grid-search/training/bm25-b=0.8-k_1=1.5\".\n",
      "Done. run file is stored under \"grid-search/training/bm25-b=0.8-k_1=1.5/run.txt\".\n",
      "Run bm25-b=0.8-k_1=2.0\n"
     ]
    },
    {
     "name": "stderr",
     "output_type": "stream",
     "text": [
      "BR(BM25): 100%|██████████| 68/68 [00:01<00:00, 51.68q/s]\n"
     ]
    },
    {
     "name": "stdout",
     "output_type": "stream",
     "text": [
      "The run file is normalized outside the TIRA sandbox, I will store it at \"grid-search/training/bm25-b=0.8-k_1=2.0\".\n",
      "Done. run file is stored under \"grid-search/training/bm25-b=0.8-k_1=2.0/run.txt\".\n",
      "Run bm25-b=0.8-k_1=2.5\n"
     ]
    },
    {
     "name": "stderr",
     "output_type": "stream",
     "text": [
      "BR(BM25): 100%|██████████| 68/68 [00:01<00:00, 52.12q/s]\n"
     ]
    },
    {
     "name": "stdout",
     "output_type": "stream",
     "text": [
      "The run file is normalized outside the TIRA sandbox, I will store it at \"grid-search/training/bm25-b=0.8-k_1=2.5\".\n",
      "Done. run file is stored under \"grid-search/training/bm25-b=0.8-k_1=2.5/run.txt\".\n",
      "Run bm25-b=0.9-k_1=0.5\n"
     ]
    },
    {
     "name": "stderr",
     "output_type": "stream",
     "text": [
      "BR(BM25): 100%|██████████| 68/68 [00:01<00:00, 47.90q/s]\n"
     ]
    },
    {
     "name": "stdout",
     "output_type": "stream",
     "text": [
      "The run file is normalized outside the TIRA sandbox, I will store it at \"grid-search/training/bm25-b=0.9-k_1=0.5\".\n",
      "Done. run file is stored under \"grid-search/training/bm25-b=0.9-k_1=0.5/run.txt\".\n",
      "Run bm25-b=0.9-k_1=1.0\n"
     ]
    },
    {
     "name": "stderr",
     "output_type": "stream",
     "text": [
      "BR(BM25): 100%|██████████| 68/68 [00:01<00:00, 52.28q/s]\n"
     ]
    },
    {
     "name": "stdout",
     "output_type": "stream",
     "text": [
      "The run file is normalized outside the TIRA sandbox, I will store it at \"grid-search/training/bm25-b=0.9-k_1=1.0\".\n",
      "Done. run file is stored under \"grid-search/training/bm25-b=0.9-k_1=1.0/run.txt\".\n",
      "Run bm25-b=0.9-k_1=1.5\n"
     ]
    },
    {
     "name": "stderr",
     "output_type": "stream",
     "text": [
      "BR(BM25): 100%|██████████| 68/68 [00:01<00:00, 57.62q/s]\n"
     ]
    },
    {
     "name": "stdout",
     "output_type": "stream",
     "text": [
      "The run file is normalized outside the TIRA sandbox, I will store it at \"grid-search/training/bm25-b=0.9-k_1=1.5\".\n",
      "Done. run file is stored under \"grid-search/training/bm25-b=0.9-k_1=1.5/run.txt\".\n",
      "Run bm25-b=0.9-k_1=2.0\n"
     ]
    },
    {
     "name": "stderr",
     "output_type": "stream",
     "text": [
      "BR(BM25): 100%|██████████| 68/68 [00:01<00:00, 43.35q/s]\n"
     ]
    },
    {
     "name": "stdout",
     "output_type": "stream",
     "text": [
      "The run file is normalized outside the TIRA sandbox, I will store it at \"grid-search/training/bm25-b=0.9-k_1=2.0\".\n",
      "Done. run file is stored under \"grid-search/training/bm25-b=0.9-k_1=2.0/run.txt\".\n",
      "Run bm25-b=0.9-k_1=2.5\n"
     ]
    },
    {
     "name": "stderr",
     "output_type": "stream",
     "text": [
      "BR(BM25): 100%|██████████| 68/68 [00:01<00:00, 45.93q/s]\n"
     ]
    },
    {
     "name": "stdout",
     "output_type": "stream",
     "text": [
      "The run file is normalized outside the TIRA sandbox, I will store it at \"grid-search/training/bm25-b=0.9-k_1=2.5\".\n",
      "Done. run file is stored under \"grid-search/training/bm25-b=0.9-k_1=2.5/run.txt\".\n",
      "Run bm25-b=1.0-k_1=0.5\n"
     ]
    },
    {
     "name": "stderr",
     "output_type": "stream",
     "text": [
      "BR(BM25): 100%|██████████| 68/68 [00:01<00:00, 56.17q/s]\n"
     ]
    },
    {
     "name": "stdout",
     "output_type": "stream",
     "text": [
      "The run file is normalized outside the TIRA sandbox, I will store it at \"grid-search/training/bm25-b=1.0-k_1=0.5\".\n",
      "Done. run file is stored under \"grid-search/training/bm25-b=1.0-k_1=0.5/run.txt\".\n",
      "Run bm25-b=1.0-k_1=1.0\n"
     ]
    },
    {
     "name": "stderr",
     "output_type": "stream",
     "text": [
      "BR(BM25): 100%|██████████| 68/68 [00:01<00:00, 49.85q/s]\n"
     ]
    },
    {
     "name": "stdout",
     "output_type": "stream",
     "text": [
      "The run file is normalized outside the TIRA sandbox, I will store it at \"grid-search/training/bm25-b=1.0-k_1=1.0\".\n",
      "Done. run file is stored under \"grid-search/training/bm25-b=1.0-k_1=1.0/run.txt\".\n",
      "Run bm25-b=1.0-k_1=1.5\n"
     ]
    },
    {
     "name": "stderr",
     "output_type": "stream",
     "text": [
      "BR(BM25): 100%|██████████| 68/68 [00:01<00:00, 51.50q/s]\n"
     ]
    },
    {
     "name": "stdout",
     "output_type": "stream",
     "text": [
      "The run file is normalized outside the TIRA sandbox, I will store it at \"grid-search/training/bm25-b=1.0-k_1=1.5\".\n",
      "Done. run file is stored under \"grid-search/training/bm25-b=1.0-k_1=1.5/run.txt\".\n",
      "Run bm25-b=1.0-k_1=2.0\n"
     ]
    },
    {
     "name": "stderr",
     "output_type": "stream",
     "text": [
      "BR(BM25): 100%|██████████| 68/68 [00:01<00:00, 45.40q/s]\n"
     ]
    },
    {
     "name": "stdout",
     "output_type": "stream",
     "text": [
      "The run file is normalized outside the TIRA sandbox, I will store it at \"grid-search/training/bm25-b=1.0-k_1=2.0\".\n",
      "Done. run file is stored under \"grid-search/training/bm25-b=1.0-k_1=2.0/run.txt\".\n",
      "Run bm25-b=1.0-k_1=2.5\n"
     ]
    },
    {
     "name": "stderr",
     "output_type": "stream",
     "text": [
      "BR(BM25): 100%|██████████| 68/68 [00:01<00:00, 54.45q/s]\n"
     ]
    },
    {
     "name": "stdout",
     "output_type": "stream",
     "text": [
      "The run file is normalized outside the TIRA sandbox, I will store it at \"grid-search/training/bm25-b=1.0-k_1=2.5\".\n",
      "Done. run file is stored under \"grid-search/training/bm25-b=1.0-k_1=2.5/run.txt\".\n"
     ]
    }
   ],
   "source": [
    "run_bm25_grid_search_run(index, 'grid-search/training', queries)"
   ]
  },
  {
   "cell_type": "markdown",
   "metadata": {},
   "source": [
    "# Part 2: Evaluate all Configurations of the Grid Search"
   ]
  },
  {
   "cell_type": "code",
   "execution_count": 44,
   "metadata": {},
   "outputs": [],
   "source": [
    "from trectools import TrecRun, TrecQrel, TrecEval\n",
    "from tira.rest_api_client import Client\n",
    "from glob import glob\n",
    "import pandas as pd\n",
    "tira = Client()\n",
    "\n",
    "def load_qrels(dataset):\n",
    "    return TrecQrel(tira.download_dataset('ir-lab-sose-2024', dataset, truth_dataset=True) + '/qrels.txt')\n",
    "\n",
    "training_qrels = load_qrels('ir-acl-anthology-20240504-training')"
   ]
  },
  {
   "cell_type": "code",
   "execution_count": 45,
   "metadata": {},
   "outputs": [],
   "source": [
    "def evaluate_run(run_dir, qrels):\n",
    "    run = TrecRun(run_dir + '/run.txt')\n",
    "    trec_eval = TrecEval(run, qrels)\n",
    "\n",
    "    return {\n",
    "        'run': run.get_runid(),\n",
    "        'nDCG@10': trec_eval.get_ndcg(depth=10),\n",
    "        'nDCG@10 (unjudgedRemoved)': trec_eval.get_ndcg(depth=10, removeUnjudged=True),\n",
    "        'MAP': trec_eval.get_map(depth=10),\n",
    "        'MRR': trec_eval.get_reciprocal_rank(),\n",
    "        'P@10': trec_eval.get_precision(depth=10)\n",
    "    }"
   ]
  },
  {
   "cell_type": "code",
   "execution_count": 46,
   "metadata": {},
   "outputs": [
    {
     "name": "stderr",
     "output_type": "stream",
     "text": [
      "/usr/local/lib/python3.10/dist-packages/trectools/trec_eval.py:294: FutureWarning: The default of observed=False is deprecated and will be changed to True in a future version of pandas. Pass observed=False to retain current behavior or observed=True to adopt the future default and silence this warning.\n",
      "  selection = selection[~selection[\"rel\"].isnull()].groupby(\"query\").first().copy()\n",
      "/usr/local/lib/python3.10/dist-packages/trectools/trec_eval.py:294: FutureWarning: The default of observed=False is deprecated and will be changed to True in a future version of pandas. Pass observed=False to retain current behavior or observed=True to adopt the future default and silence this warning.\n",
      "  selection = selection[~selection[\"rel\"].isnull()].groupby(\"query\").first().copy()\n",
      "/usr/local/lib/python3.10/dist-packages/trectools/trec_eval.py:294: FutureWarning: The default of observed=False is deprecated and will be changed to True in a future version of pandas. Pass observed=False to retain current behavior or observed=True to adopt the future default and silence this warning.\n",
      "  selection = selection[~selection[\"rel\"].isnull()].groupby(\"query\").first().copy()\n",
      "/usr/local/lib/python3.10/dist-packages/trectools/trec_eval.py:294: FutureWarning: The default of observed=False is deprecated and will be changed to True in a future version of pandas. Pass observed=False to retain current behavior or observed=True to adopt the future default and silence this warning.\n",
      "  selection = selection[~selection[\"rel\"].isnull()].groupby(\"query\").first().copy()\n",
      "/usr/local/lib/python3.10/dist-packages/trectools/trec_eval.py:294: FutureWarning: The default of observed=False is deprecated and will be changed to True in a future version of pandas. Pass observed=False to retain current behavior or observed=True to adopt the future default and silence this warning.\n",
      "  selection = selection[~selection[\"rel\"].isnull()].groupby(\"query\").first().copy()\n",
      "/usr/local/lib/python3.10/dist-packages/trectools/trec_eval.py:294: FutureWarning: The default of observed=False is deprecated and will be changed to True in a future version of pandas. Pass observed=False to retain current behavior or observed=True to adopt the future default and silence this warning.\n",
      "  selection = selection[~selection[\"rel\"].isnull()].groupby(\"query\").first().copy()\n",
      "/usr/local/lib/python3.10/dist-packages/trectools/trec_eval.py:294: FutureWarning: The default of observed=False is deprecated and will be changed to True in a future version of pandas. Pass observed=False to retain current behavior or observed=True to adopt the future default and silence this warning.\n",
      "  selection = selection[~selection[\"rel\"].isnull()].groupby(\"query\").first().copy()\n",
      "/usr/local/lib/python3.10/dist-packages/trectools/trec_eval.py:294: FutureWarning: The default of observed=False is deprecated and will be changed to True in a future version of pandas. Pass observed=False to retain current behavior or observed=True to adopt the future default and silence this warning.\n",
      "  selection = selection[~selection[\"rel\"].isnull()].groupby(\"query\").first().copy()\n",
      "/usr/local/lib/python3.10/dist-packages/trectools/trec_eval.py:294: FutureWarning: The default of observed=False is deprecated and will be changed to True in a future version of pandas. Pass observed=False to retain current behavior or observed=True to adopt the future default and silence this warning.\n",
      "  selection = selection[~selection[\"rel\"].isnull()].groupby(\"query\").first().copy()\n",
      "/usr/local/lib/python3.10/dist-packages/trectools/trec_eval.py:294: FutureWarning: The default of observed=False is deprecated and will be changed to True in a future version of pandas. Pass observed=False to retain current behavior or observed=True to adopt the future default and silence this warning.\n",
      "  selection = selection[~selection[\"rel\"].isnull()].groupby(\"query\").first().copy()\n",
      "/usr/local/lib/python3.10/dist-packages/trectools/trec_eval.py:294: FutureWarning: The default of observed=False is deprecated and will be changed to True in a future version of pandas. Pass observed=False to retain current behavior or observed=True to adopt the future default and silence this warning.\n",
      "  selection = selection[~selection[\"rel\"].isnull()].groupby(\"query\").first().copy()\n",
      "/usr/local/lib/python3.10/dist-packages/trectools/trec_eval.py:294: FutureWarning: The default of observed=False is deprecated and will be changed to True in a future version of pandas. Pass observed=False to retain current behavior or observed=True to adopt the future default and silence this warning.\n",
      "  selection = selection[~selection[\"rel\"].isnull()].groupby(\"query\").first().copy()\n",
      "/usr/local/lib/python3.10/dist-packages/trectools/trec_eval.py:294: FutureWarning: The default of observed=False is deprecated and will be changed to True in a future version of pandas. Pass observed=False to retain current behavior or observed=True to adopt the future default and silence this warning.\n",
      "  selection = selection[~selection[\"rel\"].isnull()].groupby(\"query\").first().copy()\n",
      "/usr/local/lib/python3.10/dist-packages/trectools/trec_eval.py:294: FutureWarning: The default of observed=False is deprecated and will be changed to True in a future version of pandas. Pass observed=False to retain current behavior or observed=True to adopt the future default and silence this warning.\n",
      "  selection = selection[~selection[\"rel\"].isnull()].groupby(\"query\").first().copy()\n",
      "/usr/local/lib/python3.10/dist-packages/trectools/trec_eval.py:294: FutureWarning: The default of observed=False is deprecated and will be changed to True in a future version of pandas. Pass observed=False to retain current behavior or observed=True to adopt the future default and silence this warning.\n",
      "  selection = selection[~selection[\"rel\"].isnull()].groupby(\"query\").first().copy()\n",
      "/usr/local/lib/python3.10/dist-packages/trectools/trec_eval.py:294: FutureWarning: The default of observed=False is deprecated and will be changed to True in a future version of pandas. Pass observed=False to retain current behavior or observed=True to adopt the future default and silence this warning.\n",
      "  selection = selection[~selection[\"rel\"].isnull()].groupby(\"query\").first().copy()\n",
      "/usr/local/lib/python3.10/dist-packages/trectools/trec_eval.py:294: FutureWarning: The default of observed=False is deprecated and will be changed to True in a future version of pandas. Pass observed=False to retain current behavior or observed=True to adopt the future default and silence this warning.\n",
      "  selection = selection[~selection[\"rel\"].isnull()].groupby(\"query\").first().copy()\n",
      "/usr/local/lib/python3.10/dist-packages/trectools/trec_eval.py:294: FutureWarning: The default of observed=False is deprecated and will be changed to True in a future version of pandas. Pass observed=False to retain current behavior or observed=True to adopt the future default and silence this warning.\n",
      "  selection = selection[~selection[\"rel\"].isnull()].groupby(\"query\").first().copy()\n",
      "/usr/local/lib/python3.10/dist-packages/trectools/trec_eval.py:294: FutureWarning: The default of observed=False is deprecated and will be changed to True in a future version of pandas. Pass observed=False to retain current behavior or observed=True to adopt the future default and silence this warning.\n",
      "  selection = selection[~selection[\"rel\"].isnull()].groupby(\"query\").first().copy()\n",
      "/usr/local/lib/python3.10/dist-packages/trectools/trec_eval.py:294: FutureWarning: The default of observed=False is deprecated and will be changed to True in a future version of pandas. Pass observed=False to retain current behavior or observed=True to adopt the future default and silence this warning.\n",
      "  selection = selection[~selection[\"rel\"].isnull()].groupby(\"query\").first().copy()\n",
      "/usr/local/lib/python3.10/dist-packages/trectools/trec_eval.py:294: FutureWarning: The default of observed=False is deprecated and will be changed to True in a future version of pandas. Pass observed=False to retain current behavior or observed=True to adopt the future default and silence this warning.\n",
      "  selection = selection[~selection[\"rel\"].isnull()].groupby(\"query\").first().copy()\n",
      "/usr/local/lib/python3.10/dist-packages/trectools/trec_eval.py:294: FutureWarning: The default of observed=False is deprecated and will be changed to True in a future version of pandas. Pass observed=False to retain current behavior or observed=True to adopt the future default and silence this warning.\n",
      "  selection = selection[~selection[\"rel\"].isnull()].groupby(\"query\").first().copy()\n",
      "/usr/local/lib/python3.10/dist-packages/trectools/trec_eval.py:294: FutureWarning: The default of observed=False is deprecated and will be changed to True in a future version of pandas. Pass observed=False to retain current behavior or observed=True to adopt the future default and silence this warning.\n",
      "  selection = selection[~selection[\"rel\"].isnull()].groupby(\"query\").first().copy()\n",
      "/usr/local/lib/python3.10/dist-packages/trectools/trec_eval.py:294: FutureWarning: The default of observed=False is deprecated and will be changed to True in a future version of pandas. Pass observed=False to retain current behavior or observed=True to adopt the future default and silence this warning.\n",
      "  selection = selection[~selection[\"rel\"].isnull()].groupby(\"query\").first().copy()\n",
      "/usr/local/lib/python3.10/dist-packages/trectools/trec_eval.py:294: FutureWarning: The default of observed=False is deprecated and will be changed to True in a future version of pandas. Pass observed=False to retain current behavior or observed=True to adopt the future default and silence this warning.\n",
      "  selection = selection[~selection[\"rel\"].isnull()].groupby(\"query\").first().copy()\n",
      "/usr/local/lib/python3.10/dist-packages/trectools/trec_eval.py:294: FutureWarning: The default of observed=False is deprecated and will be changed to True in a future version of pandas. Pass observed=False to retain current behavior or observed=True to adopt the future default and silence this warning.\n",
      "  selection = selection[~selection[\"rel\"].isnull()].groupby(\"query\").first().copy()\n",
      "/usr/local/lib/python3.10/dist-packages/trectools/trec_eval.py:294: FutureWarning: The default of observed=False is deprecated and will be changed to True in a future version of pandas. Pass observed=False to retain current behavior or observed=True to adopt the future default and silence this warning.\n",
      "  selection = selection[~selection[\"rel\"].isnull()].groupby(\"query\").first().copy()\n",
      "/usr/local/lib/python3.10/dist-packages/trectools/trec_eval.py:294: FutureWarning: The default of observed=False is deprecated and will be changed to True in a future version of pandas. Pass observed=False to retain current behavior or observed=True to adopt the future default and silence this warning.\n",
      "  selection = selection[~selection[\"rel\"].isnull()].groupby(\"query\").first().copy()\n",
      "/usr/local/lib/python3.10/dist-packages/trectools/trec_eval.py:294: FutureWarning: The default of observed=False is deprecated and will be changed to True in a future version of pandas. Pass observed=False to retain current behavior or observed=True to adopt the future default and silence this warning.\n",
      "  selection = selection[~selection[\"rel\"].isnull()].groupby(\"query\").first().copy()\n",
      "/usr/local/lib/python3.10/dist-packages/trectools/trec_eval.py:294: FutureWarning: The default of observed=False is deprecated and will be changed to True in a future version of pandas. Pass observed=False to retain current behavior or observed=True to adopt the future default and silence this warning.\n",
      "  selection = selection[~selection[\"rel\"].isnull()].groupby(\"query\").first().copy()\n",
      "/usr/local/lib/python3.10/dist-packages/trectools/trec_eval.py:294: FutureWarning: The default of observed=False is deprecated and will be changed to True in a future version of pandas. Pass observed=False to retain current behavior or observed=True to adopt the future default and silence this warning.\n",
      "  selection = selection[~selection[\"rel\"].isnull()].groupby(\"query\").first().copy()\n",
      "/usr/local/lib/python3.10/dist-packages/trectools/trec_eval.py:294: FutureWarning: The default of observed=False is deprecated and will be changed to True in a future version of pandas. Pass observed=False to retain current behavior or observed=True to adopt the future default and silence this warning.\n",
      "  selection = selection[~selection[\"rel\"].isnull()].groupby(\"query\").first().copy()\n",
      "/usr/local/lib/python3.10/dist-packages/trectools/trec_eval.py:294: FutureWarning: The default of observed=False is deprecated and will be changed to True in a future version of pandas. Pass observed=False to retain current behavior or observed=True to adopt the future default and silence this warning.\n",
      "  selection = selection[~selection[\"rel\"].isnull()].groupby(\"query\").first().copy()\n",
      "/usr/local/lib/python3.10/dist-packages/trectools/trec_eval.py:294: FutureWarning: The default of observed=False is deprecated and will be changed to True in a future version of pandas. Pass observed=False to retain current behavior or observed=True to adopt the future default and silence this warning.\n",
      "  selection = selection[~selection[\"rel\"].isnull()].groupby(\"query\").first().copy()\n",
      "/usr/local/lib/python3.10/dist-packages/trectools/trec_eval.py:294: FutureWarning: The default of observed=False is deprecated and will be changed to True in a future version of pandas. Pass observed=False to retain current behavior or observed=True to adopt the future default and silence this warning.\n",
      "  selection = selection[~selection[\"rel\"].isnull()].groupby(\"query\").first().copy()\n",
      "/usr/local/lib/python3.10/dist-packages/trectools/trec_eval.py:294: FutureWarning: The default of observed=False is deprecated and will be changed to True in a future version of pandas. Pass observed=False to retain current behavior or observed=True to adopt the future default and silence this warning.\n",
      "  selection = selection[~selection[\"rel\"].isnull()].groupby(\"query\").first().copy()\n",
      "/usr/local/lib/python3.10/dist-packages/trectools/trec_eval.py:294: FutureWarning: The default of observed=False is deprecated and will be changed to True in a future version of pandas. Pass observed=False to retain current behavior or observed=True to adopt the future default and silence this warning.\n",
      "  selection = selection[~selection[\"rel\"].isnull()].groupby(\"query\").first().copy()\n",
      "/usr/local/lib/python3.10/dist-packages/trectools/trec_eval.py:294: FutureWarning: The default of observed=False is deprecated and will be changed to True in a future version of pandas. Pass observed=False to retain current behavior or observed=True to adopt the future default and silence this warning.\n",
      "  selection = selection[~selection[\"rel\"].isnull()].groupby(\"query\").first().copy()\n",
      "/usr/local/lib/python3.10/dist-packages/trectools/trec_eval.py:294: FutureWarning: The default of observed=False is deprecated and will be changed to True in a future version of pandas. Pass observed=False to retain current behavior or observed=True to adopt the future default and silence this warning.\n",
      "  selection = selection[~selection[\"rel\"].isnull()].groupby(\"query\").first().copy()\n",
      "/usr/local/lib/python3.10/dist-packages/trectools/trec_eval.py:294: FutureWarning: The default of observed=False is deprecated and will be changed to True in a future version of pandas. Pass observed=False to retain current behavior or observed=True to adopt the future default and silence this warning.\n",
      "  selection = selection[~selection[\"rel\"].isnull()].groupby(\"query\").first().copy()\n",
      "/usr/local/lib/python3.10/dist-packages/trectools/trec_eval.py:294: FutureWarning: The default of observed=False is deprecated and will be changed to True in a future version of pandas. Pass observed=False to retain current behavior or observed=True to adopt the future default and silence this warning.\n",
      "  selection = selection[~selection[\"rel\"].isnull()].groupby(\"query\").first().copy()\n",
      "/usr/local/lib/python3.10/dist-packages/trectools/trec_eval.py:294: FutureWarning: The default of observed=False is deprecated and will be changed to True in a future version of pandas. Pass observed=False to retain current behavior or observed=True to adopt the future default and silence this warning.\n",
      "  selection = selection[~selection[\"rel\"].isnull()].groupby(\"query\").first().copy()\n",
      "/usr/local/lib/python3.10/dist-packages/trectools/trec_eval.py:294: FutureWarning: The default of observed=False is deprecated and will be changed to True in a future version of pandas. Pass observed=False to retain current behavior or observed=True to adopt the future default and silence this warning.\n",
      "  selection = selection[~selection[\"rel\"].isnull()].groupby(\"query\").first().copy()\n",
      "/usr/local/lib/python3.10/dist-packages/trectools/trec_eval.py:294: FutureWarning: The default of observed=False is deprecated and will be changed to True in a future version of pandas. Pass observed=False to retain current behavior or observed=True to adopt the future default and silence this warning.\n",
      "  selection = selection[~selection[\"rel\"].isnull()].groupby(\"query\").first().copy()\n",
      "/usr/local/lib/python3.10/dist-packages/trectools/trec_eval.py:294: FutureWarning: The default of observed=False is deprecated and will be changed to True in a future version of pandas. Pass observed=False to retain current behavior or observed=True to adopt the future default and silence this warning.\n",
      "  selection = selection[~selection[\"rel\"].isnull()].groupby(\"query\").first().copy()\n",
      "/usr/local/lib/python3.10/dist-packages/trectools/trec_eval.py:294: FutureWarning: The default of observed=False is deprecated and will be changed to True in a future version of pandas. Pass observed=False to retain current behavior or observed=True to adopt the future default and silence this warning.\n",
      "  selection = selection[~selection[\"rel\"].isnull()].groupby(\"query\").first().copy()\n",
      "/usr/local/lib/python3.10/dist-packages/trectools/trec_eval.py:294: FutureWarning: The default of observed=False is deprecated and will be changed to True in a future version of pandas. Pass observed=False to retain current behavior or observed=True to adopt the future default and silence this warning.\n",
      "  selection = selection[~selection[\"rel\"].isnull()].groupby(\"query\").first().copy()\n",
      "/usr/local/lib/python3.10/dist-packages/trectools/trec_eval.py:294: FutureWarning: The default of observed=False is deprecated and will be changed to True in a future version of pandas. Pass observed=False to retain current behavior or observed=True to adopt the future default and silence this warning.\n",
      "  selection = selection[~selection[\"rel\"].isnull()].groupby(\"query\").first().copy()\n",
      "/usr/local/lib/python3.10/dist-packages/trectools/trec_eval.py:294: FutureWarning: The default of observed=False is deprecated and will be changed to True in a future version of pandas. Pass observed=False to retain current behavior or observed=True to adopt the future default and silence this warning.\n",
      "  selection = selection[~selection[\"rel\"].isnull()].groupby(\"query\").first().copy()\n",
      "/usr/local/lib/python3.10/dist-packages/trectools/trec_eval.py:294: FutureWarning: The default of observed=False is deprecated and will be changed to True in a future version of pandas. Pass observed=False to retain current behavior or observed=True to adopt the future default and silence this warning.\n",
      "  selection = selection[~selection[\"rel\"].isnull()].groupby(\"query\").first().copy()\n",
      "/usr/local/lib/python3.10/dist-packages/trectools/trec_eval.py:294: FutureWarning: The default of observed=False is deprecated and will be changed to True in a future version of pandas. Pass observed=False to retain current behavior or observed=True to adopt the future default and silence this warning.\n",
      "  selection = selection[~selection[\"rel\"].isnull()].groupby(\"query\").first().copy()\n",
      "/usr/local/lib/python3.10/dist-packages/trectools/trec_eval.py:294: FutureWarning: The default of observed=False is deprecated and will be changed to True in a future version of pandas. Pass observed=False to retain current behavior or observed=True to adopt the future default and silence this warning.\n",
      "  selection = selection[~selection[\"rel\"].isnull()].groupby(\"query\").first().copy()\n",
      "/usr/local/lib/python3.10/dist-packages/trectools/trec_eval.py:294: FutureWarning: The default of observed=False is deprecated and will be changed to True in a future version of pandas. Pass observed=False to retain current behavior or observed=True to adopt the future default and silence this warning.\n",
      "  selection = selection[~selection[\"rel\"].isnull()].groupby(\"query\").first().copy()\n",
      "/usr/local/lib/python3.10/dist-packages/trectools/trec_eval.py:294: FutureWarning: The default of observed=False is deprecated and will be changed to True in a future version of pandas. Pass observed=False to retain current behavior or observed=True to adopt the future default and silence this warning.\n",
      "  selection = selection[~selection[\"rel\"].isnull()].groupby(\"query\").first().copy()\n",
      "/usr/local/lib/python3.10/dist-packages/trectools/trec_eval.py:294: FutureWarning: The default of observed=False is deprecated and will be changed to True in a future version of pandas. Pass observed=False to retain current behavior or observed=True to adopt the future default and silence this warning.\n",
      "  selection = selection[~selection[\"rel\"].isnull()].groupby(\"query\").first().copy()\n",
      "/usr/local/lib/python3.10/dist-packages/trectools/trec_eval.py:294: FutureWarning: The default of observed=False is deprecated and will be changed to True in a future version of pandas. Pass observed=False to retain current behavior or observed=True to adopt the future default and silence this warning.\n",
      "  selection = selection[~selection[\"rel\"].isnull()].groupby(\"query\").first().copy()\n",
      "/usr/local/lib/python3.10/dist-packages/trectools/trec_eval.py:294: FutureWarning: The default of observed=False is deprecated and will be changed to True in a future version of pandas. Pass observed=False to retain current behavior or observed=True to adopt the future default and silence this warning.\n",
      "  selection = selection[~selection[\"rel\"].isnull()].groupby(\"query\").first().copy()\n",
      "/usr/local/lib/python3.10/dist-packages/trectools/trec_eval.py:294: FutureWarning: The default of observed=False is deprecated and will be changed to True in a future version of pandas. Pass observed=False to retain current behavior or observed=True to adopt the future default and silence this warning.\n",
      "  selection = selection[~selection[\"rel\"].isnull()].groupby(\"query\").first().copy()\n",
      "/usr/local/lib/python3.10/dist-packages/trectools/trec_eval.py:294: FutureWarning: The default of observed=False is deprecated and will be changed to True in a future version of pandas. Pass observed=False to retain current behavior or observed=True to adopt the future default and silence this warning.\n",
      "  selection = selection[~selection[\"rel\"].isnull()].groupby(\"query\").first().copy()\n"
     ]
    },
    {
     "data": {
      "text/html": [
       "<div>\n",
       "<style scoped>\n",
       "    .dataframe tbody tr th:only-of-type {\n",
       "        vertical-align: middle;\n",
       "    }\n",
       "\n",
       "    .dataframe tbody tr th {\n",
       "        vertical-align: top;\n",
       "    }\n",
       "\n",
       "    .dataframe thead th {\n",
       "        text-align: right;\n",
       "    }\n",
       "</style>\n",
       "<table border=\"1\" class=\"dataframe\">\n",
       "  <thead>\n",
       "    <tr style=\"text-align: right;\">\n",
       "      <th></th>\n",
       "      <th>run</th>\n",
       "      <th>nDCG@10</th>\n",
       "      <th>nDCG@10 (unjudgedRemoved)</th>\n",
       "      <th>MAP</th>\n",
       "      <th>MRR</th>\n",
       "      <th>P@10</th>\n",
       "    </tr>\n",
       "  </thead>\n",
       "  <tbody>\n",
       "    <tr>\n",
       "      <th>7</th>\n",
       "      <td>bm25-b=0.1-k_1=2.5</td>\n",
       "      <td>0.462726</td>\n",
       "      <td>0.641795</td>\n",
       "      <td>0.179720</td>\n",
       "      <td>0.655873</td>\n",
       "      <td>0.423529</td>\n",
       "    </tr>\n",
       "    <tr>\n",
       "      <th>26</th>\n",
       "      <td>bm25-b=0.1-k_1=2.0</td>\n",
       "      <td>0.461514</td>\n",
       "      <td>0.648075</td>\n",
       "      <td>0.180537</td>\n",
       "      <td>0.655465</td>\n",
       "      <td>0.422059</td>\n",
       "    </tr>\n",
       "    <tr>\n",
       "      <th>32</th>\n",
       "      <td>bm25-b=0.3-k_1=2.0</td>\n",
       "      <td>0.459020</td>\n",
       "      <td>0.663377</td>\n",
       "      <td>0.183024</td>\n",
       "      <td>0.650911</td>\n",
       "      <td>0.413235</td>\n",
       "    </tr>\n",
       "    <tr>\n",
       "      <th>39</th>\n",
       "      <td>bm25-b=0.2-k_1=1.5</td>\n",
       "      <td>0.457576</td>\n",
       "      <td>0.658266</td>\n",
       "      <td>0.182425</td>\n",
       "      <td>0.649682</td>\n",
       "      <td>0.414706</td>\n",
       "    </tr>\n",
       "    <tr>\n",
       "      <th>45</th>\n",
       "      <td>bm25-b=0.3-k_1=1.5</td>\n",
       "      <td>0.457530</td>\n",
       "      <td>0.667294</td>\n",
       "      <td>0.184446</td>\n",
       "      <td>0.659185</td>\n",
       "      <td>0.410294</td>\n",
       "    </tr>\n",
       "    <tr>\n",
       "      <th>11</th>\n",
       "      <td>bm25-b=0.1-k_1=1.5</td>\n",
       "      <td>0.456357</td>\n",
       "      <td>0.650468</td>\n",
       "      <td>0.180736</td>\n",
       "      <td>0.658769</td>\n",
       "      <td>0.413235</td>\n",
       "    </tr>\n",
       "    <tr>\n",
       "      <th>25</th>\n",
       "      <td>bm25-b=0.2-k_1=2.5</td>\n",
       "      <td>0.455446</td>\n",
       "      <td>0.653018</td>\n",
       "      <td>0.179566</td>\n",
       "      <td>0.643231</td>\n",
       "      <td>0.411765</td>\n",
       "    </tr>\n",
       "    <tr>\n",
       "      <th>57</th>\n",
       "      <td>bm25-b=0.2-k_1=2.0</td>\n",
       "      <td>0.455056</td>\n",
       "      <td>0.657161</td>\n",
       "      <td>0.179490</td>\n",
       "      <td>0.637603</td>\n",
       "      <td>0.414706</td>\n",
       "    </tr>\n",
       "    <tr>\n",
       "      <th>49</th>\n",
       "      <td>bm25-b=0.3-k_1=2.5</td>\n",
       "      <td>0.452102</td>\n",
       "      <td>0.662991</td>\n",
       "      <td>0.178927</td>\n",
       "      <td>0.628244</td>\n",
       "      <td>0.408824</td>\n",
       "    </tr>\n",
       "    <tr>\n",
       "      <th>50</th>\n",
       "      <td>bm25-b=0.2-k_1=1.0</td>\n",
       "      <td>0.451857</td>\n",
       "      <td>0.653390</td>\n",
       "      <td>0.182458</td>\n",
       "      <td>0.670712</td>\n",
       "      <td>0.400000</td>\n",
       "    </tr>\n",
       "    <tr>\n",
       "      <th>3</th>\n",
       "      <td>bm25-b=0.3-k_1=1.0</td>\n",
       "      <td>0.451151</td>\n",
       "      <td>0.661597</td>\n",
       "      <td>0.184544</td>\n",
       "      <td>0.657754</td>\n",
       "      <td>0.400000</td>\n",
       "    </tr>\n",
       "    <tr>\n",
       "      <th>58</th>\n",
       "      <td>bm25-b=0.1-k_1=1.0</td>\n",
       "      <td>0.447987</td>\n",
       "      <td>0.646299</td>\n",
       "      <td>0.179990</td>\n",
       "      <td>0.671737</td>\n",
       "      <td>0.397059</td>\n",
       "    </tr>\n",
       "    <tr>\n",
       "      <th>55</th>\n",
       "      <td>bm25-b=0.2-k_1=0.5</td>\n",
       "      <td>0.445091</td>\n",
       "      <td>0.652918</td>\n",
       "      <td>0.178593</td>\n",
       "      <td>0.678663</td>\n",
       "      <td>0.389706</td>\n",
       "    </tr>\n",
       "    <tr>\n",
       "      <th>16</th>\n",
       "      <td>bm25-b=0.4-k_1=2.0</td>\n",
       "      <td>0.439235</td>\n",
       "      <td>0.664951</td>\n",
       "      <td>0.173590</td>\n",
       "      <td>0.608799</td>\n",
       "      <td>0.400000</td>\n",
       "    </tr>\n",
       "    <tr>\n",
       "      <th>19</th>\n",
       "      <td>bm25-b=0.4-k_1=1.0</td>\n",
       "      <td>0.438658</td>\n",
       "      <td>0.662393</td>\n",
       "      <td>0.178370</td>\n",
       "      <td>0.645119</td>\n",
       "      <td>0.385294</td>\n",
       "    </tr>\n",
       "    <tr>\n",
       "      <th>21</th>\n",
       "      <td>bm25-b=0.3-k_1=0.5</td>\n",
       "      <td>0.436104</td>\n",
       "      <td>0.650681</td>\n",
       "      <td>0.175755</td>\n",
       "      <td>0.668683</td>\n",
       "      <td>0.377941</td>\n",
       "    </tr>\n",
       "    <tr>\n",
       "      <th>8</th>\n",
       "      <td>bm25-b=0.4-k_1=2.5</td>\n",
       "      <td>0.435633</td>\n",
       "      <td>0.663951</td>\n",
       "      <td>0.170976</td>\n",
       "      <td>0.613535</td>\n",
       "      <td>0.392647</td>\n",
       "    </tr>\n",
       "    <tr>\n",
       "      <th>36</th>\n",
       "      <td>bm25-b=0.1-k_1=0.5</td>\n",
       "      <td>0.435330</td>\n",
       "      <td>0.640755</td>\n",
       "      <td>0.172077</td>\n",
       "      <td>0.675471</td>\n",
       "      <td>0.382353</td>\n",
       "    </tr>\n",
       "    <tr>\n",
       "      <th>34</th>\n",
       "      <td>bm25-b=0.4-k_1=1.5</td>\n",
       "      <td>0.434272</td>\n",
       "      <td>0.668321</td>\n",
       "      <td>0.174334</td>\n",
       "      <td>0.625752</td>\n",
       "      <td>0.386765</td>\n",
       "    </tr>\n",
       "    <tr>\n",
       "      <th>48</th>\n",
       "      <td>bm25-b=0.5-k_1=2.0</td>\n",
       "      <td>0.424763</td>\n",
       "      <td>0.660640</td>\n",
       "      <td>0.165292</td>\n",
       "      <td>0.595222</td>\n",
       "      <td>0.389706</td>\n",
       "    </tr>\n",
       "    <tr>\n",
       "      <th>33</th>\n",
       "      <td>bm25-b=0.4-k_1=0.5</td>\n",
       "      <td>0.424272</td>\n",
       "      <td>0.651740</td>\n",
       "      <td>0.169049</td>\n",
       "      <td>0.628871</td>\n",
       "      <td>0.373529</td>\n",
       "    </tr>\n",
       "    <tr>\n",
       "      <th>30</th>\n",
       "      <td>bm25-b=0.5-k_1=1.5</td>\n",
       "      <td>0.422647</td>\n",
       "      <td>0.659992</td>\n",
       "      <td>0.169416</td>\n",
       "      <td>0.603143</td>\n",
       "      <td>0.380882</td>\n",
       "    </tr>\n",
       "    <tr>\n",
       "      <th>4</th>\n",
       "      <td>bm25-b=0.5-k_1=1.0</td>\n",
       "      <td>0.422346</td>\n",
       "      <td>0.664457</td>\n",
       "      <td>0.169852</td>\n",
       "      <td>0.607248</td>\n",
       "      <td>0.373529</td>\n",
       "    </tr>\n",
       "    <tr>\n",
       "      <th>44</th>\n",
       "      <td>bm25-b=0.5-k_1=2.5</td>\n",
       "      <td>0.420076</td>\n",
       "      <td>0.663702</td>\n",
       "      <td>0.160254</td>\n",
       "      <td>0.600272</td>\n",
       "      <td>0.380882</td>\n",
       "    </tr>\n",
       "    <tr>\n",
       "      <th>14</th>\n",
       "      <td>bm25-b=0.5-k_1=0.5</td>\n",
       "      <td>0.412907</td>\n",
       "      <td>0.655865</td>\n",
       "      <td>0.164535</td>\n",
       "      <td>0.598063</td>\n",
       "      <td>0.364706</td>\n",
       "    </tr>\n",
       "    <tr>\n",
       "      <th>20</th>\n",
       "      <td>bm25-b=0.6-k_1=1.0</td>\n",
       "      <td>0.412509</td>\n",
       "      <td>0.664215</td>\n",
       "      <td>0.166980</td>\n",
       "      <td>0.615548</td>\n",
       "      <td>0.363235</td>\n",
       "    </tr>\n",
       "    <tr>\n",
       "      <th>22</th>\n",
       "      <td>bm25-b=0.6-k_1=2.0</td>\n",
       "      <td>0.410959</td>\n",
       "      <td>0.663039</td>\n",
       "      <td>0.159598</td>\n",
       "      <td>0.606453</td>\n",
       "      <td>0.367647</td>\n",
       "    </tr>\n",
       "    <tr>\n",
       "      <th>56</th>\n",
       "      <td>bm25-b=0.6-k_1=1.5</td>\n",
       "      <td>0.408409</td>\n",
       "      <td>0.661157</td>\n",
       "      <td>0.162677</td>\n",
       "      <td>0.613274</td>\n",
       "      <td>0.361765</td>\n",
       "    </tr>\n",
       "    <tr>\n",
       "      <th>43</th>\n",
       "      <td>bm25-b=0.6-k_1=0.5</td>\n",
       "      <td>0.404034</td>\n",
       "      <td>0.654672</td>\n",
       "      <td>0.161948</td>\n",
       "      <td>0.606193</td>\n",
       "      <td>0.355882</td>\n",
       "    </tr>\n",
       "    <tr>\n",
       "      <th>53</th>\n",
       "      <td>bm25-b=0.6-k_1=2.5</td>\n",
       "      <td>0.403574</td>\n",
       "      <td>0.663262</td>\n",
       "      <td>0.154319</td>\n",
       "      <td>0.603184</td>\n",
       "      <td>0.360294</td>\n",
       "    </tr>\n",
       "    <tr>\n",
       "      <th>37</th>\n",
       "      <td>bm25-b=0.7-k_1=1.5</td>\n",
       "      <td>0.395192</td>\n",
       "      <td>0.662619</td>\n",
       "      <td>0.151650</td>\n",
       "      <td>0.602846</td>\n",
       "      <td>0.350000</td>\n",
       "    </tr>\n",
       "    <tr>\n",
       "      <th>40</th>\n",
       "      <td>bm25-b=0.7-k_1=1.1</td>\n",
       "      <td>0.395015</td>\n",
       "      <td>0.661986</td>\n",
       "      <td>0.153667</td>\n",
       "      <td>0.603516</td>\n",
       "      <td>0.350000</td>\n",
       "    </tr>\n",
       "    <tr>\n",
       "      <th>23</th>\n",
       "      <td>bm25-b=0.7-k_1=1.0</td>\n",
       "      <td>0.394062</td>\n",
       "      <td>0.662849</td>\n",
       "      <td>0.153197</td>\n",
       "      <td>0.602304</td>\n",
       "      <td>0.345588</td>\n",
       "    </tr>\n",
       "    <tr>\n",
       "      <th>10</th>\n",
       "      <td>bm25-b=0.7-k_1=1.2</td>\n",
       "      <td>0.390369</td>\n",
       "      <td>0.663237</td>\n",
       "      <td>0.151478</td>\n",
       "      <td>0.596932</td>\n",
       "      <td>0.345588</td>\n",
       "    </tr>\n",
       "    <tr>\n",
       "      <th>42</th>\n",
       "      <td>bm25-b=0.7-k_1=0.5</td>\n",
       "      <td>0.390205</td>\n",
       "      <td>0.651442</td>\n",
       "      <td>0.154208</td>\n",
       "      <td>0.616094</td>\n",
       "      <td>0.338235</td>\n",
       "    </tr>\n",
       "    <tr>\n",
       "      <th>12</th>\n",
       "      <td>bm25-b=0.7-k_1=1.3</td>\n",
       "      <td>0.389849</td>\n",
       "      <td>0.663309</td>\n",
       "      <td>0.150454</td>\n",
       "      <td>0.601123</td>\n",
       "      <td>0.344118</td>\n",
       "    </tr>\n",
       "    <tr>\n",
       "      <th>35</th>\n",
       "      <td>bm25-b=0.7-k_1=2.0</td>\n",
       "      <td>0.388990</td>\n",
       "      <td>0.658432</td>\n",
       "      <td>0.145947</td>\n",
       "      <td>0.592485</td>\n",
       "      <td>0.347059</td>\n",
       "    </tr>\n",
       "    <tr>\n",
       "      <th>15</th>\n",
       "      <td>bm25-b=0.7-k_1=2.5</td>\n",
       "      <td>0.378954</td>\n",
       "      <td>0.660891</td>\n",
       "      <td>0.139191</td>\n",
       "      <td>0.566687</td>\n",
       "      <td>0.344118</td>\n",
       "    </tr>\n",
       "    <tr>\n",
       "      <th>28</th>\n",
       "      <td>bm25-b=0.75-k_1=1.3</td>\n",
       "      <td>0.376771</td>\n",
       "      <td>0.667465</td>\n",
       "      <td>0.142509</td>\n",
       "      <td>0.582299</td>\n",
       "      <td>0.336765</td>\n",
       "    </tr>\n",
       "    <tr>\n",
       "      <th>41</th>\n",
       "      <td>bm25-b=0.75-k_1=1.1</td>\n",
       "      <td>0.376579</td>\n",
       "      <td>0.665047</td>\n",
       "      <td>0.143468</td>\n",
       "      <td>0.587166</td>\n",
       "      <td>0.333824</td>\n",
       "    </tr>\n",
       "    <tr>\n",
       "      <th>47</th>\n",
       "      <td>bm25-b=0.75-k_1=1.2</td>\n",
       "      <td>0.374220</td>\n",
       "      <td>0.667753</td>\n",
       "      <td>0.142130</td>\n",
       "      <td>0.579877</td>\n",
       "      <td>0.332353</td>\n",
       "    </tr>\n",
       "    <tr>\n",
       "      <th>54</th>\n",
       "      <td>bm25-b=0.8-k_1=0.5</td>\n",
       "      <td>0.361964</td>\n",
       "      <td>0.652460</td>\n",
       "      <td>0.138929</td>\n",
       "      <td>0.560009</td>\n",
       "      <td>0.316176</td>\n",
       "    </tr>\n",
       "    <tr>\n",
       "      <th>17</th>\n",
       "      <td>bm25-b=0.8-k_1=1.1</td>\n",
       "      <td>0.359005</td>\n",
       "      <td>0.667781</td>\n",
       "      <td>0.135026</td>\n",
       "      <td>0.553124</td>\n",
       "      <td>0.319118</td>\n",
       "    </tr>\n",
       "    <tr>\n",
       "      <th>9</th>\n",
       "      <td>bm25-b=0.8-k_1=1.0</td>\n",
       "      <td>0.357752</td>\n",
       "      <td>0.667037</td>\n",
       "      <td>0.133774</td>\n",
       "      <td>0.553855</td>\n",
       "      <td>0.319118</td>\n",
       "    </tr>\n",
       "    <tr>\n",
       "      <th>27</th>\n",
       "      <td>bm25-b=0.8-k_1=1.5</td>\n",
       "      <td>0.357098</td>\n",
       "      <td>0.665102</td>\n",
       "      <td>0.131829</td>\n",
       "      <td>0.527790</td>\n",
       "      <td>0.322059</td>\n",
       "    </tr>\n",
       "    <tr>\n",
       "      <th>29</th>\n",
       "      <td>bm25-b=0.8-k_1=1.3</td>\n",
       "      <td>0.355340</td>\n",
       "      <td>0.671670</td>\n",
       "      <td>0.133847</td>\n",
       "      <td>0.540789</td>\n",
       "      <td>0.319118</td>\n",
       "    </tr>\n",
       "    <tr>\n",
       "      <th>31</th>\n",
       "      <td>bm25-b=0.8-k_1=1.2</td>\n",
       "      <td>0.355237</td>\n",
       "      <td>0.668320</td>\n",
       "      <td>0.132791</td>\n",
       "      <td>0.545914</td>\n",
       "      <td>0.316176</td>\n",
       "    </tr>\n",
       "    <tr>\n",
       "      <th>1</th>\n",
       "      <td>bm25-b=0.8-k_1=2.0</td>\n",
       "      <td>0.349083</td>\n",
       "      <td>0.659997</td>\n",
       "      <td>0.127211</td>\n",
       "      <td>0.525906</td>\n",
       "      <td>0.314706</td>\n",
       "    </tr>\n",
       "    <tr>\n",
       "      <th>13</th>\n",
       "      <td>bm25-b=0.8-k_1=2.5</td>\n",
       "      <td>0.338031</td>\n",
       "      <td>0.655263</td>\n",
       "      <td>0.121139</td>\n",
       "      <td>0.519339</td>\n",
       "      <td>0.302941</td>\n",
       "    </tr>\n",
       "    <tr>\n",
       "      <th>51</th>\n",
       "      <td>bm25-b=0.9-k_1=0.5</td>\n",
       "      <td>0.312875</td>\n",
       "      <td>0.658810</td>\n",
       "      <td>0.120971</td>\n",
       "      <td>0.489652</td>\n",
       "      <td>0.269118</td>\n",
       "    </tr>\n",
       "    <tr>\n",
       "      <th>52</th>\n",
       "      <td>bm25-b=0.9-k_1=1.0</td>\n",
       "      <td>0.298439</td>\n",
       "      <td>0.668562</td>\n",
       "      <td>0.114039</td>\n",
       "      <td>0.472051</td>\n",
       "      <td>0.261765</td>\n",
       "    </tr>\n",
       "    <tr>\n",
       "      <th>5</th>\n",
       "      <td>bm25-b=1.0-k_1=0.5</td>\n",
       "      <td>0.285165</td>\n",
       "      <td>0.663376</td>\n",
       "      <td>0.111437</td>\n",
       "      <td>0.463457</td>\n",
       "      <td>0.239706</td>\n",
       "    </tr>\n",
       "    <tr>\n",
       "      <th>2</th>\n",
       "      <td>bm25-b=0.9-k_1=1.5</td>\n",
       "      <td>0.266651</td>\n",
       "      <td>0.656823</td>\n",
       "      <td>0.098163</td>\n",
       "      <td>0.434770</td>\n",
       "      <td>0.232353</td>\n",
       "    </tr>\n",
       "    <tr>\n",
       "      <th>6</th>\n",
       "      <td>bm25-b=0.9-k_1=2.0</td>\n",
       "      <td>0.251007</td>\n",
       "      <td>0.654662</td>\n",
       "      <td>0.090479</td>\n",
       "      <td>0.430202</td>\n",
       "      <td>0.214706</td>\n",
       "    </tr>\n",
       "    <tr>\n",
       "      <th>38</th>\n",
       "      <td>bm25-b=1.0-k_1=1.0</td>\n",
       "      <td>0.250698</td>\n",
       "      <td>0.662741</td>\n",
       "      <td>0.090992</td>\n",
       "      <td>0.419301</td>\n",
       "      <td>0.213235</td>\n",
       "    </tr>\n",
       "    <tr>\n",
       "      <th>18</th>\n",
       "      <td>bm25-b=0.9-k_1=2.5</td>\n",
       "      <td>0.244721</td>\n",
       "      <td>0.651411</td>\n",
       "      <td>0.086734</td>\n",
       "      <td>0.425123</td>\n",
       "      <td>0.208824</td>\n",
       "    </tr>\n",
       "    <tr>\n",
       "      <th>46</th>\n",
       "      <td>bm25-b=1.0-k_1=1.5</td>\n",
       "      <td>0.220448</td>\n",
       "      <td>0.649435</td>\n",
       "      <td>0.078777</td>\n",
       "      <td>0.393870</td>\n",
       "      <td>0.182353</td>\n",
       "    </tr>\n",
       "    <tr>\n",
       "      <th>24</th>\n",
       "      <td>bm25-b=1.0-k_1=2.0</td>\n",
       "      <td>0.203492</td>\n",
       "      <td>0.642163</td>\n",
       "      <td>0.072377</td>\n",
       "      <td>0.377166</td>\n",
       "      <td>0.164706</td>\n",
       "    </tr>\n",
       "    <tr>\n",
       "      <th>0</th>\n",
       "      <td>bm25-b=1.0-k_1=2.5</td>\n",
       "      <td>0.176600</td>\n",
       "      <td>0.634927</td>\n",
       "      <td>0.060136</td>\n",
       "      <td>0.340808</td>\n",
       "      <td>0.138235</td>\n",
       "    </tr>\n",
       "  </tbody>\n",
       "</table>\n",
       "</div>"
      ],
      "text/plain": [
       "                    run   nDCG@10  nDCG@10 (unjudgedRemoved)       MAP  \\\n",
       "7    bm25-b=0.1-k_1=2.5  0.462726                   0.641795  0.179720   \n",
       "26   bm25-b=0.1-k_1=2.0  0.461514                   0.648075  0.180537   \n",
       "32   bm25-b=0.3-k_1=2.0  0.459020                   0.663377  0.183024   \n",
       "39   bm25-b=0.2-k_1=1.5  0.457576                   0.658266  0.182425   \n",
       "45   bm25-b=0.3-k_1=1.5  0.457530                   0.667294  0.184446   \n",
       "11   bm25-b=0.1-k_1=1.5  0.456357                   0.650468  0.180736   \n",
       "25   bm25-b=0.2-k_1=2.5  0.455446                   0.653018  0.179566   \n",
       "57   bm25-b=0.2-k_1=2.0  0.455056                   0.657161  0.179490   \n",
       "49   bm25-b=0.3-k_1=2.5  0.452102                   0.662991  0.178927   \n",
       "50   bm25-b=0.2-k_1=1.0  0.451857                   0.653390  0.182458   \n",
       "3    bm25-b=0.3-k_1=1.0  0.451151                   0.661597  0.184544   \n",
       "58   bm25-b=0.1-k_1=1.0  0.447987                   0.646299  0.179990   \n",
       "55   bm25-b=0.2-k_1=0.5  0.445091                   0.652918  0.178593   \n",
       "16   bm25-b=0.4-k_1=2.0  0.439235                   0.664951  0.173590   \n",
       "19   bm25-b=0.4-k_1=1.0  0.438658                   0.662393  0.178370   \n",
       "21   bm25-b=0.3-k_1=0.5  0.436104                   0.650681  0.175755   \n",
       "8    bm25-b=0.4-k_1=2.5  0.435633                   0.663951  0.170976   \n",
       "36   bm25-b=0.1-k_1=0.5  0.435330                   0.640755  0.172077   \n",
       "34   bm25-b=0.4-k_1=1.5  0.434272                   0.668321  0.174334   \n",
       "48   bm25-b=0.5-k_1=2.0  0.424763                   0.660640  0.165292   \n",
       "33   bm25-b=0.4-k_1=0.5  0.424272                   0.651740  0.169049   \n",
       "30   bm25-b=0.5-k_1=1.5  0.422647                   0.659992  0.169416   \n",
       "4    bm25-b=0.5-k_1=1.0  0.422346                   0.664457  0.169852   \n",
       "44   bm25-b=0.5-k_1=2.5  0.420076                   0.663702  0.160254   \n",
       "14   bm25-b=0.5-k_1=0.5  0.412907                   0.655865  0.164535   \n",
       "20   bm25-b=0.6-k_1=1.0  0.412509                   0.664215  0.166980   \n",
       "22   bm25-b=0.6-k_1=2.0  0.410959                   0.663039  0.159598   \n",
       "56   bm25-b=0.6-k_1=1.5  0.408409                   0.661157  0.162677   \n",
       "43   bm25-b=0.6-k_1=0.5  0.404034                   0.654672  0.161948   \n",
       "53   bm25-b=0.6-k_1=2.5  0.403574                   0.663262  0.154319   \n",
       "37   bm25-b=0.7-k_1=1.5  0.395192                   0.662619  0.151650   \n",
       "40   bm25-b=0.7-k_1=1.1  0.395015                   0.661986  0.153667   \n",
       "23   bm25-b=0.7-k_1=1.0  0.394062                   0.662849  0.153197   \n",
       "10   bm25-b=0.7-k_1=1.2  0.390369                   0.663237  0.151478   \n",
       "42   bm25-b=0.7-k_1=0.5  0.390205                   0.651442  0.154208   \n",
       "12   bm25-b=0.7-k_1=1.3  0.389849                   0.663309  0.150454   \n",
       "35   bm25-b=0.7-k_1=2.0  0.388990                   0.658432  0.145947   \n",
       "15   bm25-b=0.7-k_1=2.5  0.378954                   0.660891  0.139191   \n",
       "28  bm25-b=0.75-k_1=1.3  0.376771                   0.667465  0.142509   \n",
       "41  bm25-b=0.75-k_1=1.1  0.376579                   0.665047  0.143468   \n",
       "47  bm25-b=0.75-k_1=1.2  0.374220                   0.667753  0.142130   \n",
       "54   bm25-b=0.8-k_1=0.5  0.361964                   0.652460  0.138929   \n",
       "17   bm25-b=0.8-k_1=1.1  0.359005                   0.667781  0.135026   \n",
       "9    bm25-b=0.8-k_1=1.0  0.357752                   0.667037  0.133774   \n",
       "27   bm25-b=0.8-k_1=1.5  0.357098                   0.665102  0.131829   \n",
       "29   bm25-b=0.8-k_1=1.3  0.355340                   0.671670  0.133847   \n",
       "31   bm25-b=0.8-k_1=1.2  0.355237                   0.668320  0.132791   \n",
       "1    bm25-b=0.8-k_1=2.0  0.349083                   0.659997  0.127211   \n",
       "13   bm25-b=0.8-k_1=2.5  0.338031                   0.655263  0.121139   \n",
       "51   bm25-b=0.9-k_1=0.5  0.312875                   0.658810  0.120971   \n",
       "52   bm25-b=0.9-k_1=1.0  0.298439                   0.668562  0.114039   \n",
       "5    bm25-b=1.0-k_1=0.5  0.285165                   0.663376  0.111437   \n",
       "2    bm25-b=0.9-k_1=1.5  0.266651                   0.656823  0.098163   \n",
       "6    bm25-b=0.9-k_1=2.0  0.251007                   0.654662  0.090479   \n",
       "38   bm25-b=1.0-k_1=1.0  0.250698                   0.662741  0.090992   \n",
       "18   bm25-b=0.9-k_1=2.5  0.244721                   0.651411  0.086734   \n",
       "46   bm25-b=1.0-k_1=1.5  0.220448                   0.649435  0.078777   \n",
       "24   bm25-b=1.0-k_1=2.0  0.203492                   0.642163  0.072377   \n",
       "0    bm25-b=1.0-k_1=2.5  0.176600                   0.634927  0.060136   \n",
       "\n",
       "         MRR      P@10  \n",
       "7   0.655873  0.423529  \n",
       "26  0.655465  0.422059  \n",
       "32  0.650911  0.413235  \n",
       "39  0.649682  0.414706  \n",
       "45  0.659185  0.410294  \n",
       "11  0.658769  0.413235  \n",
       "25  0.643231  0.411765  \n",
       "57  0.637603  0.414706  \n",
       "49  0.628244  0.408824  \n",
       "50  0.670712  0.400000  \n",
       "3   0.657754  0.400000  \n",
       "58  0.671737  0.397059  \n",
       "55  0.678663  0.389706  \n",
       "16  0.608799  0.400000  \n",
       "19  0.645119  0.385294  \n",
       "21  0.668683  0.377941  \n",
       "8   0.613535  0.392647  \n",
       "36  0.675471  0.382353  \n",
       "34  0.625752  0.386765  \n",
       "48  0.595222  0.389706  \n",
       "33  0.628871  0.373529  \n",
       "30  0.603143  0.380882  \n",
       "4   0.607248  0.373529  \n",
       "44  0.600272  0.380882  \n",
       "14  0.598063  0.364706  \n",
       "20  0.615548  0.363235  \n",
       "22  0.606453  0.367647  \n",
       "56  0.613274  0.361765  \n",
       "43  0.606193  0.355882  \n",
       "53  0.603184  0.360294  \n",
       "37  0.602846  0.350000  \n",
       "40  0.603516  0.350000  \n",
       "23  0.602304  0.345588  \n",
       "10  0.596932  0.345588  \n",
       "42  0.616094  0.338235  \n",
       "12  0.601123  0.344118  \n",
       "35  0.592485  0.347059  \n",
       "15  0.566687  0.344118  \n",
       "28  0.582299  0.336765  \n",
       "41  0.587166  0.333824  \n",
       "47  0.579877  0.332353  \n",
       "54  0.560009  0.316176  \n",
       "17  0.553124  0.319118  \n",
       "9   0.553855  0.319118  \n",
       "27  0.527790  0.322059  \n",
       "29  0.540789  0.319118  \n",
       "31  0.545914  0.316176  \n",
       "1   0.525906  0.314706  \n",
       "13  0.519339  0.302941  \n",
       "51  0.489652  0.269118  \n",
       "52  0.472051  0.261765  \n",
       "5   0.463457  0.239706  \n",
       "2   0.434770  0.232353  \n",
       "6   0.430202  0.214706  \n",
       "38  0.419301  0.213235  \n",
       "18  0.425123  0.208824  \n",
       "46  0.393870  0.182353  \n",
       "24  0.377166  0.164706  \n",
       "0   0.340808  0.138235  "
      ]
     },
     "execution_count": 46,
     "metadata": {},
     "output_type": "execute_result"
    }
   ],
   "source": [
    "df = []\n",
    "for r in glob('grid-search/training/bm25*'):\n",
    "    df += [evaluate_run(r, training_qrels)]\n",
    "df = pd.DataFrame(df)\n",
    "df.sort_values('nDCG@10', ascending=False)"
   ]
  }
 ],
 "metadata": {
  "kernelspec": {
   "display_name": "Python 3",
   "language": "python",
   "name": "python3"
  },
  "language_info": {
   "codemirror_mode": {
    "name": "ipython",
    "version": 3
   },
   "file_extension": ".py",
   "mimetype": "text/x-python",
   "name": "python",
   "nbconvert_exporter": "python",
   "pygments_lexer": "ipython3",
   "version": "3.10.12"
  }
 },
 "nbformat": 4,
 "nbformat_minor": 2
}
