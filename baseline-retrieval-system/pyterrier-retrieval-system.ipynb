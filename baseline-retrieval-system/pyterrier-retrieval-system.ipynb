{
 "cells": [
  {
   "cell_type": "code",
   "execution_count": 1,
   "metadata": {},
   "outputs": [],
   "source": [
    "from tira.third_party_integrations import ensure_pyterrier_is_loaded, persist_and_normalize_run, ir_datasets\n",
    "import pyterrier as pt\n",
    "import os"
   ]
  },
  {
   "cell_type": "code",
   "execution_count": 2,
   "metadata": {},
   "outputs": [
    {
     "name": "stderr",
     "output_type": "stream",
     "text": [
      "PyTerrier 0.10.0 has loaded Terrier 5.8 (built by craigm on 2023-11-01 18:05) and terrier-helper 0.0.8\n",
      "\n",
      "No etc/terrier.properties, using terrier.default.properties for bootstrap configuration.\n"
     ]
    }
   ],
   "source": [
    "# Create a REST client to the TIRA platform for retrieving the pre-indexed data.\n",
    "ensure_pyterrier_is_loaded()"
   ]
  },
  {
   "cell_type": "code",
   "execution_count": 3,
   "metadata": {},
   "outputs": [],
   "source": [
    "# The dataset: the union of the IR Anthology and the ACL Anthology\n",
    "# This line creates an IRDSDataset object and registers it under the name provided as an argument.\n",
    "dataset = 'ir-lab-sose-2024/ir-acl-anthology-20240504-training'\n",
    "pt_dataset = pt.get_dataset('irds:' + dataset)\n",
    "\n",
    "pt_index_path = './terrier-index'\n",
    "\n",
    "\n",
    "if not os.path.exists(pt_index_path + \"/data.properties\"):\n",
    "  # create the index, using the IterDictIndexer indexer \n",
    "  indexer = pt.index.IterDictIndexer(pt_index_path, blocks=True)\n",
    "\n",
    "  # we give the dataset get_corpus_iter() directly to the indexer\n",
    "  # while specifying the fields to index and the metadata to record\n",
    "  index_ref = indexer.index(pt_dataset.get_corpus_iter(), \n",
    "                            meta=('docno',))\n",
    "\n",
    "else:\n",
    "  # if you already have the index, use it.\n",
    "  index_ref = pt.IndexRef.of(pt_index_path + \"/data.properties\")\n",
    "index = pt.IndexFactory.of(index_ref)"
   ]
  },
  {
   "cell_type": "markdown",
   "metadata": {},
   "source": [
    "# Running a Grid Search Algorithm to find the best configuration for BM25\n",
    "We will use the best configuration afterwards."
   ]
  },
  {
   "cell_type": "code",
   "execution_count": 5,
   "metadata": {},
   "outputs": [],
   "source": [
    "def run_bm25_grid_search_run(index, output_dir, queries):\n",
    "    \"\"\"\n",
    "        defaults: http://terrier.org/docs/current/javadoc/org/terrier/matching/models/BM25.html\n",
    "        k_1 = 1.2d, k_3 = 8d, b = 0.75d\n",
    "        We do not tune parameter k_3, as this parameter only impacts queries with reduntant terms.\n",
    "    \"\"\"\n",
    "    for b in [0.1, 0.2, 0.3, 0.4, 0.5, 0.6, 0.7, 0.8, 0.9, 1.0]:\n",
    "        for k_1 in [0.5, 0.6, 0.7, 0.8, 0.9, 1.0, 1.1, 1.2, 1.3, 1.4, 1.5, 1.6, 1.7, 1.8, 1.9, 2.0, 2.1, 2.2, 2.3, 2.4, 2.5, 2.6, 2.7, 2.8, 2.9, 3.0]:\n",
    "            system = f'bm25-b={b}-k_1={k_1}'\n",
    "            configuration = {\"bm25.b\" : b, \"bm25.k_1\": k_1}\n",
    "            run_output_dir = output_dir + '/' + system\n",
    "            !rm -Rf {run_output_dir}\n",
    "            !mkdir -p {run_output_dir}\n",
    "            print(f'Run {system}')\n",
    "            BM25 = pt.BatchRetrieve(index, wmodel=\"BM25\", controls=configuration, verbose=True)\n",
    "            run = BM25(queries)\n",
    "            persist_and_normalize_run(run, system, run_output_dir)"
   ]
  },
  {
   "cell_type": "code",
   "execution_count": 6,
   "metadata": {},
   "outputs": [
    {
     "name": "stdout",
     "output_type": "stream",
     "text": [
      "Run bm25-b=0.1-k_1=0.5\n"
     ]
    },
    {
     "name": "stderr",
     "output_type": "stream",
     "text": [
      "BR(BM25): 100%|██████████| 68/68 [00:04<00:00, 15.61q/s]\n"
     ]
    },
    {
     "name": "stdout",
     "output_type": "stream",
     "text": [
      "The run file is normalized outside the TIRA sandbox, I will store it at \"grid-search/training/bm25-b=0.1-k_1=0.5\".\n",
      "Done. run file is stored under \"grid-search/training/bm25-b=0.1-k_1=0.5/run.txt\".\n",
      "Run bm25-b=0.1-k_1=0.6\n"
     ]
    },
    {
     "name": "stderr",
     "output_type": "stream",
     "text": [
      "BR(BM25): 100%|██████████| 68/68 [00:01<00:00, 42.72q/s]\n"
     ]
    },
    {
     "name": "stdout",
     "output_type": "stream",
     "text": [
      "The run file is normalized outside the TIRA sandbox, I will store it at \"grid-search/training/bm25-b=0.1-k_1=0.6\".\n",
      "Done. run file is stored under \"grid-search/training/bm25-b=0.1-k_1=0.6/run.txt\".\n",
      "Run bm25-b=0.1-k_1=0.7\n"
     ]
    },
    {
     "name": "stderr",
     "output_type": "stream",
     "text": [
      "BR(BM25): 100%|██████████| 68/68 [00:01<00:00, 42.38q/s]\n"
     ]
    },
    {
     "name": "stdout",
     "output_type": "stream",
     "text": [
      "The run file is normalized outside the TIRA sandbox, I will store it at \"grid-search/training/bm25-b=0.1-k_1=0.7\".\n",
      "Done. run file is stored under \"grid-search/training/bm25-b=0.1-k_1=0.7/run.txt\".\n",
      "Run bm25-b=0.1-k_1=0.8\n"
     ]
    },
    {
     "name": "stderr",
     "output_type": "stream",
     "text": [
      "BR(BM25): 100%|██████████| 68/68 [00:01<00:00, 46.46q/s]\n"
     ]
    },
    {
     "name": "stdout",
     "output_type": "stream",
     "text": [
      "The run file is normalized outside the TIRA sandbox, I will store it at \"grid-search/training/bm25-b=0.1-k_1=0.8\".\n",
      "Done. run file is stored under \"grid-search/training/bm25-b=0.1-k_1=0.8/run.txt\".\n",
      "Run bm25-b=0.1-k_1=0.9\n"
     ]
    },
    {
     "name": "stderr",
     "output_type": "stream",
     "text": [
      "BR(BM25): 100%|██████████| 68/68 [00:01<00:00, 43.41q/s]\n"
     ]
    },
    {
     "name": "stdout",
     "output_type": "stream",
     "text": [
      "The run file is normalized outside the TIRA sandbox, I will store it at \"grid-search/training/bm25-b=0.1-k_1=0.9\".\n",
      "Done. run file is stored under \"grid-search/training/bm25-b=0.1-k_1=0.9/run.txt\".\n",
      "Run bm25-b=0.1-k_1=1.0\n"
     ]
    },
    {
     "name": "stderr",
     "output_type": "stream",
     "text": [
      "BR(BM25): 100%|██████████| 68/68 [00:01<00:00, 45.85q/s]\n"
     ]
    },
    {
     "name": "stdout",
     "output_type": "stream",
     "text": [
      "The run file is normalized outside the TIRA sandbox, I will store it at \"grid-search/training/bm25-b=0.1-k_1=1.0\".\n",
      "Done. run file is stored under \"grid-search/training/bm25-b=0.1-k_1=1.0/run.txt\".\n",
      "Run bm25-b=0.1-k_1=1.1\n"
     ]
    },
    {
     "name": "stderr",
     "output_type": "stream",
     "text": [
      "BR(BM25): 100%|██████████| 68/68 [00:01<00:00, 50.20q/s]\n"
     ]
    },
    {
     "name": "stdout",
     "output_type": "stream",
     "text": [
      "The run file is normalized outside the TIRA sandbox, I will store it at \"grid-search/training/bm25-b=0.1-k_1=1.1\".\n",
      "Done. run file is stored under \"grid-search/training/bm25-b=0.1-k_1=1.1/run.txt\".\n",
      "Run bm25-b=0.1-k_1=1.2\n"
     ]
    },
    {
     "name": "stderr",
     "output_type": "stream",
     "text": [
      "BR(BM25): 100%|██████████| 68/68 [00:01<00:00, 45.12q/s]\n"
     ]
    },
    {
     "name": "stdout",
     "output_type": "stream",
     "text": [
      "The run file is normalized outside the TIRA sandbox, I will store it at \"grid-search/training/bm25-b=0.1-k_1=1.2\".\n",
      "Done. run file is stored under \"grid-search/training/bm25-b=0.1-k_1=1.2/run.txt\".\n",
      "Run bm25-b=0.1-k_1=1.3\n"
     ]
    },
    {
     "name": "stderr",
     "output_type": "stream",
     "text": [
      "BR(BM25): 100%|██████████| 68/68 [00:01<00:00, 47.97q/s]\n"
     ]
    },
    {
     "name": "stdout",
     "output_type": "stream",
     "text": [
      "The run file is normalized outside the TIRA sandbox, I will store it at \"grid-search/training/bm25-b=0.1-k_1=1.3\".\n",
      "Done. run file is stored under \"grid-search/training/bm25-b=0.1-k_1=1.3/run.txt\".\n",
      "Run bm25-b=0.1-k_1=1.4\n"
     ]
    },
    {
     "name": "stderr",
     "output_type": "stream",
     "text": [
      "BR(BM25): 100%|██████████| 68/68 [00:01<00:00, 48.28q/s]\n"
     ]
    },
    {
     "name": "stdout",
     "output_type": "stream",
     "text": [
      "The run file is normalized outside the TIRA sandbox, I will store it at \"grid-search/training/bm25-b=0.1-k_1=1.4\".\n",
      "Done. run file is stored under \"grid-search/training/bm25-b=0.1-k_1=1.4/run.txt\".\n",
      "Run bm25-b=0.1-k_1=1.5\n"
     ]
    },
    {
     "name": "stderr",
     "output_type": "stream",
     "text": [
      "BR(BM25): 100%|██████████| 68/68 [00:01<00:00, 43.33q/s]\n"
     ]
    },
    {
     "name": "stdout",
     "output_type": "stream",
     "text": [
      "The run file is normalized outside the TIRA sandbox, I will store it at \"grid-search/training/bm25-b=0.1-k_1=1.5\".\n",
      "Done. run file is stored under \"grid-search/training/bm25-b=0.1-k_1=1.5/run.txt\".\n",
      "Run bm25-b=0.1-k_1=1.6\n"
     ]
    },
    {
     "name": "stderr",
     "output_type": "stream",
     "text": [
      "BR(BM25): 100%|██████████| 68/68 [00:01<00:00, 48.41q/s]\n"
     ]
    },
    {
     "name": "stdout",
     "output_type": "stream",
     "text": [
      "The run file is normalized outside the TIRA sandbox, I will store it at \"grid-search/training/bm25-b=0.1-k_1=1.6\".\n",
      "Done. run file is stored under \"grid-search/training/bm25-b=0.1-k_1=1.6/run.txt\".\n",
      "Run bm25-b=0.1-k_1=1.7\n"
     ]
    },
    {
     "name": "stderr",
     "output_type": "stream",
     "text": [
      "BR(BM25): 100%|██████████| 68/68 [00:01<00:00, 44.76q/s]\n"
     ]
    },
    {
     "name": "stdout",
     "output_type": "stream",
     "text": [
      "The run file is normalized outside the TIRA sandbox, I will store it at \"grid-search/training/bm25-b=0.1-k_1=1.7\".\n",
      "Done. run file is stored under \"grid-search/training/bm25-b=0.1-k_1=1.7/run.txt\".\n",
      "Run bm25-b=0.1-k_1=1.8\n"
     ]
    },
    {
     "name": "stderr",
     "output_type": "stream",
     "text": [
      "BR(BM25): 100%|██████████| 68/68 [00:01<00:00, 43.74q/s]\n"
     ]
    },
    {
     "name": "stdout",
     "output_type": "stream",
     "text": [
      "The run file is normalized outside the TIRA sandbox, I will store it at \"grid-search/training/bm25-b=0.1-k_1=1.8\".\n",
      "Done. run file is stored under \"grid-search/training/bm25-b=0.1-k_1=1.8/run.txt\".\n",
      "Run bm25-b=0.1-k_1=1.9\n"
     ]
    },
    {
     "name": "stderr",
     "output_type": "stream",
     "text": [
      "BR(BM25): 100%|██████████| 68/68 [00:01<00:00, 47.08q/s]\n"
     ]
    },
    {
     "name": "stdout",
     "output_type": "stream",
     "text": [
      "The run file is normalized outside the TIRA sandbox, I will store it at \"grid-search/training/bm25-b=0.1-k_1=1.9\".\n",
      "Done. run file is stored under \"grid-search/training/bm25-b=0.1-k_1=1.9/run.txt\".\n",
      "Run bm25-b=0.1-k_1=2.0\n"
     ]
    },
    {
     "name": "stderr",
     "output_type": "stream",
     "text": [
      "BR(BM25): 100%|██████████| 68/68 [00:01<00:00, 45.92q/s]\n"
     ]
    },
    {
     "name": "stdout",
     "output_type": "stream",
     "text": [
      "The run file is normalized outside the TIRA sandbox, I will store it at \"grid-search/training/bm25-b=0.1-k_1=2.0\".\n",
      "Done. run file is stored under \"grid-search/training/bm25-b=0.1-k_1=2.0/run.txt\".\n",
      "Run bm25-b=0.1-k_1=2.1\n"
     ]
    },
    {
     "name": "stderr",
     "output_type": "stream",
     "text": [
      "BR(BM25): 100%|██████████| 68/68 [00:01<00:00, 45.78q/s]\n"
     ]
    },
    {
     "name": "stdout",
     "output_type": "stream",
     "text": [
      "The run file is normalized outside the TIRA sandbox, I will store it at \"grid-search/training/bm25-b=0.1-k_1=2.1\".\n",
      "Done. run file is stored under \"grid-search/training/bm25-b=0.1-k_1=2.1/run.txt\".\n",
      "Run bm25-b=0.1-k_1=2.2\n"
     ]
    },
    {
     "name": "stderr",
     "output_type": "stream",
     "text": [
      "BR(BM25): 100%|██████████| 68/68 [00:01<00:00, 45.16q/s]\n"
     ]
    },
    {
     "name": "stdout",
     "output_type": "stream",
     "text": [
      "The run file is normalized outside the TIRA sandbox, I will store it at \"grid-search/training/bm25-b=0.1-k_1=2.2\".\n",
      "Done. run file is stored under \"grid-search/training/bm25-b=0.1-k_1=2.2/run.txt\".\n",
      "Run bm25-b=0.1-k_1=2.3\n"
     ]
    },
    {
     "name": "stderr",
     "output_type": "stream",
     "text": [
      "BR(BM25): 100%|██████████| 68/68 [00:01<00:00, 46.07q/s]\n"
     ]
    },
    {
     "name": "stdout",
     "output_type": "stream",
     "text": [
      "The run file is normalized outside the TIRA sandbox, I will store it at \"grid-search/training/bm25-b=0.1-k_1=2.3\".\n",
      "Done. run file is stored under \"grid-search/training/bm25-b=0.1-k_1=2.3/run.txt\".\n",
      "Run bm25-b=0.1-k_1=2.4\n"
     ]
    },
    {
     "name": "stderr",
     "output_type": "stream",
     "text": [
      "BR(BM25): 100%|██████████| 68/68 [00:01<00:00, 46.24q/s]\n"
     ]
    },
    {
     "name": "stdout",
     "output_type": "stream",
     "text": [
      "The run file is normalized outside the TIRA sandbox, I will store it at \"grid-search/training/bm25-b=0.1-k_1=2.4\".\n",
      "Done. run file is stored under \"grid-search/training/bm25-b=0.1-k_1=2.4/run.txt\".\n",
      "Run bm25-b=0.1-k_1=2.5\n"
     ]
    },
    {
     "name": "stderr",
     "output_type": "stream",
     "text": [
      "BR(BM25): 100%|██████████| 68/68 [00:01<00:00, 43.20q/s]\n"
     ]
    },
    {
     "name": "stdout",
     "output_type": "stream",
     "text": [
      "The run file is normalized outside the TIRA sandbox, I will store it at \"grid-search/training/bm25-b=0.1-k_1=2.5\".\n",
      "Done. run file is stored under \"grid-search/training/bm25-b=0.1-k_1=2.5/run.txt\".\n",
      "Run bm25-b=0.1-k_1=2.6\n"
     ]
    },
    {
     "name": "stderr",
     "output_type": "stream",
     "text": [
      "BR(BM25): 100%|██████████| 68/68 [00:01<00:00, 43.61q/s]\n"
     ]
    },
    {
     "name": "stdout",
     "output_type": "stream",
     "text": [
      "The run file is normalized outside the TIRA sandbox, I will store it at \"grid-search/training/bm25-b=0.1-k_1=2.6\".\n",
      "Done. run file is stored under \"grid-search/training/bm25-b=0.1-k_1=2.6/run.txt\".\n",
      "Run bm25-b=0.1-k_1=2.7\n"
     ]
    },
    {
     "name": "stderr",
     "output_type": "stream",
     "text": [
      "BR(BM25): 100%|██████████| 68/68 [00:01<00:00, 46.83q/s]\n"
     ]
    },
    {
     "name": "stdout",
     "output_type": "stream",
     "text": [
      "The run file is normalized outside the TIRA sandbox, I will store it at \"grid-search/training/bm25-b=0.1-k_1=2.7\".\n",
      "Done. run file is stored under \"grid-search/training/bm25-b=0.1-k_1=2.7/run.txt\".\n",
      "Run bm25-b=0.1-k_1=2.8\n"
     ]
    },
    {
     "name": "stderr",
     "output_type": "stream",
     "text": [
      "BR(BM25): 100%|██████████| 68/68 [00:01<00:00, 51.71q/s]\n"
     ]
    },
    {
     "name": "stdout",
     "output_type": "stream",
     "text": [
      "The run file is normalized outside the TIRA sandbox, I will store it at \"grid-search/training/bm25-b=0.1-k_1=2.8\".\n",
      "Done. run file is stored under \"grid-search/training/bm25-b=0.1-k_1=2.8/run.txt\".\n",
      "Run bm25-b=0.1-k_1=2.9\n"
     ]
    },
    {
     "name": "stderr",
     "output_type": "stream",
     "text": [
      "BR(BM25): 100%|██████████| 68/68 [00:01<00:00, 44.51q/s]\n"
     ]
    },
    {
     "name": "stdout",
     "output_type": "stream",
     "text": [
      "The run file is normalized outside the TIRA sandbox, I will store it at \"grid-search/training/bm25-b=0.1-k_1=2.9\".\n",
      "Done. run file is stored under \"grid-search/training/bm25-b=0.1-k_1=2.9/run.txt\".\n",
      "Run bm25-b=0.1-k_1=3.0\n"
     ]
    },
    {
     "name": "stderr",
     "output_type": "stream",
     "text": [
      "BR(BM25): 100%|██████████| 68/68 [00:01<00:00, 46.96q/s]\n"
     ]
    },
    {
     "name": "stdout",
     "output_type": "stream",
     "text": [
      "The run file is normalized outside the TIRA sandbox, I will store it at \"grid-search/training/bm25-b=0.1-k_1=3.0\".\n",
      "Done. run file is stored under \"grid-search/training/bm25-b=0.1-k_1=3.0/run.txt\".\n",
      "Run bm25-b=0.2-k_1=0.5\n"
     ]
    },
    {
     "name": "stderr",
     "output_type": "stream",
     "text": [
      "BR(BM25): 100%|██████████| 68/68 [00:01<00:00, 48.22q/s]\n"
     ]
    },
    {
     "name": "stdout",
     "output_type": "stream",
     "text": [
      "The run file is normalized outside the TIRA sandbox, I will store it at \"grid-search/training/bm25-b=0.2-k_1=0.5\".\n",
      "Done. run file is stored under \"grid-search/training/bm25-b=0.2-k_1=0.5/run.txt\".\n",
      "Run bm25-b=0.2-k_1=0.6\n"
     ]
    },
    {
     "name": "stderr",
     "output_type": "stream",
     "text": [
      "BR(BM25): 100%|██████████| 68/68 [00:01<00:00, 44.98q/s]\n"
     ]
    },
    {
     "name": "stdout",
     "output_type": "stream",
     "text": [
      "The run file is normalized outside the TIRA sandbox, I will store it at \"grid-search/training/bm25-b=0.2-k_1=0.6\".\n",
      "Done. run file is stored under \"grid-search/training/bm25-b=0.2-k_1=0.6/run.txt\".\n",
      "Run bm25-b=0.2-k_1=0.7\n"
     ]
    },
    {
     "name": "stderr",
     "output_type": "stream",
     "text": [
      "BR(BM25): 100%|██████████| 68/68 [00:01<00:00, 45.78q/s]\n"
     ]
    },
    {
     "name": "stdout",
     "output_type": "stream",
     "text": [
      "The run file is normalized outside the TIRA sandbox, I will store it at \"grid-search/training/bm25-b=0.2-k_1=0.7\".\n",
      "Done. run file is stored under \"grid-search/training/bm25-b=0.2-k_1=0.7/run.txt\".\n",
      "Run bm25-b=0.2-k_1=0.8\n"
     ]
    },
    {
     "name": "stderr",
     "output_type": "stream",
     "text": [
      "BR(BM25): 100%|██████████| 68/68 [00:01<00:00, 43.70q/s]\n"
     ]
    },
    {
     "name": "stdout",
     "output_type": "stream",
     "text": [
      "The run file is normalized outside the TIRA sandbox, I will store it at \"grid-search/training/bm25-b=0.2-k_1=0.8\".\n",
      "Done. run file is stored under \"grid-search/training/bm25-b=0.2-k_1=0.8/run.txt\".\n",
      "Run bm25-b=0.2-k_1=0.9\n"
     ]
    },
    {
     "name": "stderr",
     "output_type": "stream",
     "text": [
      "BR(BM25): 100%|██████████| 68/68 [00:01<00:00, 47.45q/s]\n"
     ]
    },
    {
     "name": "stdout",
     "output_type": "stream",
     "text": [
      "The run file is normalized outside the TIRA sandbox, I will store it at \"grid-search/training/bm25-b=0.2-k_1=0.9\".\n",
      "Done. run file is stored under \"grid-search/training/bm25-b=0.2-k_1=0.9/run.txt\".\n",
      "Run bm25-b=0.2-k_1=1.0\n"
     ]
    },
    {
     "name": "stderr",
     "output_type": "stream",
     "text": [
      "BR(BM25): 100%|██████████| 68/68 [00:01<00:00, 48.76q/s]\n"
     ]
    },
    {
     "name": "stdout",
     "output_type": "stream",
     "text": [
      "The run file is normalized outside the TIRA sandbox, I will store it at \"grid-search/training/bm25-b=0.2-k_1=1.0\".\n",
      "Done. run file is stored under \"grid-search/training/bm25-b=0.2-k_1=1.0/run.txt\".\n",
      "Run bm25-b=0.2-k_1=1.1\n"
     ]
    },
    {
     "name": "stderr",
     "output_type": "stream",
     "text": [
      "BR(BM25): 100%|██████████| 68/68 [00:01<00:00, 44.81q/s]\n"
     ]
    },
    {
     "name": "stdout",
     "output_type": "stream",
     "text": [
      "The run file is normalized outside the TIRA sandbox, I will store it at \"grid-search/training/bm25-b=0.2-k_1=1.1\".\n",
      "Done. run file is stored under \"grid-search/training/bm25-b=0.2-k_1=1.1/run.txt\".\n",
      "Run bm25-b=0.2-k_1=1.2\n"
     ]
    },
    {
     "name": "stderr",
     "output_type": "stream",
     "text": [
      "BR(BM25): 100%|██████████| 68/68 [00:01<00:00, 46.14q/s]\n"
     ]
    },
    {
     "name": "stdout",
     "output_type": "stream",
     "text": [
      "The run file is normalized outside the TIRA sandbox, I will store it at \"grid-search/training/bm25-b=0.2-k_1=1.2\".\n",
      "Done. run file is stored under \"grid-search/training/bm25-b=0.2-k_1=1.2/run.txt\".\n",
      "Run bm25-b=0.2-k_1=1.3\n"
     ]
    },
    {
     "name": "stderr",
     "output_type": "stream",
     "text": [
      "BR(BM25): 100%|██████████| 68/68 [00:01<00:00, 48.88q/s]\n"
     ]
    },
    {
     "name": "stdout",
     "output_type": "stream",
     "text": [
      "The run file is normalized outside the TIRA sandbox, I will store it at \"grid-search/training/bm25-b=0.2-k_1=1.3\".\n",
      "Done. run file is stored under \"grid-search/training/bm25-b=0.2-k_1=1.3/run.txt\".\n",
      "Run bm25-b=0.2-k_1=1.4\n"
     ]
    },
    {
     "name": "stderr",
     "output_type": "stream",
     "text": [
      "BR(BM25): 100%|██████████| 68/68 [00:01<00:00, 47.61q/s]\n"
     ]
    },
    {
     "name": "stdout",
     "output_type": "stream",
     "text": [
      "The run file is normalized outside the TIRA sandbox, I will store it at \"grid-search/training/bm25-b=0.2-k_1=1.4\".\n",
      "Done. run file is stored under \"grid-search/training/bm25-b=0.2-k_1=1.4/run.txt\".\n",
      "Run bm25-b=0.2-k_1=1.5\n"
     ]
    },
    {
     "name": "stderr",
     "output_type": "stream",
     "text": [
      "BR(BM25): 100%|██████████| 68/68 [00:01<00:00, 49.10q/s]\n"
     ]
    },
    {
     "name": "stdout",
     "output_type": "stream",
     "text": [
      "The run file is normalized outside the TIRA sandbox, I will store it at \"grid-search/training/bm25-b=0.2-k_1=1.5\".\n",
      "Done. run file is stored under \"grid-search/training/bm25-b=0.2-k_1=1.5/run.txt\".\n",
      "Run bm25-b=0.2-k_1=1.6\n"
     ]
    },
    {
     "name": "stderr",
     "output_type": "stream",
     "text": [
      "BR(BM25): 100%|██████████| 68/68 [00:01<00:00, 48.56q/s]\n"
     ]
    },
    {
     "name": "stdout",
     "output_type": "stream",
     "text": [
      "The run file is normalized outside the TIRA sandbox, I will store it at \"grid-search/training/bm25-b=0.2-k_1=1.6\".\n",
      "Done. run file is stored under \"grid-search/training/bm25-b=0.2-k_1=1.6/run.txt\".\n",
      "Run bm25-b=0.2-k_1=1.7\n"
     ]
    },
    {
     "name": "stderr",
     "output_type": "stream",
     "text": [
      "BR(BM25): 100%|██████████| 68/68 [00:01<00:00, 47.33q/s]\n"
     ]
    },
    {
     "name": "stdout",
     "output_type": "stream",
     "text": [
      "The run file is normalized outside the TIRA sandbox, I will store it at \"grid-search/training/bm25-b=0.2-k_1=1.7\".\n",
      "Done. run file is stored under \"grid-search/training/bm25-b=0.2-k_1=1.7/run.txt\".\n",
      "Run bm25-b=0.2-k_1=1.8\n"
     ]
    },
    {
     "name": "stderr",
     "output_type": "stream",
     "text": [
      "BR(BM25): 100%|██████████| 68/68 [00:01<00:00, 46.00q/s]\n"
     ]
    },
    {
     "name": "stdout",
     "output_type": "stream",
     "text": [
      "The run file is normalized outside the TIRA sandbox, I will store it at \"grid-search/training/bm25-b=0.2-k_1=1.8\".\n",
      "Done. run file is stored under \"grid-search/training/bm25-b=0.2-k_1=1.8/run.txt\".\n",
      "Run bm25-b=0.2-k_1=1.9\n"
     ]
    },
    {
     "name": "stderr",
     "output_type": "stream",
     "text": [
      "BR(BM25): 100%|██████████| 68/68 [00:01<00:00, 41.02q/s]\n"
     ]
    },
    {
     "name": "stdout",
     "output_type": "stream",
     "text": [
      "The run file is normalized outside the TIRA sandbox, I will store it at \"grid-search/training/bm25-b=0.2-k_1=1.9\".\n",
      "Done. run file is stored under \"grid-search/training/bm25-b=0.2-k_1=1.9/run.txt\".\n",
      "Run bm25-b=0.2-k_1=2.0\n"
     ]
    },
    {
     "name": "stderr",
     "output_type": "stream",
     "text": [
      "BR(BM25): 100%|██████████| 68/68 [00:01<00:00, 50.94q/s]\n"
     ]
    },
    {
     "name": "stdout",
     "output_type": "stream",
     "text": [
      "The run file is normalized outside the TIRA sandbox, I will store it at \"grid-search/training/bm25-b=0.2-k_1=2.0\".\n",
      "Done. run file is stored under \"grid-search/training/bm25-b=0.2-k_1=2.0/run.txt\".\n",
      "Run bm25-b=0.2-k_1=2.1\n"
     ]
    },
    {
     "name": "stderr",
     "output_type": "stream",
     "text": [
      "BR(BM25): 100%|██████████| 68/68 [00:01<00:00, 49.48q/s]\n"
     ]
    },
    {
     "name": "stdout",
     "output_type": "stream",
     "text": [
      "The run file is normalized outside the TIRA sandbox, I will store it at \"grid-search/training/bm25-b=0.2-k_1=2.1\".\n",
      "Done. run file is stored under \"grid-search/training/bm25-b=0.2-k_1=2.1/run.txt\".\n",
      "Run bm25-b=0.2-k_1=2.2\n"
     ]
    },
    {
     "name": "stderr",
     "output_type": "stream",
     "text": [
      "BR(BM25): 100%|██████████| 68/68 [00:01<00:00, 46.40q/s]\n"
     ]
    },
    {
     "name": "stdout",
     "output_type": "stream",
     "text": [
      "The run file is normalized outside the TIRA sandbox, I will store it at \"grid-search/training/bm25-b=0.2-k_1=2.2\".\n",
      "Done. run file is stored under \"grid-search/training/bm25-b=0.2-k_1=2.2/run.txt\".\n",
      "Run bm25-b=0.2-k_1=2.3\n"
     ]
    },
    {
     "name": "stderr",
     "output_type": "stream",
     "text": [
      "BR(BM25): 100%|██████████| 68/68 [00:01<00:00, 47.56q/s]\n"
     ]
    },
    {
     "name": "stdout",
     "output_type": "stream",
     "text": [
      "The run file is normalized outside the TIRA sandbox, I will store it at \"grid-search/training/bm25-b=0.2-k_1=2.3\".\n",
      "Done. run file is stored under \"grid-search/training/bm25-b=0.2-k_1=2.3/run.txt\".\n",
      "Run bm25-b=0.2-k_1=2.4\n"
     ]
    },
    {
     "name": "stderr",
     "output_type": "stream",
     "text": [
      "BR(BM25): 100%|██████████| 68/68 [00:01<00:00, 45.37q/s]\n"
     ]
    },
    {
     "name": "stdout",
     "output_type": "stream",
     "text": [
      "The run file is normalized outside the TIRA sandbox, I will store it at \"grid-search/training/bm25-b=0.2-k_1=2.4\".\n",
      "Done. run file is stored under \"grid-search/training/bm25-b=0.2-k_1=2.4/run.txt\".\n",
      "Run bm25-b=0.2-k_1=2.5\n"
     ]
    },
    {
     "name": "stderr",
     "output_type": "stream",
     "text": [
      "BR(BM25): 100%|██████████| 68/68 [00:01<00:00, 48.01q/s]\n"
     ]
    },
    {
     "name": "stdout",
     "output_type": "stream",
     "text": [
      "The run file is normalized outside the TIRA sandbox, I will store it at \"grid-search/training/bm25-b=0.2-k_1=2.5\".\n",
      "Done. run file is stored under \"grid-search/training/bm25-b=0.2-k_1=2.5/run.txt\".\n",
      "Run bm25-b=0.2-k_1=2.6\n"
     ]
    },
    {
     "name": "stderr",
     "output_type": "stream",
     "text": [
      "BR(BM25): 100%|██████████| 68/68 [00:01<00:00, 46.70q/s]\n"
     ]
    },
    {
     "name": "stdout",
     "output_type": "stream",
     "text": [
      "The run file is normalized outside the TIRA sandbox, I will store it at \"grid-search/training/bm25-b=0.2-k_1=2.6\".\n",
      "Done. run file is stored under \"grid-search/training/bm25-b=0.2-k_1=2.6/run.txt\".\n",
      "Run bm25-b=0.2-k_1=2.7\n"
     ]
    },
    {
     "name": "stderr",
     "output_type": "stream",
     "text": [
      "BR(BM25): 100%|██████████| 68/68 [00:01<00:00, 42.70q/s]\n"
     ]
    },
    {
     "name": "stdout",
     "output_type": "stream",
     "text": [
      "The run file is normalized outside the TIRA sandbox, I will store it at \"grid-search/training/bm25-b=0.2-k_1=2.7\".\n",
      "Done. run file is stored under \"grid-search/training/bm25-b=0.2-k_1=2.7/run.txt\".\n",
      "Run bm25-b=0.2-k_1=2.8\n"
     ]
    },
    {
     "name": "stderr",
     "output_type": "stream",
     "text": [
      "BR(BM25): 100%|██████████| 68/68 [00:01<00:00, 44.82q/s]\n"
     ]
    },
    {
     "name": "stdout",
     "output_type": "stream",
     "text": [
      "The run file is normalized outside the TIRA sandbox, I will store it at \"grid-search/training/bm25-b=0.2-k_1=2.8\".\n",
      "Done. run file is stored under \"grid-search/training/bm25-b=0.2-k_1=2.8/run.txt\".\n",
      "Run bm25-b=0.2-k_1=2.9\n"
     ]
    },
    {
     "name": "stderr",
     "output_type": "stream",
     "text": [
      "BR(BM25): 100%|██████████| 68/68 [00:01<00:00, 45.92q/s]\n"
     ]
    },
    {
     "name": "stdout",
     "output_type": "stream",
     "text": [
      "The run file is normalized outside the TIRA sandbox, I will store it at \"grid-search/training/bm25-b=0.2-k_1=2.9\".\n",
      "Done. run file is stored under \"grid-search/training/bm25-b=0.2-k_1=2.9/run.txt\".\n",
      "Run bm25-b=0.2-k_1=3.0\n"
     ]
    },
    {
     "name": "stderr",
     "output_type": "stream",
     "text": [
      "BR(BM25): 100%|██████████| 68/68 [00:01<00:00, 49.38q/s]\n"
     ]
    },
    {
     "name": "stdout",
     "output_type": "stream",
     "text": [
      "The run file is normalized outside the TIRA sandbox, I will store it at \"grid-search/training/bm25-b=0.2-k_1=3.0\".\n",
      "Done. run file is stored under \"grid-search/training/bm25-b=0.2-k_1=3.0/run.txt\".\n",
      "Run bm25-b=0.3-k_1=0.5\n"
     ]
    },
    {
     "name": "stderr",
     "output_type": "stream",
     "text": [
      "BR(BM25): 100%|██████████| 68/68 [00:01<00:00, 47.89q/s]\n"
     ]
    },
    {
     "name": "stdout",
     "output_type": "stream",
     "text": [
      "The run file is normalized outside the TIRA sandbox, I will store it at \"grid-search/training/bm25-b=0.3-k_1=0.5\".\n",
      "Done. run file is stored under \"grid-search/training/bm25-b=0.3-k_1=0.5/run.txt\".\n",
      "Run bm25-b=0.3-k_1=0.6\n"
     ]
    },
    {
     "name": "stderr",
     "output_type": "stream",
     "text": [
      "BR(BM25): 100%|██████████| 68/68 [00:01<00:00, 47.69q/s]\n"
     ]
    },
    {
     "name": "stdout",
     "output_type": "stream",
     "text": [
      "The run file is normalized outside the TIRA sandbox, I will store it at \"grid-search/training/bm25-b=0.3-k_1=0.6\".\n",
      "Done. run file is stored under \"grid-search/training/bm25-b=0.3-k_1=0.6/run.txt\".\n",
      "Run bm25-b=0.3-k_1=0.7\n"
     ]
    },
    {
     "name": "stderr",
     "output_type": "stream",
     "text": [
      "BR(BM25): 100%|██████████| 68/68 [00:01<00:00, 48.98q/s]\n"
     ]
    },
    {
     "name": "stdout",
     "output_type": "stream",
     "text": [
      "The run file is normalized outside the TIRA sandbox, I will store it at \"grid-search/training/bm25-b=0.3-k_1=0.7\".\n",
      "Done. run file is stored under \"grid-search/training/bm25-b=0.3-k_1=0.7/run.txt\".\n",
      "Run bm25-b=0.3-k_1=0.8\n"
     ]
    },
    {
     "name": "stderr",
     "output_type": "stream",
     "text": [
      "BR(BM25): 100%|██████████| 68/68 [00:01<00:00, 46.31q/s]\n"
     ]
    },
    {
     "name": "stdout",
     "output_type": "stream",
     "text": [
      "The run file is normalized outside the TIRA sandbox, I will store it at \"grid-search/training/bm25-b=0.3-k_1=0.8\".\n",
      "Done. run file is stored under \"grid-search/training/bm25-b=0.3-k_1=0.8/run.txt\".\n",
      "Run bm25-b=0.3-k_1=0.9\n"
     ]
    },
    {
     "name": "stderr",
     "output_type": "stream",
     "text": [
      "BR(BM25): 100%|██████████| 68/68 [00:01<00:00, 48.10q/s]\n"
     ]
    },
    {
     "name": "stdout",
     "output_type": "stream",
     "text": [
      "The run file is normalized outside the TIRA sandbox, I will store it at \"grid-search/training/bm25-b=0.3-k_1=0.9\".\n",
      "Done. run file is stored under \"grid-search/training/bm25-b=0.3-k_1=0.9/run.txt\".\n",
      "Run bm25-b=0.3-k_1=1.0\n"
     ]
    },
    {
     "name": "stderr",
     "output_type": "stream",
     "text": [
      "BR(BM25): 100%|██████████| 68/68 [00:01<00:00, 47.97q/s]\n"
     ]
    },
    {
     "name": "stdout",
     "output_type": "stream",
     "text": [
      "The run file is normalized outside the TIRA sandbox, I will store it at \"grid-search/training/bm25-b=0.3-k_1=1.0\".\n",
      "Done. run file is stored under \"grid-search/training/bm25-b=0.3-k_1=1.0/run.txt\".\n",
      "Run bm25-b=0.3-k_1=1.1\n"
     ]
    },
    {
     "name": "stderr",
     "output_type": "stream",
     "text": [
      "BR(BM25): 100%|██████████| 68/68 [00:01<00:00, 49.07q/s]\n"
     ]
    },
    {
     "name": "stdout",
     "output_type": "stream",
     "text": [
      "The run file is normalized outside the TIRA sandbox, I will store it at \"grid-search/training/bm25-b=0.3-k_1=1.1\".\n",
      "Done. run file is stored under \"grid-search/training/bm25-b=0.3-k_1=1.1/run.txt\".\n",
      "Run bm25-b=0.3-k_1=1.2\n"
     ]
    },
    {
     "name": "stderr",
     "output_type": "stream",
     "text": [
      "BR(BM25): 100%|██████████| 68/68 [00:01<00:00, 47.33q/s]\n"
     ]
    },
    {
     "name": "stdout",
     "output_type": "stream",
     "text": [
      "The run file is normalized outside the TIRA sandbox, I will store it at \"grid-search/training/bm25-b=0.3-k_1=1.2\".\n",
      "Done. run file is stored under \"grid-search/training/bm25-b=0.3-k_1=1.2/run.txt\".\n",
      "Run bm25-b=0.3-k_1=1.3\n"
     ]
    },
    {
     "name": "stderr",
     "output_type": "stream",
     "text": [
      "BR(BM25): 100%|██████████| 68/68 [00:01<00:00, 44.92q/s]\n"
     ]
    },
    {
     "name": "stdout",
     "output_type": "stream",
     "text": [
      "The run file is normalized outside the TIRA sandbox, I will store it at \"grid-search/training/bm25-b=0.3-k_1=1.3\".\n",
      "Done. run file is stored under \"grid-search/training/bm25-b=0.3-k_1=1.3/run.txt\".\n",
      "Run bm25-b=0.3-k_1=1.4\n"
     ]
    },
    {
     "name": "stderr",
     "output_type": "stream",
     "text": [
      "BR(BM25): 100%|██████████| 68/68 [00:01<00:00, 48.99q/s]\n"
     ]
    },
    {
     "name": "stdout",
     "output_type": "stream",
     "text": [
      "The run file is normalized outside the TIRA sandbox, I will store it at \"grid-search/training/bm25-b=0.3-k_1=1.4\".\n",
      "Done. run file is stored under \"grid-search/training/bm25-b=0.3-k_1=1.4/run.txt\".\n",
      "Run bm25-b=0.3-k_1=1.5\n"
     ]
    },
    {
     "name": "stderr",
     "output_type": "stream",
     "text": [
      "BR(BM25): 100%|██████████| 68/68 [00:01<00:00, 47.83q/s]\n"
     ]
    },
    {
     "name": "stdout",
     "output_type": "stream",
     "text": [
      "The run file is normalized outside the TIRA sandbox, I will store it at \"grid-search/training/bm25-b=0.3-k_1=1.5\".\n",
      "Done. run file is stored under \"grid-search/training/bm25-b=0.3-k_1=1.5/run.txt\".\n",
      "Run bm25-b=0.3-k_1=1.6\n"
     ]
    },
    {
     "name": "stderr",
     "output_type": "stream",
     "text": [
      "BR(BM25): 100%|██████████| 68/68 [00:01<00:00, 47.59q/s]\n"
     ]
    },
    {
     "name": "stdout",
     "output_type": "stream",
     "text": [
      "The run file is normalized outside the TIRA sandbox, I will store it at \"grid-search/training/bm25-b=0.3-k_1=1.6\".\n",
      "Done. run file is stored under \"grid-search/training/bm25-b=0.3-k_1=1.6/run.txt\".\n",
      "Run bm25-b=0.3-k_1=1.7\n"
     ]
    },
    {
     "name": "stderr",
     "output_type": "stream",
     "text": [
      "BR(BM25): 100%|██████████| 68/68 [00:01<00:00, 48.06q/s]\n"
     ]
    },
    {
     "name": "stdout",
     "output_type": "stream",
     "text": [
      "The run file is normalized outside the TIRA sandbox, I will store it at \"grid-search/training/bm25-b=0.3-k_1=1.7\".\n",
      "Done. run file is stored under \"grid-search/training/bm25-b=0.3-k_1=1.7/run.txt\".\n",
      "Run bm25-b=0.3-k_1=1.8\n"
     ]
    },
    {
     "name": "stderr",
     "output_type": "stream",
     "text": [
      "BR(BM25): 100%|██████████| 68/68 [00:01<00:00, 44.29q/s]\n"
     ]
    },
    {
     "name": "stdout",
     "output_type": "stream",
     "text": [
      "The run file is normalized outside the TIRA sandbox, I will store it at \"grid-search/training/bm25-b=0.3-k_1=1.8\".\n",
      "Done. run file is stored under \"grid-search/training/bm25-b=0.3-k_1=1.8/run.txt\".\n",
      "Run bm25-b=0.3-k_1=1.9\n"
     ]
    },
    {
     "name": "stderr",
     "output_type": "stream",
     "text": [
      "BR(BM25): 100%|██████████| 68/68 [00:01<00:00, 50.92q/s]\n"
     ]
    },
    {
     "name": "stdout",
     "output_type": "stream",
     "text": [
      "The run file is normalized outside the TIRA sandbox, I will store it at \"grid-search/training/bm25-b=0.3-k_1=1.9\".\n",
      "Done. run file is stored under \"grid-search/training/bm25-b=0.3-k_1=1.9/run.txt\".\n",
      "Run bm25-b=0.3-k_1=2.0\n"
     ]
    },
    {
     "name": "stderr",
     "output_type": "stream",
     "text": [
      "BR(BM25): 100%|██████████| 68/68 [00:01<00:00, 48.88q/s]\n"
     ]
    },
    {
     "name": "stdout",
     "output_type": "stream",
     "text": [
      "The run file is normalized outside the TIRA sandbox, I will store it at \"grid-search/training/bm25-b=0.3-k_1=2.0\".\n",
      "Done. run file is stored under \"grid-search/training/bm25-b=0.3-k_1=2.0/run.txt\".\n",
      "Run bm25-b=0.3-k_1=2.1\n"
     ]
    },
    {
     "name": "stderr",
     "output_type": "stream",
     "text": [
      "BR(BM25): 100%|██████████| 68/68 [00:01<00:00, 47.10q/s]\n"
     ]
    },
    {
     "name": "stdout",
     "output_type": "stream",
     "text": [
      "The run file is normalized outside the TIRA sandbox, I will store it at \"grid-search/training/bm25-b=0.3-k_1=2.1\".\n",
      "Done. run file is stored under \"grid-search/training/bm25-b=0.3-k_1=2.1/run.txt\".\n",
      "Run bm25-b=0.3-k_1=2.2\n"
     ]
    },
    {
     "name": "stderr",
     "output_type": "stream",
     "text": [
      "BR(BM25): 100%|██████████| 68/68 [00:01<00:00, 52.69q/s]\n"
     ]
    },
    {
     "name": "stdout",
     "output_type": "stream",
     "text": [
      "The run file is normalized outside the TIRA sandbox, I will store it at \"grid-search/training/bm25-b=0.3-k_1=2.2\".\n",
      "Done. run file is stored under \"grid-search/training/bm25-b=0.3-k_1=2.2/run.txt\".\n",
      "Run bm25-b=0.3-k_1=2.3\n"
     ]
    },
    {
     "name": "stderr",
     "output_type": "stream",
     "text": [
      "BR(BM25): 100%|██████████| 68/68 [00:01<00:00, 43.20q/s]\n"
     ]
    },
    {
     "name": "stdout",
     "output_type": "stream",
     "text": [
      "The run file is normalized outside the TIRA sandbox, I will store it at \"grid-search/training/bm25-b=0.3-k_1=2.3\".\n",
      "Done. run file is stored under \"grid-search/training/bm25-b=0.3-k_1=2.3/run.txt\".\n",
      "Run bm25-b=0.3-k_1=2.4\n"
     ]
    },
    {
     "name": "stderr",
     "output_type": "stream",
     "text": [
      "BR(BM25): 100%|██████████| 68/68 [00:01<00:00, 50.11q/s]\n"
     ]
    },
    {
     "name": "stdout",
     "output_type": "stream",
     "text": [
      "The run file is normalized outside the TIRA sandbox, I will store it at \"grid-search/training/bm25-b=0.3-k_1=2.4\".\n",
      "Done. run file is stored under \"grid-search/training/bm25-b=0.3-k_1=2.4/run.txt\".\n",
      "Run bm25-b=0.3-k_1=2.5\n"
     ]
    },
    {
     "name": "stderr",
     "output_type": "stream",
     "text": [
      "BR(BM25): 100%|██████████| 68/68 [00:01<00:00, 51.54q/s]\n"
     ]
    },
    {
     "name": "stdout",
     "output_type": "stream",
     "text": [
      "The run file is normalized outside the TIRA sandbox, I will store it at \"grid-search/training/bm25-b=0.3-k_1=2.5\".\n",
      "Done. run file is stored under \"grid-search/training/bm25-b=0.3-k_1=2.5/run.txt\".\n",
      "Run bm25-b=0.3-k_1=2.6\n"
     ]
    },
    {
     "name": "stderr",
     "output_type": "stream",
     "text": [
      "BR(BM25): 100%|██████████| 68/68 [00:01<00:00, 44.72q/s]\n"
     ]
    },
    {
     "name": "stdout",
     "output_type": "stream",
     "text": [
      "The run file is normalized outside the TIRA sandbox, I will store it at \"grid-search/training/bm25-b=0.3-k_1=2.6\".\n",
      "Done. run file is stored under \"grid-search/training/bm25-b=0.3-k_1=2.6/run.txt\".\n",
      "Run bm25-b=0.3-k_1=2.7\n"
     ]
    },
    {
     "name": "stderr",
     "output_type": "stream",
     "text": [
      "BR(BM25): 100%|██████████| 68/68 [00:01<00:00, 48.72q/s]\n"
     ]
    },
    {
     "name": "stdout",
     "output_type": "stream",
     "text": [
      "The run file is normalized outside the TIRA sandbox, I will store it at \"grid-search/training/bm25-b=0.3-k_1=2.7\".\n",
      "Done. run file is stored under \"grid-search/training/bm25-b=0.3-k_1=2.7/run.txt\".\n",
      "Run bm25-b=0.3-k_1=2.8\n"
     ]
    },
    {
     "name": "stderr",
     "output_type": "stream",
     "text": [
      "BR(BM25): 100%|██████████| 68/68 [00:01<00:00, 47.16q/s]\n"
     ]
    },
    {
     "name": "stdout",
     "output_type": "stream",
     "text": [
      "The run file is normalized outside the TIRA sandbox, I will store it at \"grid-search/training/bm25-b=0.3-k_1=2.8\".\n",
      "Done. run file is stored under \"grid-search/training/bm25-b=0.3-k_1=2.8/run.txt\".\n",
      "Run bm25-b=0.3-k_1=2.9\n"
     ]
    },
    {
     "name": "stderr",
     "output_type": "stream",
     "text": [
      "BR(BM25): 100%|██████████| 68/68 [00:01<00:00, 42.54q/s]\n"
     ]
    },
    {
     "name": "stdout",
     "output_type": "stream",
     "text": [
      "The run file is normalized outside the TIRA sandbox, I will store it at \"grid-search/training/bm25-b=0.3-k_1=2.9\".\n",
      "Done. run file is stored under \"grid-search/training/bm25-b=0.3-k_1=2.9/run.txt\".\n",
      "Run bm25-b=0.3-k_1=3.0\n"
     ]
    },
    {
     "name": "stderr",
     "output_type": "stream",
     "text": [
      "BR(BM25): 100%|██████████| 68/68 [00:01<00:00, 47.86q/s]\n"
     ]
    },
    {
     "name": "stdout",
     "output_type": "stream",
     "text": [
      "The run file is normalized outside the TIRA sandbox, I will store it at \"grid-search/training/bm25-b=0.3-k_1=3.0\".\n",
      "Done. run file is stored under \"grid-search/training/bm25-b=0.3-k_1=3.0/run.txt\".\n",
      "Run bm25-b=0.4-k_1=0.5\n"
     ]
    },
    {
     "name": "stderr",
     "output_type": "stream",
     "text": [
      "BR(BM25): 100%|██████████| 68/68 [00:01<00:00, 45.81q/s]\n"
     ]
    },
    {
     "name": "stdout",
     "output_type": "stream",
     "text": [
      "The run file is normalized outside the TIRA sandbox, I will store it at \"grid-search/training/bm25-b=0.4-k_1=0.5\".\n",
      "Done. run file is stored under \"grid-search/training/bm25-b=0.4-k_1=0.5/run.txt\".\n",
      "Run bm25-b=0.4-k_1=0.6\n"
     ]
    },
    {
     "name": "stderr",
     "output_type": "stream",
     "text": [
      "BR(BM25): 100%|██████████| 68/68 [00:01<00:00, 50.37q/s]\n"
     ]
    },
    {
     "name": "stdout",
     "output_type": "stream",
     "text": [
      "The run file is normalized outside the TIRA sandbox, I will store it at \"grid-search/training/bm25-b=0.4-k_1=0.6\".\n",
      "Done. run file is stored under \"grid-search/training/bm25-b=0.4-k_1=0.6/run.txt\".\n",
      "Run bm25-b=0.4-k_1=0.7\n"
     ]
    },
    {
     "name": "stderr",
     "output_type": "stream",
     "text": [
      "BR(BM25): 100%|██████████| 68/68 [00:01<00:00, 44.96q/s]\n"
     ]
    },
    {
     "name": "stdout",
     "output_type": "stream",
     "text": [
      "The run file is normalized outside the TIRA sandbox, I will store it at \"grid-search/training/bm25-b=0.4-k_1=0.7\".\n",
      "Done. run file is stored under \"grid-search/training/bm25-b=0.4-k_1=0.7/run.txt\".\n",
      "Run bm25-b=0.4-k_1=0.8\n"
     ]
    },
    {
     "name": "stderr",
     "output_type": "stream",
     "text": [
      "BR(BM25): 100%|██████████| 68/68 [00:01<00:00, 40.66q/s]\n"
     ]
    },
    {
     "name": "stdout",
     "output_type": "stream",
     "text": [
      "The run file is normalized outside the TIRA sandbox, I will store it at \"grid-search/training/bm25-b=0.4-k_1=0.8\".\n",
      "Done. run file is stored under \"grid-search/training/bm25-b=0.4-k_1=0.8/run.txt\".\n",
      "Run bm25-b=0.4-k_1=0.9\n"
     ]
    },
    {
     "name": "stderr",
     "output_type": "stream",
     "text": [
      "BR(BM25): 100%|██████████| 68/68 [00:01<00:00, 48.37q/s]\n"
     ]
    },
    {
     "name": "stdout",
     "output_type": "stream",
     "text": [
      "The run file is normalized outside the TIRA sandbox, I will store it at \"grid-search/training/bm25-b=0.4-k_1=0.9\".\n",
      "Done. run file is stored under \"grid-search/training/bm25-b=0.4-k_1=0.9/run.txt\".\n",
      "Run bm25-b=0.4-k_1=1.0\n"
     ]
    },
    {
     "name": "stderr",
     "output_type": "stream",
     "text": [
      "BR(BM25): 100%|██████████| 68/68 [00:01<00:00, 47.62q/s]\n"
     ]
    },
    {
     "name": "stdout",
     "output_type": "stream",
     "text": [
      "The run file is normalized outside the TIRA sandbox, I will store it at \"grid-search/training/bm25-b=0.4-k_1=1.0\".\n",
      "Done. run file is stored under \"grid-search/training/bm25-b=0.4-k_1=1.0/run.txt\".\n",
      "Run bm25-b=0.4-k_1=1.1\n"
     ]
    },
    {
     "name": "stderr",
     "output_type": "stream",
     "text": [
      "BR(BM25): 100%|██████████| 68/68 [00:01<00:00, 46.93q/s]\n"
     ]
    },
    {
     "name": "stdout",
     "output_type": "stream",
     "text": [
      "The run file is normalized outside the TIRA sandbox, I will store it at \"grid-search/training/bm25-b=0.4-k_1=1.1\".\n",
      "Done. run file is stored under \"grid-search/training/bm25-b=0.4-k_1=1.1/run.txt\".\n",
      "Run bm25-b=0.4-k_1=1.2\n"
     ]
    },
    {
     "name": "stderr",
     "output_type": "stream",
     "text": [
      "BR(BM25): 100%|██████████| 68/68 [00:01<00:00, 49.43q/s]\n"
     ]
    },
    {
     "name": "stdout",
     "output_type": "stream",
     "text": [
      "The run file is normalized outside the TIRA sandbox, I will store it at \"grid-search/training/bm25-b=0.4-k_1=1.2\".\n",
      "Done. run file is stored under \"grid-search/training/bm25-b=0.4-k_1=1.2/run.txt\".\n",
      "Run bm25-b=0.4-k_1=1.3\n"
     ]
    },
    {
     "name": "stderr",
     "output_type": "stream",
     "text": [
      "BR(BM25): 100%|██████████| 68/68 [00:01<00:00, 41.95q/s]\n"
     ]
    },
    {
     "name": "stdout",
     "output_type": "stream",
     "text": [
      "The run file is normalized outside the TIRA sandbox, I will store it at \"grid-search/training/bm25-b=0.4-k_1=1.3\".\n",
      "Done. run file is stored under \"grid-search/training/bm25-b=0.4-k_1=1.3/run.txt\".\n",
      "Run bm25-b=0.4-k_1=1.4\n"
     ]
    },
    {
     "name": "stderr",
     "output_type": "stream",
     "text": [
      "BR(BM25): 100%|██████████| 68/68 [00:01<00:00, 46.68q/s]\n"
     ]
    },
    {
     "name": "stdout",
     "output_type": "stream",
     "text": [
      "The run file is normalized outside the TIRA sandbox, I will store it at \"grid-search/training/bm25-b=0.4-k_1=1.4\".\n",
      "Done. run file is stored under \"grid-search/training/bm25-b=0.4-k_1=1.4/run.txt\".\n",
      "Run bm25-b=0.4-k_1=1.5\n"
     ]
    },
    {
     "name": "stderr",
     "output_type": "stream",
     "text": [
      "BR(BM25): 100%|██████████| 68/68 [00:01<00:00, 45.89q/s]\n"
     ]
    },
    {
     "name": "stdout",
     "output_type": "stream",
     "text": [
      "The run file is normalized outside the TIRA sandbox, I will store it at \"grid-search/training/bm25-b=0.4-k_1=1.5\".\n",
      "Done. run file is stored under \"grid-search/training/bm25-b=0.4-k_1=1.5/run.txt\".\n",
      "Run bm25-b=0.4-k_1=1.6\n"
     ]
    },
    {
     "name": "stderr",
     "output_type": "stream",
     "text": [
      "BR(BM25): 100%|██████████| 68/68 [00:01<00:00, 46.53q/s]\n"
     ]
    },
    {
     "name": "stdout",
     "output_type": "stream",
     "text": [
      "The run file is normalized outside the TIRA sandbox, I will store it at \"grid-search/training/bm25-b=0.4-k_1=1.6\".\n",
      "Done. run file is stored under \"grid-search/training/bm25-b=0.4-k_1=1.6/run.txt\".\n",
      "Run bm25-b=0.4-k_1=1.7\n"
     ]
    },
    {
     "name": "stderr",
     "output_type": "stream",
     "text": [
      "BR(BM25): 100%|██████████| 68/68 [00:01<00:00, 51.67q/s]\n"
     ]
    },
    {
     "name": "stdout",
     "output_type": "stream",
     "text": [
      "The run file is normalized outside the TIRA sandbox, I will store it at \"grid-search/training/bm25-b=0.4-k_1=1.7\".\n",
      "Done. run file is stored under \"grid-search/training/bm25-b=0.4-k_1=1.7/run.txt\".\n",
      "Run bm25-b=0.4-k_1=1.8\n"
     ]
    },
    {
     "name": "stderr",
     "output_type": "stream",
     "text": [
      "BR(BM25): 100%|██████████| 68/68 [00:01<00:00, 38.88q/s]\n"
     ]
    },
    {
     "name": "stdout",
     "output_type": "stream",
     "text": [
      "The run file is normalized outside the TIRA sandbox, I will store it at \"grid-search/training/bm25-b=0.4-k_1=1.8\".\n",
      "Done. run file is stored under \"grid-search/training/bm25-b=0.4-k_1=1.8/run.txt\".\n",
      "Run bm25-b=0.4-k_1=1.9\n"
     ]
    },
    {
     "name": "stderr",
     "output_type": "stream",
     "text": [
      "BR(BM25): 100%|██████████| 68/68 [00:01<00:00, 46.13q/s]\n"
     ]
    },
    {
     "name": "stdout",
     "output_type": "stream",
     "text": [
      "The run file is normalized outside the TIRA sandbox, I will store it at \"grid-search/training/bm25-b=0.4-k_1=1.9\".\n",
      "Done. run file is stored under \"grid-search/training/bm25-b=0.4-k_1=1.9/run.txt\".\n",
      "Run bm25-b=0.4-k_1=2.0\n"
     ]
    },
    {
     "name": "stderr",
     "output_type": "stream",
     "text": [
      "BR(BM25): 100%|██████████| 68/68 [00:01<00:00, 52.28q/s]\n"
     ]
    },
    {
     "name": "stdout",
     "output_type": "stream",
     "text": [
      "The run file is normalized outside the TIRA sandbox, I will store it at \"grid-search/training/bm25-b=0.4-k_1=2.0\".\n",
      "Done. run file is stored under \"grid-search/training/bm25-b=0.4-k_1=2.0/run.txt\".\n",
      "Run bm25-b=0.4-k_1=2.1\n"
     ]
    },
    {
     "name": "stderr",
     "output_type": "stream",
     "text": [
      "BR(BM25): 100%|██████████| 68/68 [00:01<00:00, 50.64q/s]\n"
     ]
    },
    {
     "name": "stdout",
     "output_type": "stream",
     "text": [
      "The run file is normalized outside the TIRA sandbox, I will store it at \"grid-search/training/bm25-b=0.4-k_1=2.1\".\n",
      "Done. run file is stored under \"grid-search/training/bm25-b=0.4-k_1=2.1/run.txt\".\n",
      "Run bm25-b=0.4-k_1=2.2\n"
     ]
    },
    {
     "name": "stderr",
     "output_type": "stream",
     "text": [
      "BR(BM25): 100%|██████████| 68/68 [00:01<00:00, 47.00q/s]\n"
     ]
    },
    {
     "name": "stdout",
     "output_type": "stream",
     "text": [
      "The run file is normalized outside the TIRA sandbox, I will store it at \"grid-search/training/bm25-b=0.4-k_1=2.2\".\n",
      "Done. run file is stored under \"grid-search/training/bm25-b=0.4-k_1=2.2/run.txt\".\n",
      "Run bm25-b=0.4-k_1=2.3\n"
     ]
    },
    {
     "name": "stderr",
     "output_type": "stream",
     "text": [
      "BR(BM25): 100%|██████████| 68/68 [00:01<00:00, 43.32q/s]\n"
     ]
    },
    {
     "name": "stdout",
     "output_type": "stream",
     "text": [
      "The run file is normalized outside the TIRA sandbox, I will store it at \"grid-search/training/bm25-b=0.4-k_1=2.3\".\n",
      "Done. run file is stored under \"grid-search/training/bm25-b=0.4-k_1=2.3/run.txt\".\n",
      "Run bm25-b=0.4-k_1=2.4\n"
     ]
    },
    {
     "name": "stderr",
     "output_type": "stream",
     "text": [
      "BR(BM25): 100%|██████████| 68/68 [00:01<00:00, 50.24q/s]\n"
     ]
    },
    {
     "name": "stdout",
     "output_type": "stream",
     "text": [
      "The run file is normalized outside the TIRA sandbox, I will store it at \"grid-search/training/bm25-b=0.4-k_1=2.4\".\n",
      "Done. run file is stored under \"grid-search/training/bm25-b=0.4-k_1=2.4/run.txt\".\n",
      "Run bm25-b=0.4-k_1=2.5\n"
     ]
    },
    {
     "name": "stderr",
     "output_type": "stream",
     "text": [
      "BR(BM25): 100%|██████████| 68/68 [00:01<00:00, 49.25q/s]\n"
     ]
    },
    {
     "name": "stdout",
     "output_type": "stream",
     "text": [
      "The run file is normalized outside the TIRA sandbox, I will store it at \"grid-search/training/bm25-b=0.4-k_1=2.5\".\n",
      "Done. run file is stored under \"grid-search/training/bm25-b=0.4-k_1=2.5/run.txt\".\n",
      "Run bm25-b=0.4-k_1=2.6\n"
     ]
    },
    {
     "name": "stderr",
     "output_type": "stream",
     "text": [
      "BR(BM25): 100%|██████████| 68/68 [00:01<00:00, 48.14q/s]\n"
     ]
    },
    {
     "name": "stdout",
     "output_type": "stream",
     "text": [
      "The run file is normalized outside the TIRA sandbox, I will store it at \"grid-search/training/bm25-b=0.4-k_1=2.6\".\n",
      "Done. run file is stored under \"grid-search/training/bm25-b=0.4-k_1=2.6/run.txt\".\n",
      "Run bm25-b=0.4-k_1=2.7\n"
     ]
    },
    {
     "name": "stderr",
     "output_type": "stream",
     "text": [
      "BR(BM25): 100%|██████████| 68/68 [00:01<00:00, 51.61q/s]\n"
     ]
    },
    {
     "name": "stdout",
     "output_type": "stream",
     "text": [
      "The run file is normalized outside the TIRA sandbox, I will store it at \"grid-search/training/bm25-b=0.4-k_1=2.7\".\n",
      "Done. run file is stored under \"grid-search/training/bm25-b=0.4-k_1=2.7/run.txt\".\n",
      "Run bm25-b=0.4-k_1=2.8\n"
     ]
    },
    {
     "name": "stderr",
     "output_type": "stream",
     "text": [
      "BR(BM25): 100%|██████████| 68/68 [00:01<00:00, 49.78q/s]\n"
     ]
    },
    {
     "name": "stdout",
     "output_type": "stream",
     "text": [
      "The run file is normalized outside the TIRA sandbox, I will store it at \"grid-search/training/bm25-b=0.4-k_1=2.8\".\n",
      "Done. run file is stored under \"grid-search/training/bm25-b=0.4-k_1=2.8/run.txt\".\n",
      "Run bm25-b=0.4-k_1=2.9\n"
     ]
    },
    {
     "name": "stderr",
     "output_type": "stream",
     "text": [
      "BR(BM25): 100%|██████████| 68/68 [00:01<00:00, 45.18q/s]\n"
     ]
    },
    {
     "name": "stdout",
     "output_type": "stream",
     "text": [
      "The run file is normalized outside the TIRA sandbox, I will store it at \"grid-search/training/bm25-b=0.4-k_1=2.9\".\n",
      "Done. run file is stored under \"grid-search/training/bm25-b=0.4-k_1=2.9/run.txt\".\n",
      "Run bm25-b=0.4-k_1=3.0\n"
     ]
    },
    {
     "name": "stderr",
     "output_type": "stream",
     "text": [
      "BR(BM25): 100%|██████████| 68/68 [00:01<00:00, 48.12q/s]\n"
     ]
    },
    {
     "name": "stdout",
     "output_type": "stream",
     "text": [
      "The run file is normalized outside the TIRA sandbox, I will store it at \"grid-search/training/bm25-b=0.4-k_1=3.0\".\n",
      "Done. run file is stored under \"grid-search/training/bm25-b=0.4-k_1=3.0/run.txt\".\n",
      "Run bm25-b=0.5-k_1=0.5\n"
     ]
    },
    {
     "name": "stderr",
     "output_type": "stream",
     "text": [
      "BR(BM25): 100%|██████████| 68/68 [00:01<00:00, 48.37q/s]\n"
     ]
    },
    {
     "name": "stdout",
     "output_type": "stream",
     "text": [
      "The run file is normalized outside the TIRA sandbox, I will store it at \"grid-search/training/bm25-b=0.5-k_1=0.5\".\n",
      "Done. run file is stored under \"grid-search/training/bm25-b=0.5-k_1=0.5/run.txt\".\n",
      "Run bm25-b=0.5-k_1=0.6\n"
     ]
    },
    {
     "name": "stderr",
     "output_type": "stream",
     "text": [
      "BR(BM25): 100%|██████████| 68/68 [00:01<00:00, 47.23q/s]\n"
     ]
    },
    {
     "name": "stdout",
     "output_type": "stream",
     "text": [
      "The run file is normalized outside the TIRA sandbox, I will store it at \"grid-search/training/bm25-b=0.5-k_1=0.6\".\n",
      "Done. run file is stored under \"grid-search/training/bm25-b=0.5-k_1=0.6/run.txt\".\n",
      "Run bm25-b=0.5-k_1=0.7\n"
     ]
    },
    {
     "name": "stderr",
     "output_type": "stream",
     "text": [
      "BR(BM25): 100%|██████████| 68/68 [00:01<00:00, 39.84q/s]\n"
     ]
    },
    {
     "name": "stdout",
     "output_type": "stream",
     "text": [
      "The run file is normalized outside the TIRA sandbox, I will store it at \"grid-search/training/bm25-b=0.5-k_1=0.7\".\n",
      "Done. run file is stored under \"grid-search/training/bm25-b=0.5-k_1=0.7/run.txt\".\n",
      "Run bm25-b=0.5-k_1=0.8\n"
     ]
    },
    {
     "name": "stderr",
     "output_type": "stream",
     "text": [
      "BR(BM25): 100%|██████████| 68/68 [00:01<00:00, 44.42q/s]\n"
     ]
    },
    {
     "name": "stdout",
     "output_type": "stream",
     "text": [
      "The run file is normalized outside the TIRA sandbox, I will store it at \"grid-search/training/bm25-b=0.5-k_1=0.8\".\n",
      "Done. run file is stored under \"grid-search/training/bm25-b=0.5-k_1=0.8/run.txt\".\n",
      "Run bm25-b=0.5-k_1=0.9\n"
     ]
    },
    {
     "name": "stderr",
     "output_type": "stream",
     "text": [
      "BR(BM25): 100%|██████████| 68/68 [00:01<00:00, 46.03q/s]\n"
     ]
    },
    {
     "name": "stdout",
     "output_type": "stream",
     "text": [
      "The run file is normalized outside the TIRA sandbox, I will store it at \"grid-search/training/bm25-b=0.5-k_1=0.9\".\n",
      "Done. run file is stored under \"grid-search/training/bm25-b=0.5-k_1=0.9/run.txt\".\n",
      "Run bm25-b=0.5-k_1=1.0\n"
     ]
    },
    {
     "name": "stderr",
     "output_type": "stream",
     "text": [
      "BR(BM25): 100%|██████████| 68/68 [00:01<00:00, 39.66q/s]\n"
     ]
    },
    {
     "name": "stdout",
     "output_type": "stream",
     "text": [
      "The run file is normalized outside the TIRA sandbox, I will store it at \"grid-search/training/bm25-b=0.5-k_1=1.0\".\n",
      "Done. run file is stored under \"grid-search/training/bm25-b=0.5-k_1=1.0/run.txt\".\n",
      "Run bm25-b=0.5-k_1=1.1\n"
     ]
    },
    {
     "name": "stderr",
     "output_type": "stream",
     "text": [
      "BR(BM25): 100%|██████████| 68/68 [00:01<00:00, 48.07q/s]\n"
     ]
    },
    {
     "name": "stdout",
     "output_type": "stream",
     "text": [
      "The run file is normalized outside the TIRA sandbox, I will store it at \"grid-search/training/bm25-b=0.5-k_1=1.1\".\n",
      "Done. run file is stored under \"grid-search/training/bm25-b=0.5-k_1=1.1/run.txt\".\n",
      "Run bm25-b=0.5-k_1=1.2\n"
     ]
    },
    {
     "name": "stderr",
     "output_type": "stream",
     "text": [
      "BR(BM25): 100%|██████████| 68/68 [00:01<00:00, 44.61q/s]\n"
     ]
    },
    {
     "name": "stdout",
     "output_type": "stream",
     "text": [
      "The run file is normalized outside the TIRA sandbox, I will store it at \"grid-search/training/bm25-b=0.5-k_1=1.2\".\n",
      "Done. run file is stored under \"grid-search/training/bm25-b=0.5-k_1=1.2/run.txt\".\n",
      "Run bm25-b=0.5-k_1=1.3\n"
     ]
    },
    {
     "name": "stderr",
     "output_type": "stream",
     "text": [
      "BR(BM25): 100%|██████████| 68/68 [00:01<00:00, 36.94q/s]\n"
     ]
    },
    {
     "name": "stdout",
     "output_type": "stream",
     "text": [
      "The run file is normalized outside the TIRA sandbox, I will store it at \"grid-search/training/bm25-b=0.5-k_1=1.3\".\n",
      "Done. run file is stored under \"grid-search/training/bm25-b=0.5-k_1=1.3/run.txt\".\n",
      "Run bm25-b=0.5-k_1=1.4\n"
     ]
    },
    {
     "name": "stderr",
     "output_type": "stream",
     "text": [
      "BR(BM25): 100%|██████████| 68/68 [00:01<00:00, 45.82q/s]\n"
     ]
    },
    {
     "name": "stdout",
     "output_type": "stream",
     "text": [
      "The run file is normalized outside the TIRA sandbox, I will store it at \"grid-search/training/bm25-b=0.5-k_1=1.4\".\n",
      "Done. run file is stored under \"grid-search/training/bm25-b=0.5-k_1=1.4/run.txt\".\n",
      "Run bm25-b=0.5-k_1=1.5\n"
     ]
    },
    {
     "name": "stderr",
     "output_type": "stream",
     "text": [
      "BR(BM25): 100%|██████████| 68/68 [00:01<00:00, 50.41q/s]\n"
     ]
    },
    {
     "name": "stdout",
     "output_type": "stream",
     "text": [
      "The run file is normalized outside the TIRA sandbox, I will store it at \"grid-search/training/bm25-b=0.5-k_1=1.5\".\n",
      "Done. run file is stored under \"grid-search/training/bm25-b=0.5-k_1=1.5/run.txt\".\n",
      "Run bm25-b=0.5-k_1=1.6\n"
     ]
    },
    {
     "name": "stderr",
     "output_type": "stream",
     "text": [
      "BR(BM25): 100%|██████████| 68/68 [00:01<00:00, 49.44q/s]\n"
     ]
    },
    {
     "name": "stdout",
     "output_type": "stream",
     "text": [
      "The run file is normalized outside the TIRA sandbox, I will store it at \"grid-search/training/bm25-b=0.5-k_1=1.6\".\n",
      "Done. run file is stored under \"grid-search/training/bm25-b=0.5-k_1=1.6/run.txt\".\n",
      "Run bm25-b=0.5-k_1=1.7\n"
     ]
    },
    {
     "name": "stderr",
     "output_type": "stream",
     "text": [
      "BR(BM25): 100%|██████████| 68/68 [00:01<00:00, 43.88q/s]\n"
     ]
    },
    {
     "name": "stdout",
     "output_type": "stream",
     "text": [
      "The run file is normalized outside the TIRA sandbox, I will store it at \"grid-search/training/bm25-b=0.5-k_1=1.7\".\n",
      "Done. run file is stored under \"grid-search/training/bm25-b=0.5-k_1=1.7/run.txt\".\n",
      "Run bm25-b=0.5-k_1=1.8\n"
     ]
    },
    {
     "name": "stderr",
     "output_type": "stream",
     "text": [
      "BR(BM25): 100%|██████████| 68/68 [00:01<00:00, 39.13q/s]\n"
     ]
    },
    {
     "name": "stdout",
     "output_type": "stream",
     "text": [
      "The run file is normalized outside the TIRA sandbox, I will store it at \"grid-search/training/bm25-b=0.5-k_1=1.8\".\n",
      "Done. run file is stored under \"grid-search/training/bm25-b=0.5-k_1=1.8/run.txt\".\n",
      "Run bm25-b=0.5-k_1=1.9\n"
     ]
    },
    {
     "name": "stderr",
     "output_type": "stream",
     "text": [
      "BR(BM25): 100%|██████████| 68/68 [00:01<00:00, 49.99q/s]\n"
     ]
    },
    {
     "name": "stdout",
     "output_type": "stream",
     "text": [
      "The run file is normalized outside the TIRA sandbox, I will store it at \"grid-search/training/bm25-b=0.5-k_1=1.9\".\n",
      "Done. run file is stored under \"grid-search/training/bm25-b=0.5-k_1=1.9/run.txt\".\n",
      "Run bm25-b=0.5-k_1=2.0\n"
     ]
    },
    {
     "name": "stderr",
     "output_type": "stream",
     "text": [
      "BR(BM25): 100%|██████████| 68/68 [00:01<00:00, 46.61q/s]\n"
     ]
    },
    {
     "name": "stdout",
     "output_type": "stream",
     "text": [
      "The run file is normalized outside the TIRA sandbox, I will store it at \"grid-search/training/bm25-b=0.5-k_1=2.0\".\n",
      "Done. run file is stored under \"grid-search/training/bm25-b=0.5-k_1=2.0/run.txt\".\n",
      "Run bm25-b=0.5-k_1=2.1\n"
     ]
    },
    {
     "name": "stderr",
     "output_type": "stream",
     "text": [
      "BR(BM25): 100%|██████████| 68/68 [00:01<00:00, 48.82q/s]\n"
     ]
    },
    {
     "name": "stdout",
     "output_type": "stream",
     "text": [
      "The run file is normalized outside the TIRA sandbox, I will store it at \"grid-search/training/bm25-b=0.5-k_1=2.1\".\n",
      "Done. run file is stored under \"grid-search/training/bm25-b=0.5-k_1=2.1/run.txt\".\n",
      "Run bm25-b=0.5-k_1=2.2\n"
     ]
    },
    {
     "name": "stderr",
     "output_type": "stream",
     "text": [
      "BR(BM25): 100%|██████████| 68/68 [00:01<00:00, 48.36q/s]\n"
     ]
    },
    {
     "name": "stdout",
     "output_type": "stream",
     "text": [
      "The run file is normalized outside the TIRA sandbox, I will store it at \"grid-search/training/bm25-b=0.5-k_1=2.2\".\n",
      "Done. run file is stored under \"grid-search/training/bm25-b=0.5-k_1=2.2/run.txt\".\n",
      "Run bm25-b=0.5-k_1=2.3\n"
     ]
    },
    {
     "name": "stderr",
     "output_type": "stream",
     "text": [
      "BR(BM25): 100%|██████████| 68/68 [00:01<00:00, 39.75q/s]\n"
     ]
    },
    {
     "name": "stdout",
     "output_type": "stream",
     "text": [
      "The run file is normalized outside the TIRA sandbox, I will store it at \"grid-search/training/bm25-b=0.5-k_1=2.3\".\n",
      "Done. run file is stored under \"grid-search/training/bm25-b=0.5-k_1=2.3/run.txt\".\n",
      "Run bm25-b=0.5-k_1=2.4\n"
     ]
    },
    {
     "name": "stderr",
     "output_type": "stream",
     "text": [
      "BR(BM25): 100%|██████████| 68/68 [00:01<00:00, 40.58q/s]\n"
     ]
    },
    {
     "name": "stdout",
     "output_type": "stream",
     "text": [
      "The run file is normalized outside the TIRA sandbox, I will store it at \"grid-search/training/bm25-b=0.5-k_1=2.4\".\n",
      "Done. run file is stored under \"grid-search/training/bm25-b=0.5-k_1=2.4/run.txt\".\n",
      "Run bm25-b=0.5-k_1=2.5\n"
     ]
    },
    {
     "name": "stderr",
     "output_type": "stream",
     "text": [
      "BR(BM25): 100%|██████████| 68/68 [00:01<00:00, 45.19q/s]\n"
     ]
    },
    {
     "name": "stdout",
     "output_type": "stream",
     "text": [
      "The run file is normalized outside the TIRA sandbox, I will store it at \"grid-search/training/bm25-b=0.5-k_1=2.5\".\n",
      "Done. run file is stored under \"grid-search/training/bm25-b=0.5-k_1=2.5/run.txt\".\n",
      "Run bm25-b=0.5-k_1=2.6\n"
     ]
    },
    {
     "name": "stderr",
     "output_type": "stream",
     "text": [
      "BR(BM25): 100%|██████████| 68/68 [00:01<00:00, 51.48q/s]\n"
     ]
    },
    {
     "name": "stdout",
     "output_type": "stream",
     "text": [
      "The run file is normalized outside the TIRA sandbox, I will store it at \"grid-search/training/bm25-b=0.5-k_1=2.6\".\n",
      "Done. run file is stored under \"grid-search/training/bm25-b=0.5-k_1=2.6/run.txt\".\n",
      "Run bm25-b=0.5-k_1=2.7\n"
     ]
    },
    {
     "name": "stderr",
     "output_type": "stream",
     "text": [
      "BR(BM25): 100%|██████████| 68/68 [00:01<00:00, 47.88q/s]\n"
     ]
    },
    {
     "name": "stdout",
     "output_type": "stream",
     "text": [
      "The run file is normalized outside the TIRA sandbox, I will store it at \"grid-search/training/bm25-b=0.5-k_1=2.7\".\n",
      "Done. run file is stored under \"grid-search/training/bm25-b=0.5-k_1=2.7/run.txt\".\n",
      "Run bm25-b=0.5-k_1=2.8\n"
     ]
    },
    {
     "name": "stderr",
     "output_type": "stream",
     "text": [
      "BR(BM25): 100%|██████████| 68/68 [00:01<00:00, 38.47q/s]\n"
     ]
    },
    {
     "name": "stdout",
     "output_type": "stream",
     "text": [
      "The run file is normalized outside the TIRA sandbox, I will store it at \"grid-search/training/bm25-b=0.5-k_1=2.8\".\n",
      "Done. run file is stored under \"grid-search/training/bm25-b=0.5-k_1=2.8/run.txt\".\n",
      "Run bm25-b=0.5-k_1=2.9\n"
     ]
    },
    {
     "name": "stderr",
     "output_type": "stream",
     "text": [
      "BR(BM25): 100%|██████████| 68/68 [00:01<00:00, 47.80q/s]\n"
     ]
    },
    {
     "name": "stdout",
     "output_type": "stream",
     "text": [
      "The run file is normalized outside the TIRA sandbox, I will store it at \"grid-search/training/bm25-b=0.5-k_1=2.9\".\n",
      "Done. run file is stored under \"grid-search/training/bm25-b=0.5-k_1=2.9/run.txt\".\n",
      "Run bm25-b=0.5-k_1=3.0\n"
     ]
    },
    {
     "name": "stderr",
     "output_type": "stream",
     "text": [
      "BR(BM25): 100%|██████████| 68/68 [00:01<00:00, 48.02q/s]\n"
     ]
    },
    {
     "name": "stdout",
     "output_type": "stream",
     "text": [
      "The run file is normalized outside the TIRA sandbox, I will store it at \"grid-search/training/bm25-b=0.5-k_1=3.0\".\n",
      "Done. run file is stored under \"grid-search/training/bm25-b=0.5-k_1=3.0/run.txt\".\n",
      "Run bm25-b=0.6-k_1=0.5\n"
     ]
    },
    {
     "name": "stderr",
     "output_type": "stream",
     "text": [
      "BR(BM25): 100%|██████████| 68/68 [00:01<00:00, 48.07q/s]\n"
     ]
    },
    {
     "name": "stdout",
     "output_type": "stream",
     "text": [
      "The run file is normalized outside the TIRA sandbox, I will store it at \"grid-search/training/bm25-b=0.6-k_1=0.5\".\n",
      "Done. run file is stored under \"grid-search/training/bm25-b=0.6-k_1=0.5/run.txt\".\n",
      "Run bm25-b=0.6-k_1=0.6\n"
     ]
    },
    {
     "name": "stderr",
     "output_type": "stream",
     "text": [
      "BR(BM25): 100%|██████████| 68/68 [00:01<00:00, 45.36q/s]\n"
     ]
    },
    {
     "name": "stdout",
     "output_type": "stream",
     "text": [
      "The run file is normalized outside the TIRA sandbox, I will store it at \"grid-search/training/bm25-b=0.6-k_1=0.6\".\n",
      "Done. run file is stored under \"grid-search/training/bm25-b=0.6-k_1=0.6/run.txt\".\n",
      "Run bm25-b=0.6-k_1=0.7\n"
     ]
    },
    {
     "name": "stderr",
     "output_type": "stream",
     "text": [
      "BR(BM25): 100%|██████████| 68/68 [00:01<00:00, 40.77q/s]\n"
     ]
    },
    {
     "name": "stdout",
     "output_type": "stream",
     "text": [
      "The run file is normalized outside the TIRA sandbox, I will store it at \"grid-search/training/bm25-b=0.6-k_1=0.7\".\n",
      "Done. run file is stored under \"grid-search/training/bm25-b=0.6-k_1=0.7/run.txt\".\n",
      "Run bm25-b=0.6-k_1=0.8\n"
     ]
    },
    {
     "name": "stderr",
     "output_type": "stream",
     "text": [
      "BR(BM25): 100%|██████████| 68/68 [00:01<00:00, 47.22q/s]\n"
     ]
    },
    {
     "name": "stdout",
     "output_type": "stream",
     "text": [
      "The run file is normalized outside the TIRA sandbox, I will store it at \"grid-search/training/bm25-b=0.6-k_1=0.8\".\n",
      "Done. run file is stored under \"grid-search/training/bm25-b=0.6-k_1=0.8/run.txt\".\n",
      "Run bm25-b=0.6-k_1=0.9\n"
     ]
    },
    {
     "name": "stderr",
     "output_type": "stream",
     "text": [
      "BR(BM25): 100%|██████████| 68/68 [00:01<00:00, 47.44q/s]\n"
     ]
    },
    {
     "name": "stdout",
     "output_type": "stream",
     "text": [
      "The run file is normalized outside the TIRA sandbox, I will store it at \"grid-search/training/bm25-b=0.6-k_1=0.9\".\n",
      "Done. run file is stored under \"grid-search/training/bm25-b=0.6-k_1=0.9/run.txt\".\n",
      "Run bm25-b=0.6-k_1=1.0\n"
     ]
    },
    {
     "name": "stderr",
     "output_type": "stream",
     "text": [
      "BR(BM25): 100%|██████████| 68/68 [00:01<00:00, 44.42q/s]\n"
     ]
    },
    {
     "name": "stdout",
     "output_type": "stream",
     "text": [
      "The run file is normalized outside the TIRA sandbox, I will store it at \"grid-search/training/bm25-b=0.6-k_1=1.0\".\n",
      "Done. run file is stored under \"grid-search/training/bm25-b=0.6-k_1=1.0/run.txt\".\n",
      "Run bm25-b=0.6-k_1=1.1\n"
     ]
    },
    {
     "name": "stderr",
     "output_type": "stream",
     "text": [
      "BR(BM25): 100%|██████████| 68/68 [00:01<00:00, 47.53q/s]\n"
     ]
    },
    {
     "name": "stdout",
     "output_type": "stream",
     "text": [
      "The run file is normalized outside the TIRA sandbox, I will store it at \"grid-search/training/bm25-b=0.6-k_1=1.1\".\n",
      "Done. run file is stored under \"grid-search/training/bm25-b=0.6-k_1=1.1/run.txt\".\n",
      "Run bm25-b=0.6-k_1=1.2\n"
     ]
    },
    {
     "name": "stderr",
     "output_type": "stream",
     "text": [
      "BR(BM25): 100%|██████████| 68/68 [00:01<00:00, 48.36q/s]\n"
     ]
    },
    {
     "name": "stdout",
     "output_type": "stream",
     "text": [
      "The run file is normalized outside the TIRA sandbox, I will store it at \"grid-search/training/bm25-b=0.6-k_1=1.2\".\n",
      "Done. run file is stored under \"grid-search/training/bm25-b=0.6-k_1=1.2/run.txt\".\n",
      "Run bm25-b=0.6-k_1=1.3\n"
     ]
    },
    {
     "name": "stderr",
     "output_type": "stream",
     "text": [
      "BR(BM25): 100%|██████████| 68/68 [00:01<00:00, 41.33q/s]\n"
     ]
    },
    {
     "name": "stdout",
     "output_type": "stream",
     "text": [
      "The run file is normalized outside the TIRA sandbox, I will store it at \"grid-search/training/bm25-b=0.6-k_1=1.3\".\n",
      "Done. run file is stored under \"grid-search/training/bm25-b=0.6-k_1=1.3/run.txt\".\n",
      "Run bm25-b=0.6-k_1=1.4\n"
     ]
    },
    {
     "name": "stderr",
     "output_type": "stream",
     "text": [
      "BR(BM25): 100%|██████████| 68/68 [00:01<00:00, 50.63q/s]\n"
     ]
    },
    {
     "name": "stdout",
     "output_type": "stream",
     "text": [
      "The run file is normalized outside the TIRA sandbox, I will store it at \"grid-search/training/bm25-b=0.6-k_1=1.4\".\n",
      "Done. run file is stored under \"grid-search/training/bm25-b=0.6-k_1=1.4/run.txt\".\n",
      "Run bm25-b=0.6-k_1=1.5\n"
     ]
    },
    {
     "name": "stderr",
     "output_type": "stream",
     "text": [
      "BR(BM25): 100%|██████████| 68/68 [00:01<00:00, 47.40q/s]\n"
     ]
    },
    {
     "name": "stdout",
     "output_type": "stream",
     "text": [
      "The run file is normalized outside the TIRA sandbox, I will store it at \"grid-search/training/bm25-b=0.6-k_1=1.5\".\n",
      "Done. run file is stored under \"grid-search/training/bm25-b=0.6-k_1=1.5/run.txt\".\n",
      "Run bm25-b=0.6-k_1=1.6\n"
     ]
    },
    {
     "name": "stderr",
     "output_type": "stream",
     "text": [
      "BR(BM25): 100%|██████████| 68/68 [00:01<00:00, 47.83q/s]\n"
     ]
    },
    {
     "name": "stdout",
     "output_type": "stream",
     "text": [
      "The run file is normalized outside the TIRA sandbox, I will store it at \"grid-search/training/bm25-b=0.6-k_1=1.6\".\n",
      "Done. run file is stored under \"grid-search/training/bm25-b=0.6-k_1=1.6/run.txt\".\n",
      "Run bm25-b=0.6-k_1=1.7\n"
     ]
    },
    {
     "name": "stderr",
     "output_type": "stream",
     "text": [
      "BR(BM25): 100%|██████████| 68/68 [00:01<00:00, 50.35q/s]\n"
     ]
    },
    {
     "name": "stdout",
     "output_type": "stream",
     "text": [
      "The run file is normalized outside the TIRA sandbox, I will store it at \"grid-search/training/bm25-b=0.6-k_1=1.7\".\n",
      "Done. run file is stored under \"grid-search/training/bm25-b=0.6-k_1=1.7/run.txt\".\n",
      "Run bm25-b=0.6-k_1=1.8\n"
     ]
    },
    {
     "name": "stderr",
     "output_type": "stream",
     "text": [
      "BR(BM25): 100%|██████████| 68/68 [00:01<00:00, 35.40q/s]\n"
     ]
    },
    {
     "name": "stdout",
     "output_type": "stream",
     "text": [
      "The run file is normalized outside the TIRA sandbox, I will store it at \"grid-search/training/bm25-b=0.6-k_1=1.8\".\n",
      "Done. run file is stored under \"grid-search/training/bm25-b=0.6-k_1=1.8/run.txt\".\n",
      "Run bm25-b=0.6-k_1=1.9\n"
     ]
    },
    {
     "name": "stderr",
     "output_type": "stream",
     "text": [
      "BR(BM25): 100%|██████████| 68/68 [00:01<00:00, 47.28q/s]\n"
     ]
    },
    {
     "name": "stdout",
     "output_type": "stream",
     "text": [
      "The run file is normalized outside the TIRA sandbox, I will store it at \"grid-search/training/bm25-b=0.6-k_1=1.9\".\n",
      "Done. run file is stored under \"grid-search/training/bm25-b=0.6-k_1=1.9/run.txt\".\n",
      "Run bm25-b=0.6-k_1=2.0\n"
     ]
    },
    {
     "name": "stderr",
     "output_type": "stream",
     "text": [
      "BR(BM25): 100%|██████████| 68/68 [00:01<00:00, 48.16q/s]\n"
     ]
    },
    {
     "name": "stdout",
     "output_type": "stream",
     "text": [
      "The run file is normalized outside the TIRA sandbox, I will store it at \"grid-search/training/bm25-b=0.6-k_1=2.0\".\n",
      "Done. run file is stored under \"grid-search/training/bm25-b=0.6-k_1=2.0/run.txt\".\n",
      "Run bm25-b=0.6-k_1=2.1\n"
     ]
    },
    {
     "name": "stderr",
     "output_type": "stream",
     "text": [
      "BR(BM25): 100%|██████████| 68/68 [00:01<00:00, 47.07q/s]\n"
     ]
    },
    {
     "name": "stdout",
     "output_type": "stream",
     "text": [
      "The run file is normalized outside the TIRA sandbox, I will store it at \"grid-search/training/bm25-b=0.6-k_1=2.1\".\n",
      "Done. run file is stored under \"grid-search/training/bm25-b=0.6-k_1=2.1/run.txt\".\n",
      "Run bm25-b=0.6-k_1=2.2\n"
     ]
    },
    {
     "name": "stderr",
     "output_type": "stream",
     "text": [
      "BR(BM25): 100%|██████████| 68/68 [00:01<00:00, 46.33q/s]\n"
     ]
    },
    {
     "name": "stdout",
     "output_type": "stream",
     "text": [
      "The run file is normalized outside the TIRA sandbox, I will store it at \"grid-search/training/bm25-b=0.6-k_1=2.2\".\n",
      "Done. run file is stored under \"grid-search/training/bm25-b=0.6-k_1=2.2/run.txt\".\n",
      "Run bm25-b=0.6-k_1=2.3\n"
     ]
    },
    {
     "name": "stderr",
     "output_type": "stream",
     "text": [
      "BR(BM25): 100%|██████████| 68/68 [00:01<00:00, 37.88q/s]\n"
     ]
    },
    {
     "name": "stdout",
     "output_type": "stream",
     "text": [
      "The run file is normalized outside the TIRA sandbox, I will store it at \"grid-search/training/bm25-b=0.6-k_1=2.3\".\n",
      "Done. run file is stored under \"grid-search/training/bm25-b=0.6-k_1=2.3/run.txt\".\n",
      "Run bm25-b=0.6-k_1=2.4\n"
     ]
    },
    {
     "name": "stderr",
     "output_type": "stream",
     "text": [
      "BR(BM25): 100%|██████████| 68/68 [00:01<00:00, 49.51q/s]\n"
     ]
    },
    {
     "name": "stdout",
     "output_type": "stream",
     "text": [
      "The run file is normalized outside the TIRA sandbox, I will store it at \"grid-search/training/bm25-b=0.6-k_1=2.4\".\n",
      "Done. run file is stored under \"grid-search/training/bm25-b=0.6-k_1=2.4/run.txt\".\n",
      "Run bm25-b=0.6-k_1=2.5\n"
     ]
    },
    {
     "name": "stderr",
     "output_type": "stream",
     "text": [
      "BR(BM25): 100%|██████████| 68/68 [00:01<00:00, 48.95q/s]\n"
     ]
    },
    {
     "name": "stdout",
     "output_type": "stream",
     "text": [
      "The run file is normalized outside the TIRA sandbox, I will store it at \"grid-search/training/bm25-b=0.6-k_1=2.5\".\n",
      "Done. run file is stored under \"grid-search/training/bm25-b=0.6-k_1=2.5/run.txt\".\n",
      "Run bm25-b=0.6-k_1=2.6\n"
     ]
    },
    {
     "name": "stderr",
     "output_type": "stream",
     "text": [
      "BR(BM25): 100%|██████████| 68/68 [00:01<00:00, 46.01q/s]\n"
     ]
    },
    {
     "name": "stdout",
     "output_type": "stream",
     "text": [
      "The run file is normalized outside the TIRA sandbox, I will store it at \"grid-search/training/bm25-b=0.6-k_1=2.6\".\n",
      "Done. run file is stored under \"grid-search/training/bm25-b=0.6-k_1=2.6/run.txt\".\n",
      "Run bm25-b=0.6-k_1=2.7\n"
     ]
    },
    {
     "name": "stderr",
     "output_type": "stream",
     "text": [
      "BR(BM25): 100%|██████████| 68/68 [00:01<00:00, 47.14q/s]\n"
     ]
    },
    {
     "name": "stdout",
     "output_type": "stream",
     "text": [
      "The run file is normalized outside the TIRA sandbox, I will store it at \"grid-search/training/bm25-b=0.6-k_1=2.7\".\n",
      "Done. run file is stored under \"grid-search/training/bm25-b=0.6-k_1=2.7/run.txt\".\n",
      "Run bm25-b=0.6-k_1=2.8\n"
     ]
    },
    {
     "name": "stderr",
     "output_type": "stream",
     "text": [
      "BR(BM25): 100%|██████████| 68/68 [00:01<00:00, 45.80q/s]\n"
     ]
    },
    {
     "name": "stdout",
     "output_type": "stream",
     "text": [
      "The run file is normalized outside the TIRA sandbox, I will store it at \"grid-search/training/bm25-b=0.6-k_1=2.8\".\n",
      "Done. run file is stored under \"grid-search/training/bm25-b=0.6-k_1=2.8/run.txt\".\n",
      "Run bm25-b=0.6-k_1=2.9\n"
     ]
    },
    {
     "name": "stderr",
     "output_type": "stream",
     "text": [
      "BR(BM25): 100%|██████████| 68/68 [00:01<00:00, 46.03q/s]\n"
     ]
    },
    {
     "name": "stdout",
     "output_type": "stream",
     "text": [
      "The run file is normalized outside the TIRA sandbox, I will store it at \"grid-search/training/bm25-b=0.6-k_1=2.9\".\n",
      "Done. run file is stored under \"grid-search/training/bm25-b=0.6-k_1=2.9/run.txt\".\n",
      "Run bm25-b=0.6-k_1=3.0\n"
     ]
    },
    {
     "name": "stderr",
     "output_type": "stream",
     "text": [
      "BR(BM25): 100%|██████████| 68/68 [00:01<00:00, 48.01q/s]\n"
     ]
    },
    {
     "name": "stdout",
     "output_type": "stream",
     "text": [
      "The run file is normalized outside the TIRA sandbox, I will store it at \"grid-search/training/bm25-b=0.6-k_1=3.0\".\n",
      "Done. run file is stored under \"grid-search/training/bm25-b=0.6-k_1=3.0/run.txt\".\n",
      "Run bm25-b=0.7-k_1=0.5\n"
     ]
    },
    {
     "name": "stderr",
     "output_type": "stream",
     "text": [
      "BR(BM25): 100%|██████████| 68/68 [00:01<00:00, 48.36q/s]\n"
     ]
    },
    {
     "name": "stdout",
     "output_type": "stream",
     "text": [
      "The run file is normalized outside the TIRA sandbox, I will store it at \"grid-search/training/bm25-b=0.7-k_1=0.5\".\n",
      "Done. run file is stored under \"grid-search/training/bm25-b=0.7-k_1=0.5/run.txt\".\n",
      "Run bm25-b=0.7-k_1=0.6\n"
     ]
    },
    {
     "name": "stderr",
     "output_type": "stream",
     "text": [
      "BR(BM25): 100%|██████████| 68/68 [00:01<00:00, 48.43q/s]\n"
     ]
    },
    {
     "name": "stdout",
     "output_type": "stream",
     "text": [
      "The run file is normalized outside the TIRA sandbox, I will store it at \"grid-search/training/bm25-b=0.7-k_1=0.6\".\n",
      "Done. run file is stored under \"grid-search/training/bm25-b=0.7-k_1=0.6/run.txt\".\n",
      "Run bm25-b=0.7-k_1=0.7\n"
     ]
    },
    {
     "name": "stderr",
     "output_type": "stream",
     "text": [
      "BR(BM25): 100%|██████████| 68/68 [00:01<00:00, 47.07q/s]\n"
     ]
    },
    {
     "name": "stdout",
     "output_type": "stream",
     "text": [
      "The run file is normalized outside the TIRA sandbox, I will store it at \"grid-search/training/bm25-b=0.7-k_1=0.7\".\n",
      "Done. run file is stored under \"grid-search/training/bm25-b=0.7-k_1=0.7/run.txt\".\n",
      "Run bm25-b=0.7-k_1=0.8\n"
     ]
    },
    {
     "name": "stderr",
     "output_type": "stream",
     "text": [
      "BR(BM25): 100%|██████████| 68/68 [00:01<00:00, 40.03q/s]\n"
     ]
    },
    {
     "name": "stdout",
     "output_type": "stream",
     "text": [
      "The run file is normalized outside the TIRA sandbox, I will store it at \"grid-search/training/bm25-b=0.7-k_1=0.8\".\n",
      "Done. run file is stored under \"grid-search/training/bm25-b=0.7-k_1=0.8/run.txt\".\n",
      "Run bm25-b=0.7-k_1=0.9\n"
     ]
    },
    {
     "name": "stderr",
     "output_type": "stream",
     "text": [
      "BR(BM25): 100%|██████████| 68/68 [00:01<00:00, 51.26q/s]\n"
     ]
    },
    {
     "name": "stdout",
     "output_type": "stream",
     "text": [
      "The run file is normalized outside the TIRA sandbox, I will store it at \"grid-search/training/bm25-b=0.7-k_1=0.9\".\n",
      "Done. run file is stored under \"grid-search/training/bm25-b=0.7-k_1=0.9/run.txt\".\n",
      "Run bm25-b=0.7-k_1=1.0\n"
     ]
    },
    {
     "name": "stderr",
     "output_type": "stream",
     "text": [
      "BR(BM25): 100%|██████████| 68/68 [00:01<00:00, 47.39q/s]\n"
     ]
    },
    {
     "name": "stdout",
     "output_type": "stream",
     "text": [
      "The run file is normalized outside the TIRA sandbox, I will store it at \"grid-search/training/bm25-b=0.7-k_1=1.0\".\n",
      "Done. run file is stored under \"grid-search/training/bm25-b=0.7-k_1=1.0/run.txt\".\n",
      "Run bm25-b=0.7-k_1=1.1\n"
     ]
    },
    {
     "name": "stderr",
     "output_type": "stream",
     "text": [
      "BR(BM25): 100%|██████████| 68/68 [00:01<00:00, 45.01q/s]\n"
     ]
    },
    {
     "name": "stdout",
     "output_type": "stream",
     "text": [
      "The run file is normalized outside the TIRA sandbox, I will store it at \"grid-search/training/bm25-b=0.7-k_1=1.1\".\n",
      "Done. run file is stored under \"grid-search/training/bm25-b=0.7-k_1=1.1/run.txt\".\n",
      "Run bm25-b=0.7-k_1=1.2\n"
     ]
    },
    {
     "name": "stderr",
     "output_type": "stream",
     "text": [
      "BR(BM25): 100%|██████████| 68/68 [00:01<00:00, 50.36q/s]\n"
     ]
    },
    {
     "name": "stdout",
     "output_type": "stream",
     "text": [
      "The run file is normalized outside the TIRA sandbox, I will store it at \"grid-search/training/bm25-b=0.7-k_1=1.2\".\n",
      "Done. run file is stored under \"grid-search/training/bm25-b=0.7-k_1=1.2/run.txt\".\n",
      "Run bm25-b=0.7-k_1=1.3\n"
     ]
    },
    {
     "name": "stderr",
     "output_type": "stream",
     "text": [
      "BR(BM25): 100%|██████████| 68/68 [00:01<00:00, 38.54q/s]\n"
     ]
    },
    {
     "name": "stdout",
     "output_type": "stream",
     "text": [
      "The run file is normalized outside the TIRA sandbox, I will store it at \"grid-search/training/bm25-b=0.7-k_1=1.3\".\n",
      "Done. run file is stored under \"grid-search/training/bm25-b=0.7-k_1=1.3/run.txt\".\n",
      "Run bm25-b=0.7-k_1=1.4\n"
     ]
    },
    {
     "name": "stderr",
     "output_type": "stream",
     "text": [
      "BR(BM25): 100%|██████████| 68/68 [00:01<00:00, 48.52q/s]\n"
     ]
    },
    {
     "name": "stdout",
     "output_type": "stream",
     "text": [
      "The run file is normalized outside the TIRA sandbox, I will store it at \"grid-search/training/bm25-b=0.7-k_1=1.4\".\n",
      "Done. run file is stored under \"grid-search/training/bm25-b=0.7-k_1=1.4/run.txt\".\n",
      "Run bm25-b=0.7-k_1=1.5\n"
     ]
    },
    {
     "name": "stderr",
     "output_type": "stream",
     "text": [
      "BR(BM25): 100%|██████████| 68/68 [00:01<00:00, 45.76q/s]\n"
     ]
    },
    {
     "name": "stdout",
     "output_type": "stream",
     "text": [
      "The run file is normalized outside the TIRA sandbox, I will store it at \"grid-search/training/bm25-b=0.7-k_1=1.5\".\n",
      "Done. run file is stored under \"grid-search/training/bm25-b=0.7-k_1=1.5/run.txt\".\n",
      "Run bm25-b=0.7-k_1=1.6\n"
     ]
    },
    {
     "name": "stderr",
     "output_type": "stream",
     "text": [
      "BR(BM25): 100%|██████████| 68/68 [00:01<00:00, 47.70q/s]\n"
     ]
    },
    {
     "name": "stdout",
     "output_type": "stream",
     "text": [
      "The run file is normalized outside the TIRA sandbox, I will store it at \"grid-search/training/bm25-b=0.7-k_1=1.6\".\n",
      "Done. run file is stored under \"grid-search/training/bm25-b=0.7-k_1=1.6/run.txt\".\n",
      "Run bm25-b=0.7-k_1=1.7\n"
     ]
    },
    {
     "name": "stderr",
     "output_type": "stream",
     "text": [
      "BR(BM25): 100%|██████████| 68/68 [00:01<00:00, 48.04q/s]\n"
     ]
    },
    {
     "name": "stdout",
     "output_type": "stream",
     "text": [
      "The run file is normalized outside the TIRA sandbox, I will store it at \"grid-search/training/bm25-b=0.7-k_1=1.7\".\n",
      "Done. run file is stored under \"grid-search/training/bm25-b=0.7-k_1=1.7/run.txt\".\n",
      "Run bm25-b=0.7-k_1=1.8\n"
     ]
    },
    {
     "name": "stderr",
     "output_type": "stream",
     "text": [
      "BR(BM25): 100%|██████████| 68/68 [00:01<00:00, 41.45q/s]\n"
     ]
    },
    {
     "name": "stdout",
     "output_type": "stream",
     "text": [
      "The run file is normalized outside the TIRA sandbox, I will store it at \"grid-search/training/bm25-b=0.7-k_1=1.8\".\n",
      "Done. run file is stored under \"grid-search/training/bm25-b=0.7-k_1=1.8/run.txt\".\n",
      "Run bm25-b=0.7-k_1=1.9\n"
     ]
    },
    {
     "name": "stderr",
     "output_type": "stream",
     "text": [
      "BR(BM25): 100%|██████████| 68/68 [00:01<00:00, 47.49q/s]\n"
     ]
    },
    {
     "name": "stdout",
     "output_type": "stream",
     "text": [
      "The run file is normalized outside the TIRA sandbox, I will store it at \"grid-search/training/bm25-b=0.7-k_1=1.9\".\n",
      "Done. run file is stored under \"grid-search/training/bm25-b=0.7-k_1=1.9/run.txt\".\n",
      "Run bm25-b=0.7-k_1=2.0\n"
     ]
    },
    {
     "name": "stderr",
     "output_type": "stream",
     "text": [
      "BR(BM25): 100%|██████████| 68/68 [00:01<00:00, 47.00q/s]\n"
     ]
    },
    {
     "name": "stdout",
     "output_type": "stream",
     "text": [
      "The run file is normalized outside the TIRA sandbox, I will store it at \"grid-search/training/bm25-b=0.7-k_1=2.0\".\n",
      "Done. run file is stored under \"grid-search/training/bm25-b=0.7-k_1=2.0/run.txt\".\n",
      "Run bm25-b=0.7-k_1=2.1\n"
     ]
    },
    {
     "name": "stderr",
     "output_type": "stream",
     "text": [
      "BR(BM25): 100%|██████████| 68/68 [00:01<00:00, 49.69q/s]\n"
     ]
    },
    {
     "name": "stdout",
     "output_type": "stream",
     "text": [
      "The run file is normalized outside the TIRA sandbox, I will store it at \"grid-search/training/bm25-b=0.7-k_1=2.1\".\n",
      "Done. run file is stored under \"grid-search/training/bm25-b=0.7-k_1=2.1/run.txt\".\n",
      "Run bm25-b=0.7-k_1=2.2\n"
     ]
    },
    {
     "name": "stderr",
     "output_type": "stream",
     "text": [
      "BR(BM25): 100%|██████████| 68/68 [00:01<00:00, 47.40q/s]\n"
     ]
    },
    {
     "name": "stdout",
     "output_type": "stream",
     "text": [
      "The run file is normalized outside the TIRA sandbox, I will store it at \"grid-search/training/bm25-b=0.7-k_1=2.2\".\n",
      "Done. run file is stored under \"grid-search/training/bm25-b=0.7-k_1=2.2/run.txt\".\n",
      "Run bm25-b=0.7-k_1=2.3\n"
     ]
    },
    {
     "name": "stderr",
     "output_type": "stream",
     "text": [
      "BR(BM25): 100%|██████████| 68/68 [00:01<00:00, 52.91q/s]\n"
     ]
    },
    {
     "name": "stdout",
     "output_type": "stream",
     "text": [
      "The run file is normalized outside the TIRA sandbox, I will store it at \"grid-search/training/bm25-b=0.7-k_1=2.3\".\n",
      "Done. run file is stored under \"grid-search/training/bm25-b=0.7-k_1=2.3/run.txt\".\n",
      "Run bm25-b=0.7-k_1=2.4\n"
     ]
    },
    {
     "name": "stderr",
     "output_type": "stream",
     "text": [
      "BR(BM25): 100%|██████████| 68/68 [00:01<00:00, 46.15q/s]\n"
     ]
    },
    {
     "name": "stdout",
     "output_type": "stream",
     "text": [
      "The run file is normalized outside the TIRA sandbox, I will store it at \"grid-search/training/bm25-b=0.7-k_1=2.4\".\n",
      "Done. run file is stored under \"grid-search/training/bm25-b=0.7-k_1=2.4/run.txt\".\n",
      "Run bm25-b=0.7-k_1=2.5\n"
     ]
    },
    {
     "name": "stderr",
     "output_type": "stream",
     "text": [
      "BR(BM25): 100%|██████████| 68/68 [00:01<00:00, 45.78q/s]\n"
     ]
    },
    {
     "name": "stdout",
     "output_type": "stream",
     "text": [
      "The run file is normalized outside the TIRA sandbox, I will store it at \"grid-search/training/bm25-b=0.7-k_1=2.5\".\n",
      "Done. run file is stored under \"grid-search/training/bm25-b=0.7-k_1=2.5/run.txt\".\n",
      "Run bm25-b=0.7-k_1=2.6\n"
     ]
    },
    {
     "name": "stderr",
     "output_type": "stream",
     "text": [
      "BR(BM25): 100%|██████████| 68/68 [00:01<00:00, 51.41q/s]\n"
     ]
    },
    {
     "name": "stdout",
     "output_type": "stream",
     "text": [
      "The run file is normalized outside the TIRA sandbox, I will store it at \"grid-search/training/bm25-b=0.7-k_1=2.6\".\n",
      "Done. run file is stored under \"grid-search/training/bm25-b=0.7-k_1=2.6/run.txt\".\n",
      "Run bm25-b=0.7-k_1=2.7\n"
     ]
    },
    {
     "name": "stderr",
     "output_type": "stream",
     "text": [
      "BR(BM25): 100%|██████████| 68/68 [00:01<00:00, 46.61q/s]\n"
     ]
    },
    {
     "name": "stdout",
     "output_type": "stream",
     "text": [
      "The run file is normalized outside the TIRA sandbox, I will store it at \"grid-search/training/bm25-b=0.7-k_1=2.7\".\n",
      "Done. run file is stored under \"grid-search/training/bm25-b=0.7-k_1=2.7/run.txt\".\n",
      "Run bm25-b=0.7-k_1=2.8\n"
     ]
    },
    {
     "name": "stderr",
     "output_type": "stream",
     "text": [
      "BR(BM25): 100%|██████████| 68/68 [00:01<00:00, 51.02q/s]\n"
     ]
    },
    {
     "name": "stdout",
     "output_type": "stream",
     "text": [
      "The run file is normalized outside the TIRA sandbox, I will store it at \"grid-search/training/bm25-b=0.7-k_1=2.8\".\n",
      "Done. run file is stored under \"grid-search/training/bm25-b=0.7-k_1=2.8/run.txt\".\n",
      "Run bm25-b=0.7-k_1=2.9\n"
     ]
    },
    {
     "name": "stderr",
     "output_type": "stream",
     "text": [
      "BR(BM25): 100%|██████████| 68/68 [00:01<00:00, 40.20q/s]\n"
     ]
    },
    {
     "name": "stdout",
     "output_type": "stream",
     "text": [
      "The run file is normalized outside the TIRA sandbox, I will store it at \"grid-search/training/bm25-b=0.7-k_1=2.9\".\n",
      "Done. run file is stored under \"grid-search/training/bm25-b=0.7-k_1=2.9/run.txt\".\n",
      "Run bm25-b=0.7-k_1=3.0\n"
     ]
    },
    {
     "name": "stderr",
     "output_type": "stream",
     "text": [
      "BR(BM25): 100%|██████████| 68/68 [00:01<00:00, 47.53q/s]\n"
     ]
    },
    {
     "name": "stdout",
     "output_type": "stream",
     "text": [
      "The run file is normalized outside the TIRA sandbox, I will store it at \"grid-search/training/bm25-b=0.7-k_1=3.0\".\n",
      "Done. run file is stored under \"grid-search/training/bm25-b=0.7-k_1=3.0/run.txt\".\n",
      "Run bm25-b=0.8-k_1=0.5\n"
     ]
    },
    {
     "name": "stderr",
     "output_type": "stream",
     "text": [
      "BR(BM25): 100%|██████████| 68/68 [00:01<00:00, 50.53q/s]\n"
     ]
    },
    {
     "name": "stdout",
     "output_type": "stream",
     "text": [
      "The run file is normalized outside the TIRA sandbox, I will store it at \"grid-search/training/bm25-b=0.8-k_1=0.5\".\n",
      "Done. run file is stored under \"grid-search/training/bm25-b=0.8-k_1=0.5/run.txt\".\n",
      "Run bm25-b=0.8-k_1=0.6\n"
     ]
    },
    {
     "name": "stderr",
     "output_type": "stream",
     "text": [
      "BR(BM25): 100%|██████████| 68/68 [00:01<00:00, 48.93q/s]\n"
     ]
    },
    {
     "name": "stdout",
     "output_type": "stream",
     "text": [
      "The run file is normalized outside the TIRA sandbox, I will store it at \"grid-search/training/bm25-b=0.8-k_1=0.6\".\n",
      "Done. run file is stored under \"grid-search/training/bm25-b=0.8-k_1=0.6/run.txt\".\n",
      "Run bm25-b=0.8-k_1=0.7\n"
     ]
    },
    {
     "name": "stderr",
     "output_type": "stream",
     "text": [
      "BR(BM25): 100%|██████████| 68/68 [00:01<00:00, 50.97q/s]\n"
     ]
    },
    {
     "name": "stdout",
     "output_type": "stream",
     "text": [
      "The run file is normalized outside the TIRA sandbox, I will store it at \"grid-search/training/bm25-b=0.8-k_1=0.7\".\n",
      "Done. run file is stored under \"grid-search/training/bm25-b=0.8-k_1=0.7/run.txt\".\n",
      "Run bm25-b=0.8-k_1=0.8\n"
     ]
    },
    {
     "name": "stderr",
     "output_type": "stream",
     "text": [
      "BR(BM25): 100%|██████████| 68/68 [00:01<00:00, 49.47q/s]\n"
     ]
    },
    {
     "name": "stdout",
     "output_type": "stream",
     "text": [
      "The run file is normalized outside the TIRA sandbox, I will store it at \"grid-search/training/bm25-b=0.8-k_1=0.8\".\n",
      "Done. run file is stored under \"grid-search/training/bm25-b=0.8-k_1=0.8/run.txt\".\n",
      "Run bm25-b=0.8-k_1=0.9\n"
     ]
    },
    {
     "name": "stderr",
     "output_type": "stream",
     "text": [
      "BR(BM25): 100%|██████████| 68/68 [00:01<00:00, 45.91q/s]\n"
     ]
    },
    {
     "name": "stdout",
     "output_type": "stream",
     "text": [
      "The run file is normalized outside the TIRA sandbox, I will store it at \"grid-search/training/bm25-b=0.8-k_1=0.9\".\n",
      "Done. run file is stored under \"grid-search/training/bm25-b=0.8-k_1=0.9/run.txt\".\n",
      "Run bm25-b=0.8-k_1=1.0\n"
     ]
    },
    {
     "name": "stderr",
     "output_type": "stream",
     "text": [
      "BR(BM25): 100%|██████████| 68/68 [00:01<00:00, 49.77q/s]\n"
     ]
    },
    {
     "name": "stdout",
     "output_type": "stream",
     "text": [
      "The run file is normalized outside the TIRA sandbox, I will store it at \"grid-search/training/bm25-b=0.8-k_1=1.0\".\n",
      "Done. run file is stored under \"grid-search/training/bm25-b=0.8-k_1=1.0/run.txt\".\n",
      "Run bm25-b=0.8-k_1=1.1\n"
     ]
    },
    {
     "name": "stderr",
     "output_type": "stream",
     "text": [
      "BR(BM25): 100%|██████████| 68/68 [00:01<00:00, 52.50q/s]\n"
     ]
    },
    {
     "name": "stdout",
     "output_type": "stream",
     "text": [
      "The run file is normalized outside the TIRA sandbox, I will store it at \"grid-search/training/bm25-b=0.8-k_1=1.1\".\n",
      "Done. run file is stored under \"grid-search/training/bm25-b=0.8-k_1=1.1/run.txt\".\n",
      "Run bm25-b=0.8-k_1=1.2\n"
     ]
    },
    {
     "name": "stderr",
     "output_type": "stream",
     "text": [
      "BR(BM25): 100%|██████████| 68/68 [00:01<00:00, 45.78q/s]\n"
     ]
    },
    {
     "name": "stdout",
     "output_type": "stream",
     "text": [
      "The run file is normalized outside the TIRA sandbox, I will store it at \"grid-search/training/bm25-b=0.8-k_1=1.2\".\n",
      "Done. run file is stored under \"grid-search/training/bm25-b=0.8-k_1=1.2/run.txt\".\n",
      "Run bm25-b=0.8-k_1=1.3\n"
     ]
    },
    {
     "name": "stderr",
     "output_type": "stream",
     "text": [
      "BR(BM25): 100%|██████████| 68/68 [00:01<00:00, 49.68q/s]\n"
     ]
    },
    {
     "name": "stdout",
     "output_type": "stream",
     "text": [
      "The run file is normalized outside the TIRA sandbox, I will store it at \"grid-search/training/bm25-b=0.8-k_1=1.3\".\n",
      "Done. run file is stored under \"grid-search/training/bm25-b=0.8-k_1=1.3/run.txt\".\n",
      "Run bm25-b=0.8-k_1=1.4\n"
     ]
    },
    {
     "name": "stderr",
     "output_type": "stream",
     "text": [
      "BR(BM25): 100%|██████████| 68/68 [00:01<00:00, 39.47q/s]\n"
     ]
    },
    {
     "name": "stdout",
     "output_type": "stream",
     "text": [
      "The run file is normalized outside the TIRA sandbox, I will store it at \"grid-search/training/bm25-b=0.8-k_1=1.4\".\n",
      "Done. run file is stored under \"grid-search/training/bm25-b=0.8-k_1=1.4/run.txt\".\n",
      "Run bm25-b=0.8-k_1=1.5\n"
     ]
    },
    {
     "name": "stderr",
     "output_type": "stream",
     "text": [
      "BR(BM25): 100%|██████████| 68/68 [00:01<00:00, 46.56q/s]\n"
     ]
    },
    {
     "name": "stdout",
     "output_type": "stream",
     "text": [
      "The run file is normalized outside the TIRA sandbox, I will store it at \"grid-search/training/bm25-b=0.8-k_1=1.5\".\n",
      "Done. run file is stored under \"grid-search/training/bm25-b=0.8-k_1=1.5/run.txt\".\n",
      "Run bm25-b=0.8-k_1=1.6\n"
     ]
    },
    {
     "name": "stderr",
     "output_type": "stream",
     "text": [
      "BR(BM25): 100%|██████████| 68/68 [00:01<00:00, 50.45q/s]\n"
     ]
    },
    {
     "name": "stdout",
     "output_type": "stream",
     "text": [
      "The run file is normalized outside the TIRA sandbox, I will store it at \"grid-search/training/bm25-b=0.8-k_1=1.6\".\n",
      "Done. run file is stored under \"grid-search/training/bm25-b=0.8-k_1=1.6/run.txt\".\n",
      "Run bm25-b=0.8-k_1=1.7\n"
     ]
    },
    {
     "name": "stderr",
     "output_type": "stream",
     "text": [
      "BR(BM25): 100%|██████████| 68/68 [00:01<00:00, 48.77q/s]\n"
     ]
    },
    {
     "name": "stdout",
     "output_type": "stream",
     "text": [
      "The run file is normalized outside the TIRA sandbox, I will store it at \"grid-search/training/bm25-b=0.8-k_1=1.7\".\n",
      "Done. run file is stored under \"grid-search/training/bm25-b=0.8-k_1=1.7/run.txt\".\n",
      "Run bm25-b=0.8-k_1=1.8\n"
     ]
    },
    {
     "name": "stderr",
     "output_type": "stream",
     "text": [
      "BR(BM25): 100%|██████████| 68/68 [00:01<00:00, 50.79q/s]\n"
     ]
    },
    {
     "name": "stdout",
     "output_type": "stream",
     "text": [
      "The run file is normalized outside the TIRA sandbox, I will store it at \"grid-search/training/bm25-b=0.8-k_1=1.8\".\n",
      "Done. run file is stored under \"grid-search/training/bm25-b=0.8-k_1=1.8/run.txt\".\n",
      "Run bm25-b=0.8-k_1=1.9\n"
     ]
    },
    {
     "name": "stderr",
     "output_type": "stream",
     "text": [
      "BR(BM25): 100%|██████████| 68/68 [00:01<00:00, 40.38q/s]\n"
     ]
    },
    {
     "name": "stdout",
     "output_type": "stream",
     "text": [
      "The run file is normalized outside the TIRA sandbox, I will store it at \"grid-search/training/bm25-b=0.8-k_1=1.9\".\n",
      "Done. run file is stored under \"grid-search/training/bm25-b=0.8-k_1=1.9/run.txt\".\n",
      "Run bm25-b=0.8-k_1=2.0\n"
     ]
    },
    {
     "name": "stderr",
     "output_type": "stream",
     "text": [
      "BR(BM25): 100%|██████████| 68/68 [00:01<00:00, 47.15q/s]\n"
     ]
    },
    {
     "name": "stdout",
     "output_type": "stream",
     "text": [
      "The run file is normalized outside the TIRA sandbox, I will store it at \"grid-search/training/bm25-b=0.8-k_1=2.0\".\n",
      "Done. run file is stored under \"grid-search/training/bm25-b=0.8-k_1=2.0/run.txt\".\n",
      "Run bm25-b=0.8-k_1=2.1\n"
     ]
    },
    {
     "name": "stderr",
     "output_type": "stream",
     "text": [
      "BR(BM25): 100%|██████████| 68/68 [00:01<00:00, 48.75q/s]\n"
     ]
    },
    {
     "name": "stdout",
     "output_type": "stream",
     "text": [
      "The run file is normalized outside the TIRA sandbox, I will store it at \"grid-search/training/bm25-b=0.8-k_1=2.1\".\n",
      "Done. run file is stored under \"grid-search/training/bm25-b=0.8-k_1=2.1/run.txt\".\n",
      "Run bm25-b=0.8-k_1=2.2\n"
     ]
    },
    {
     "name": "stderr",
     "output_type": "stream",
     "text": [
      "BR(BM25): 100%|██████████| 68/68 [00:01<00:00, 45.50q/s]\n"
     ]
    },
    {
     "name": "stdout",
     "output_type": "stream",
     "text": [
      "The run file is normalized outside the TIRA sandbox, I will store it at \"grid-search/training/bm25-b=0.8-k_1=2.2\".\n",
      "Done. run file is stored under \"grid-search/training/bm25-b=0.8-k_1=2.2/run.txt\".\n",
      "Run bm25-b=0.8-k_1=2.3\n"
     ]
    },
    {
     "name": "stderr",
     "output_type": "stream",
     "text": [
      "BR(BM25): 100%|██████████| 68/68 [00:01<00:00, 42.93q/s]\n"
     ]
    },
    {
     "name": "stdout",
     "output_type": "stream",
     "text": [
      "The run file is normalized outside the TIRA sandbox, I will store it at \"grid-search/training/bm25-b=0.8-k_1=2.3\".\n",
      "Done. run file is stored under \"grid-search/training/bm25-b=0.8-k_1=2.3/run.txt\".\n",
      "Run bm25-b=0.8-k_1=2.4\n"
     ]
    },
    {
     "name": "stderr",
     "output_type": "stream",
     "text": [
      "BR(BM25): 100%|██████████| 68/68 [00:01<00:00, 41.21q/s]\n"
     ]
    },
    {
     "name": "stdout",
     "output_type": "stream",
     "text": [
      "The run file is normalized outside the TIRA sandbox, I will store it at \"grid-search/training/bm25-b=0.8-k_1=2.4\".\n",
      "Done. run file is stored under \"grid-search/training/bm25-b=0.8-k_1=2.4/run.txt\".\n",
      "Run bm25-b=0.8-k_1=2.5\n"
     ]
    },
    {
     "name": "stderr",
     "output_type": "stream",
     "text": [
      "BR(BM25): 100%|██████████| 68/68 [00:01<00:00, 49.25q/s]\n"
     ]
    },
    {
     "name": "stdout",
     "output_type": "stream",
     "text": [
      "The run file is normalized outside the TIRA sandbox, I will store it at \"grid-search/training/bm25-b=0.8-k_1=2.5\".\n",
      "Done. run file is stored under \"grid-search/training/bm25-b=0.8-k_1=2.5/run.txt\".\n",
      "Run bm25-b=0.8-k_1=2.6\n"
     ]
    },
    {
     "name": "stderr",
     "output_type": "stream",
     "text": [
      "BR(BM25): 100%|██████████| 68/68 [00:01<00:00, 48.15q/s]\n"
     ]
    },
    {
     "name": "stdout",
     "output_type": "stream",
     "text": [
      "The run file is normalized outside the TIRA sandbox, I will store it at \"grid-search/training/bm25-b=0.8-k_1=2.6\".\n",
      "Done. run file is stored under \"grid-search/training/bm25-b=0.8-k_1=2.6/run.txt\".\n",
      "Run bm25-b=0.8-k_1=2.7\n"
     ]
    },
    {
     "name": "stderr",
     "output_type": "stream",
     "text": [
      "BR(BM25): 100%|██████████| 68/68 [00:01<00:00, 47.99q/s]\n"
     ]
    },
    {
     "name": "stdout",
     "output_type": "stream",
     "text": [
      "The run file is normalized outside the TIRA sandbox, I will store it at \"grid-search/training/bm25-b=0.8-k_1=2.7\".\n",
      "Done. run file is stored under \"grid-search/training/bm25-b=0.8-k_1=2.7/run.txt\".\n",
      "Run bm25-b=0.8-k_1=2.8\n"
     ]
    },
    {
     "name": "stderr",
     "output_type": "stream",
     "text": [
      "BR(BM25): 100%|██████████| 68/68 [00:01<00:00, 48.77q/s]\n"
     ]
    },
    {
     "name": "stdout",
     "output_type": "stream",
     "text": [
      "The run file is normalized outside the TIRA sandbox, I will store it at \"grid-search/training/bm25-b=0.8-k_1=2.8\".\n",
      "Done. run file is stored under \"grid-search/training/bm25-b=0.8-k_1=2.8/run.txt\".\n",
      "Run bm25-b=0.8-k_1=2.9\n"
     ]
    },
    {
     "name": "stderr",
     "output_type": "stream",
     "text": [
      "BR(BM25): 100%|██████████| 68/68 [00:01<00:00, 43.36q/s]\n"
     ]
    },
    {
     "name": "stdout",
     "output_type": "stream",
     "text": [
      "The run file is normalized outside the TIRA sandbox, I will store it at \"grid-search/training/bm25-b=0.8-k_1=2.9\".\n",
      "Done. run file is stored under \"grid-search/training/bm25-b=0.8-k_1=2.9/run.txt\".\n",
      "Run bm25-b=0.8-k_1=3.0\n"
     ]
    },
    {
     "name": "stderr",
     "output_type": "stream",
     "text": [
      "BR(BM25): 100%|██████████| 68/68 [00:01<00:00, 37.88q/s]\n"
     ]
    },
    {
     "name": "stdout",
     "output_type": "stream",
     "text": [
      "The run file is normalized outside the TIRA sandbox, I will store it at \"grid-search/training/bm25-b=0.8-k_1=3.0\".\n",
      "Done. run file is stored under \"grid-search/training/bm25-b=0.8-k_1=3.0/run.txt\".\n",
      "Run bm25-b=0.9-k_1=0.5\n"
     ]
    },
    {
     "name": "stderr",
     "output_type": "stream",
     "text": [
      "BR(BM25): 100%|██████████| 68/68 [00:01<00:00, 45.37q/s]\n"
     ]
    },
    {
     "name": "stdout",
     "output_type": "stream",
     "text": [
      "The run file is normalized outside the TIRA sandbox, I will store it at \"grid-search/training/bm25-b=0.9-k_1=0.5\".\n",
      "Done. run file is stored under \"grid-search/training/bm25-b=0.9-k_1=0.5/run.txt\".\n",
      "Run bm25-b=0.9-k_1=0.6\n"
     ]
    },
    {
     "name": "stderr",
     "output_type": "stream",
     "text": [
      "BR(BM25): 100%|██████████| 68/68 [00:01<00:00, 51.09q/s]\n"
     ]
    },
    {
     "name": "stdout",
     "output_type": "stream",
     "text": [
      "The run file is normalized outside the TIRA sandbox, I will store it at \"grid-search/training/bm25-b=0.9-k_1=0.6\".\n",
      "Done. run file is stored under \"grid-search/training/bm25-b=0.9-k_1=0.6/run.txt\".\n",
      "Run bm25-b=0.9-k_1=0.7\n"
     ]
    },
    {
     "name": "stderr",
     "output_type": "stream",
     "text": [
      "BR(BM25): 100%|██████████| 68/68 [00:01<00:00, 48.20q/s]\n"
     ]
    },
    {
     "name": "stdout",
     "output_type": "stream",
     "text": [
      "The run file is normalized outside the TIRA sandbox, I will store it at \"grid-search/training/bm25-b=0.9-k_1=0.7\".\n",
      "Done. run file is stored under \"grid-search/training/bm25-b=0.9-k_1=0.7/run.txt\".\n",
      "Run bm25-b=0.9-k_1=0.8\n"
     ]
    },
    {
     "name": "stderr",
     "output_type": "stream",
     "text": [
      "BR(BM25): 100%|██████████| 68/68 [00:01<00:00, 45.61q/s]\n"
     ]
    },
    {
     "name": "stdout",
     "output_type": "stream",
     "text": [
      "The run file is normalized outside the TIRA sandbox, I will store it at \"grid-search/training/bm25-b=0.9-k_1=0.8\".\n",
      "Done. run file is stored under \"grid-search/training/bm25-b=0.9-k_1=0.8/run.txt\".\n",
      "Run bm25-b=0.9-k_1=0.9\n"
     ]
    },
    {
     "name": "stderr",
     "output_type": "stream",
     "text": [
      "BR(BM25): 100%|██████████| 68/68 [00:01<00:00, 40.52q/s]\n"
     ]
    },
    {
     "name": "stdout",
     "output_type": "stream",
     "text": [
      "The run file is normalized outside the TIRA sandbox, I will store it at \"grid-search/training/bm25-b=0.9-k_1=0.9\".\n",
      "Done. run file is stored under \"grid-search/training/bm25-b=0.9-k_1=0.9/run.txt\".\n",
      "Run bm25-b=0.9-k_1=1.0\n"
     ]
    },
    {
     "name": "stderr",
     "output_type": "stream",
     "text": [
      "BR(BM25): 100%|██████████| 68/68 [00:01<00:00, 45.05q/s]\n"
     ]
    },
    {
     "name": "stdout",
     "output_type": "stream",
     "text": [
      "The run file is normalized outside the TIRA sandbox, I will store it at \"grid-search/training/bm25-b=0.9-k_1=1.0\".\n",
      "Done. run file is stored under \"grid-search/training/bm25-b=0.9-k_1=1.0/run.txt\".\n",
      "Run bm25-b=0.9-k_1=1.1\n"
     ]
    },
    {
     "name": "stderr",
     "output_type": "stream",
     "text": [
      "BR(BM25): 100%|██████████| 68/68 [00:01<00:00, 48.45q/s]\n"
     ]
    },
    {
     "name": "stdout",
     "output_type": "stream",
     "text": [
      "The run file is normalized outside the TIRA sandbox, I will store it at \"grid-search/training/bm25-b=0.9-k_1=1.1\".\n",
      "Done. run file is stored under \"grid-search/training/bm25-b=0.9-k_1=1.1/run.txt\".\n",
      "Run bm25-b=0.9-k_1=1.2\n"
     ]
    },
    {
     "name": "stderr",
     "output_type": "stream",
     "text": [
      "BR(BM25): 100%|██████████| 68/68 [00:01<00:00, 48.35q/s]\n"
     ]
    },
    {
     "name": "stdout",
     "output_type": "stream",
     "text": [
      "The run file is normalized outside the TIRA sandbox, I will store it at \"grid-search/training/bm25-b=0.9-k_1=1.2\".\n",
      "Done. run file is stored under \"grid-search/training/bm25-b=0.9-k_1=1.2/run.txt\".\n",
      "Run bm25-b=0.9-k_1=1.3\n"
     ]
    },
    {
     "name": "stderr",
     "output_type": "stream",
     "text": [
      "BR(BM25): 100%|██████████| 68/68 [00:01<00:00, 45.59q/s]\n"
     ]
    },
    {
     "name": "stdout",
     "output_type": "stream",
     "text": [
      "The run file is normalized outside the TIRA sandbox, I will store it at \"grid-search/training/bm25-b=0.9-k_1=1.3\".\n",
      "Done. run file is stored under \"grid-search/training/bm25-b=0.9-k_1=1.3/run.txt\".\n",
      "Run bm25-b=0.9-k_1=1.4\n"
     ]
    },
    {
     "name": "stderr",
     "output_type": "stream",
     "text": [
      "BR(BM25): 100%|██████████| 68/68 [00:01<00:00, 49.57q/s]\n"
     ]
    },
    {
     "name": "stdout",
     "output_type": "stream",
     "text": [
      "The run file is normalized outside the TIRA sandbox, I will store it at \"grid-search/training/bm25-b=0.9-k_1=1.4\".\n",
      "Done. run file is stored under \"grid-search/training/bm25-b=0.9-k_1=1.4/run.txt\".\n",
      "Run bm25-b=0.9-k_1=1.5\n"
     ]
    },
    {
     "name": "stderr",
     "output_type": "stream",
     "text": [
      "BR(BM25): 100%|██████████| 68/68 [00:01<00:00, 40.46q/s]\n"
     ]
    },
    {
     "name": "stdout",
     "output_type": "stream",
     "text": [
      "The run file is normalized outside the TIRA sandbox, I will store it at \"grid-search/training/bm25-b=0.9-k_1=1.5\".\n",
      "Done. run file is stored under \"grid-search/training/bm25-b=0.9-k_1=1.5/run.txt\".\n",
      "Run bm25-b=0.9-k_1=1.6\n"
     ]
    },
    {
     "name": "stderr",
     "output_type": "stream",
     "text": [
      "BR(BM25): 100%|██████████| 68/68 [00:01<00:00, 50.38q/s]\n"
     ]
    },
    {
     "name": "stdout",
     "output_type": "stream",
     "text": [
      "The run file is normalized outside the TIRA sandbox, I will store it at \"grid-search/training/bm25-b=0.9-k_1=1.6\".\n",
      "Done. run file is stored under \"grid-search/training/bm25-b=0.9-k_1=1.6/run.txt\".\n",
      "Run bm25-b=0.9-k_1=1.7\n"
     ]
    },
    {
     "name": "stderr",
     "output_type": "stream",
     "text": [
      "BR(BM25): 100%|██████████| 68/68 [00:01<00:00, 48.93q/s]\n"
     ]
    },
    {
     "name": "stdout",
     "output_type": "stream",
     "text": [
      "The run file is normalized outside the TIRA sandbox, I will store it at \"grid-search/training/bm25-b=0.9-k_1=1.7\".\n",
      "Done. run file is stored under \"grid-search/training/bm25-b=0.9-k_1=1.7/run.txt\".\n",
      "Run bm25-b=0.9-k_1=1.8\n"
     ]
    },
    {
     "name": "stderr",
     "output_type": "stream",
     "text": [
      "BR(BM25): 100%|██████████| 68/68 [00:01<00:00, 43.12q/s]\n"
     ]
    },
    {
     "name": "stdout",
     "output_type": "stream",
     "text": [
      "The run file is normalized outside the TIRA sandbox, I will store it at \"grid-search/training/bm25-b=0.9-k_1=1.8\".\n",
      "Done. run file is stored under \"grid-search/training/bm25-b=0.9-k_1=1.8/run.txt\".\n",
      "Run bm25-b=0.9-k_1=1.9\n"
     ]
    },
    {
     "name": "stderr",
     "output_type": "stream",
     "text": [
      "BR(BM25): 100%|██████████| 68/68 [00:01<00:00, 49.61q/s]\n"
     ]
    },
    {
     "name": "stdout",
     "output_type": "stream",
     "text": [
      "The run file is normalized outside the TIRA sandbox, I will store it at \"grid-search/training/bm25-b=0.9-k_1=1.9\".\n",
      "Done. run file is stored under \"grid-search/training/bm25-b=0.9-k_1=1.9/run.txt\".\n",
      "Run bm25-b=0.9-k_1=2.0\n"
     ]
    },
    {
     "name": "stderr",
     "output_type": "stream",
     "text": [
      "BR(BM25): 100%|██████████| 68/68 [00:01<00:00, 38.27q/s]\n"
     ]
    },
    {
     "name": "stdout",
     "output_type": "stream",
     "text": [
      "The run file is normalized outside the TIRA sandbox, I will store it at \"grid-search/training/bm25-b=0.9-k_1=2.0\".\n",
      "Done. run file is stored under \"grid-search/training/bm25-b=0.9-k_1=2.0/run.txt\".\n",
      "Run bm25-b=0.9-k_1=2.1\n"
     ]
    },
    {
     "name": "stderr",
     "output_type": "stream",
     "text": [
      "BR(BM25): 100%|██████████| 68/68 [00:01<00:00, 46.26q/s]\n"
     ]
    },
    {
     "name": "stdout",
     "output_type": "stream",
     "text": [
      "The run file is normalized outside the TIRA sandbox, I will store it at \"grid-search/training/bm25-b=0.9-k_1=2.1\".\n",
      "Done. run file is stored under \"grid-search/training/bm25-b=0.9-k_1=2.1/run.txt\".\n",
      "Run bm25-b=0.9-k_1=2.2\n"
     ]
    },
    {
     "name": "stderr",
     "output_type": "stream",
     "text": [
      "BR(BM25): 100%|██████████| 68/68 [00:01<00:00, 48.37q/s]\n"
     ]
    },
    {
     "name": "stdout",
     "output_type": "stream",
     "text": [
      "The run file is normalized outside the TIRA sandbox, I will store it at \"grid-search/training/bm25-b=0.9-k_1=2.2\".\n",
      "Done. run file is stored under \"grid-search/training/bm25-b=0.9-k_1=2.2/run.txt\".\n",
      "Run bm25-b=0.9-k_1=2.3\n"
     ]
    },
    {
     "name": "stderr",
     "output_type": "stream",
     "text": [
      "BR(BM25): 100%|██████████| 68/68 [00:01<00:00, 47.47q/s]\n"
     ]
    },
    {
     "name": "stdout",
     "output_type": "stream",
     "text": [
      "The run file is normalized outside the TIRA sandbox, I will store it at \"grid-search/training/bm25-b=0.9-k_1=2.3\".\n",
      "Done. run file is stored under \"grid-search/training/bm25-b=0.9-k_1=2.3/run.txt\".\n",
      "Run bm25-b=0.9-k_1=2.4\n"
     ]
    },
    {
     "name": "stderr",
     "output_type": "stream",
     "text": [
      "BR(BM25): 100%|██████████| 68/68 [00:01<00:00, 43.53q/s]\n"
     ]
    },
    {
     "name": "stdout",
     "output_type": "stream",
     "text": [
      "The run file is normalized outside the TIRA sandbox, I will store it at \"grid-search/training/bm25-b=0.9-k_1=2.4\".\n",
      "Done. run file is stored under \"grid-search/training/bm25-b=0.9-k_1=2.4/run.txt\".\n",
      "Run bm25-b=0.9-k_1=2.5\n"
     ]
    },
    {
     "name": "stderr",
     "output_type": "stream",
     "text": [
      "BR(BM25): 100%|██████████| 68/68 [00:01<00:00, 38.67q/s]\n"
     ]
    },
    {
     "name": "stdout",
     "output_type": "stream",
     "text": [
      "The run file is normalized outside the TIRA sandbox, I will store it at \"grid-search/training/bm25-b=0.9-k_1=2.5\".\n",
      "Done. run file is stored under \"grid-search/training/bm25-b=0.9-k_1=2.5/run.txt\".\n",
      "Run bm25-b=0.9-k_1=2.6\n"
     ]
    },
    {
     "name": "stderr",
     "output_type": "stream",
     "text": [
      "BR(BM25): 100%|██████████| 68/68 [00:01<00:00, 38.83q/s]\n"
     ]
    },
    {
     "name": "stdout",
     "output_type": "stream",
     "text": [
      "The run file is normalized outside the TIRA sandbox, I will store it at \"grid-search/training/bm25-b=0.9-k_1=2.6\".\n",
      "Done. run file is stored under \"grid-search/training/bm25-b=0.9-k_1=2.6/run.txt\".\n",
      "Run bm25-b=0.9-k_1=2.7\n"
     ]
    },
    {
     "name": "stderr",
     "output_type": "stream",
     "text": [
      "BR(BM25): 100%|██████████| 68/68 [00:01<00:00, 51.50q/s]\n"
     ]
    },
    {
     "name": "stdout",
     "output_type": "stream",
     "text": [
      "The run file is normalized outside the TIRA sandbox, I will store it at \"grid-search/training/bm25-b=0.9-k_1=2.7\".\n",
      "Done. run file is stored under \"grid-search/training/bm25-b=0.9-k_1=2.7/run.txt\".\n",
      "Run bm25-b=0.9-k_1=2.8\n"
     ]
    },
    {
     "name": "stderr",
     "output_type": "stream",
     "text": [
      "BR(BM25): 100%|██████████| 68/68 [00:01<00:00, 47.37q/s]\n"
     ]
    },
    {
     "name": "stdout",
     "output_type": "stream",
     "text": [
      "The run file is normalized outside the TIRA sandbox, I will store it at \"grid-search/training/bm25-b=0.9-k_1=2.8\".\n",
      "Done. run file is stored under \"grid-search/training/bm25-b=0.9-k_1=2.8/run.txt\".\n",
      "Run bm25-b=0.9-k_1=2.9\n"
     ]
    },
    {
     "name": "stderr",
     "output_type": "stream",
     "text": [
      "BR(BM25): 100%|██████████| 68/68 [00:01<00:00, 48.85q/s]\n"
     ]
    },
    {
     "name": "stdout",
     "output_type": "stream",
     "text": [
      "The run file is normalized outside the TIRA sandbox, I will store it at \"grid-search/training/bm25-b=0.9-k_1=2.9\".\n",
      "Done. run file is stored under \"grid-search/training/bm25-b=0.9-k_1=2.9/run.txt\".\n",
      "Run bm25-b=0.9-k_1=3.0\n"
     ]
    },
    {
     "name": "stderr",
     "output_type": "stream",
     "text": [
      "BR(BM25): 100%|██████████| 68/68 [00:01<00:00, 49.97q/s]\n"
     ]
    },
    {
     "name": "stdout",
     "output_type": "stream",
     "text": [
      "The run file is normalized outside the TIRA sandbox, I will store it at \"grid-search/training/bm25-b=0.9-k_1=3.0\".\n",
      "Done. run file is stored under \"grid-search/training/bm25-b=0.9-k_1=3.0/run.txt\".\n",
      "Run bm25-b=1.0-k_1=0.5\n"
     ]
    },
    {
     "name": "stderr",
     "output_type": "stream",
     "text": [
      "BR(BM25): 100%|██████████| 68/68 [00:01<00:00, 40.78q/s]\n"
     ]
    },
    {
     "name": "stdout",
     "output_type": "stream",
     "text": [
      "The run file is normalized outside the TIRA sandbox, I will store it at \"grid-search/training/bm25-b=1.0-k_1=0.5\".\n",
      "Done. run file is stored under \"grid-search/training/bm25-b=1.0-k_1=0.5/run.txt\".\n",
      "Run bm25-b=1.0-k_1=0.6\n"
     ]
    },
    {
     "name": "stderr",
     "output_type": "stream",
     "text": [
      "BR(BM25): 100%|██████████| 68/68 [00:01<00:00, 47.73q/s]\n"
     ]
    },
    {
     "name": "stdout",
     "output_type": "stream",
     "text": [
      "The run file is normalized outside the TIRA sandbox, I will store it at \"grid-search/training/bm25-b=1.0-k_1=0.6\".\n",
      "Done. run file is stored under \"grid-search/training/bm25-b=1.0-k_1=0.6/run.txt\".\n",
      "Run bm25-b=1.0-k_1=0.7\n"
     ]
    },
    {
     "name": "stderr",
     "output_type": "stream",
     "text": [
      "BR(BM25): 100%|██████████| 68/68 [00:01<00:00, 46.47q/s]\n"
     ]
    },
    {
     "name": "stdout",
     "output_type": "stream",
     "text": [
      "The run file is normalized outside the TIRA sandbox, I will store it at \"grid-search/training/bm25-b=1.0-k_1=0.7\".\n",
      "Done. run file is stored under \"grid-search/training/bm25-b=1.0-k_1=0.7/run.txt\".\n",
      "Run bm25-b=1.0-k_1=0.8\n"
     ]
    },
    {
     "name": "stderr",
     "output_type": "stream",
     "text": [
      "BR(BM25): 100%|██████████| 68/68 [00:01<00:00, 48.53q/s]\n"
     ]
    },
    {
     "name": "stdout",
     "output_type": "stream",
     "text": [
      "The run file is normalized outside the TIRA sandbox, I will store it at \"grid-search/training/bm25-b=1.0-k_1=0.8\".\n",
      "Done. run file is stored under \"grid-search/training/bm25-b=1.0-k_1=0.8/run.txt\".\n",
      "Run bm25-b=1.0-k_1=0.9\n"
     ]
    },
    {
     "name": "stderr",
     "output_type": "stream",
     "text": [
      "BR(BM25): 100%|██████████| 68/68 [00:01<00:00, 48.92q/s]\n"
     ]
    },
    {
     "name": "stdout",
     "output_type": "stream",
     "text": [
      "The run file is normalized outside the TIRA sandbox, I will store it at \"grid-search/training/bm25-b=1.0-k_1=0.9\".\n",
      "Done. run file is stored under \"grid-search/training/bm25-b=1.0-k_1=0.9/run.txt\".\n",
      "Run bm25-b=1.0-k_1=1.0\n"
     ]
    },
    {
     "name": "stderr",
     "output_type": "stream",
     "text": [
      "BR(BM25): 100%|██████████| 68/68 [00:01<00:00, 37.98q/s]\n"
     ]
    },
    {
     "name": "stdout",
     "output_type": "stream",
     "text": [
      "The run file is normalized outside the TIRA sandbox, I will store it at \"grid-search/training/bm25-b=1.0-k_1=1.0\".\n",
      "Done. run file is stored under \"grid-search/training/bm25-b=1.0-k_1=1.0/run.txt\".\n",
      "Run bm25-b=1.0-k_1=1.1\n"
     ]
    },
    {
     "name": "stderr",
     "output_type": "stream",
     "text": [
      "BR(BM25): 100%|██████████| 68/68 [00:01<00:00, 51.20q/s]\n"
     ]
    },
    {
     "name": "stdout",
     "output_type": "stream",
     "text": [
      "The run file is normalized outside the TIRA sandbox, I will store it at \"grid-search/training/bm25-b=1.0-k_1=1.1\".\n",
      "Done. run file is stored under \"grid-search/training/bm25-b=1.0-k_1=1.1/run.txt\".\n",
      "Run bm25-b=1.0-k_1=1.2\n"
     ]
    },
    {
     "name": "stderr",
     "output_type": "stream",
     "text": [
      "BR(BM25): 100%|██████████| 68/68 [00:01<00:00, 47.47q/s]\n"
     ]
    },
    {
     "name": "stdout",
     "output_type": "stream",
     "text": [
      "The run file is normalized outside the TIRA sandbox, I will store it at \"grid-search/training/bm25-b=1.0-k_1=1.2\".\n",
      "Done. run file is stored under \"grid-search/training/bm25-b=1.0-k_1=1.2/run.txt\".\n",
      "Run bm25-b=1.0-k_1=1.3\n"
     ]
    },
    {
     "name": "stderr",
     "output_type": "stream",
     "text": [
      "BR(BM25): 100%|██████████| 68/68 [00:01<00:00, 47.20q/s]\n"
     ]
    },
    {
     "name": "stdout",
     "output_type": "stream",
     "text": [
      "The run file is normalized outside the TIRA sandbox, I will store it at \"grid-search/training/bm25-b=1.0-k_1=1.3\".\n",
      "Done. run file is stored under \"grid-search/training/bm25-b=1.0-k_1=1.3/run.txt\".\n",
      "Run bm25-b=1.0-k_1=1.4\n"
     ]
    },
    {
     "name": "stderr",
     "output_type": "stream",
     "text": [
      "BR(BM25): 100%|██████████| 68/68 [00:01<00:00, 46.69q/s]\n"
     ]
    },
    {
     "name": "stdout",
     "output_type": "stream",
     "text": [
      "The run file is normalized outside the TIRA sandbox, I will store it at \"grid-search/training/bm25-b=1.0-k_1=1.4\".\n",
      "Done. run file is stored under \"grid-search/training/bm25-b=1.0-k_1=1.4/run.txt\".\n",
      "Run bm25-b=1.0-k_1=1.5\n"
     ]
    },
    {
     "name": "stderr",
     "output_type": "stream",
     "text": [
      "BR(BM25): 100%|██████████| 68/68 [00:01<00:00, 51.85q/s]\n"
     ]
    },
    {
     "name": "stdout",
     "output_type": "stream",
     "text": [
      "The run file is normalized outside the TIRA sandbox, I will store it at \"grid-search/training/bm25-b=1.0-k_1=1.5\".\n",
      "Done. run file is stored under \"grid-search/training/bm25-b=1.0-k_1=1.5/run.txt\".\n",
      "Run bm25-b=1.0-k_1=1.6\n"
     ]
    },
    {
     "name": "stderr",
     "output_type": "stream",
     "text": [
      "BR(BM25): 100%|██████████| 68/68 [00:01<00:00, 42.75q/s]\n"
     ]
    },
    {
     "name": "stdout",
     "output_type": "stream",
     "text": [
      "The run file is normalized outside the TIRA sandbox, I will store it at \"grid-search/training/bm25-b=1.0-k_1=1.6\".\n",
      "Done. run file is stored under \"grid-search/training/bm25-b=1.0-k_1=1.6/run.txt\".\n",
      "Run bm25-b=1.0-k_1=1.7\n"
     ]
    },
    {
     "name": "stderr",
     "output_type": "stream",
     "text": [
      "BR(BM25): 100%|██████████| 68/68 [00:01<00:00, 47.09q/s]\n"
     ]
    },
    {
     "name": "stdout",
     "output_type": "stream",
     "text": [
      "The run file is normalized outside the TIRA sandbox, I will store it at \"grid-search/training/bm25-b=1.0-k_1=1.7\".\n",
      "Done. run file is stored under \"grid-search/training/bm25-b=1.0-k_1=1.7/run.txt\".\n",
      "Run bm25-b=1.0-k_1=1.8\n"
     ]
    },
    {
     "name": "stderr",
     "output_type": "stream",
     "text": [
      "BR(BM25): 100%|██████████| 68/68 [00:01<00:00, 51.34q/s]\n"
     ]
    },
    {
     "name": "stdout",
     "output_type": "stream",
     "text": [
      "The run file is normalized outside the TIRA sandbox, I will store it at \"grid-search/training/bm25-b=1.0-k_1=1.8\".\n",
      "Done. run file is stored under \"grid-search/training/bm25-b=1.0-k_1=1.8/run.txt\".\n",
      "Run bm25-b=1.0-k_1=1.9\n"
     ]
    },
    {
     "name": "stderr",
     "output_type": "stream",
     "text": [
      "BR(BM25): 100%|██████████| 68/68 [00:01<00:00, 44.24q/s]\n"
     ]
    },
    {
     "name": "stdout",
     "output_type": "stream",
     "text": [
      "The run file is normalized outside the TIRA sandbox, I will store it at \"grid-search/training/bm25-b=1.0-k_1=1.9\".\n",
      "Done. run file is stored under \"grid-search/training/bm25-b=1.0-k_1=1.9/run.txt\".\n",
      "Run bm25-b=1.0-k_1=2.0\n"
     ]
    },
    {
     "name": "stderr",
     "output_type": "stream",
     "text": [
      "BR(BM25): 100%|██████████| 68/68 [00:01<00:00, 49.90q/s]\n"
     ]
    },
    {
     "name": "stdout",
     "output_type": "stream",
     "text": [
      "The run file is normalized outside the TIRA sandbox, I will store it at \"grid-search/training/bm25-b=1.0-k_1=2.0\".\n",
      "Done. run file is stored under \"grid-search/training/bm25-b=1.0-k_1=2.0/run.txt\".\n",
      "Run bm25-b=1.0-k_1=2.1\n"
     ]
    },
    {
     "name": "stderr",
     "output_type": "stream",
     "text": [
      "BR(BM25): 100%|██████████| 68/68 [00:01<00:00, 35.15q/s]\n"
     ]
    },
    {
     "name": "stdout",
     "output_type": "stream",
     "text": [
      "The run file is normalized outside the TIRA sandbox, I will store it at \"grid-search/training/bm25-b=1.0-k_1=2.1\".\n",
      "Done. run file is stored under \"grid-search/training/bm25-b=1.0-k_1=2.1/run.txt\".\n",
      "Run bm25-b=1.0-k_1=2.2\n"
     ]
    },
    {
     "name": "stderr",
     "output_type": "stream",
     "text": [
      "BR(BM25): 100%|██████████| 68/68 [00:01<00:00, 49.69q/s]\n"
     ]
    },
    {
     "name": "stdout",
     "output_type": "stream",
     "text": [
      "The run file is normalized outside the TIRA sandbox, I will store it at \"grid-search/training/bm25-b=1.0-k_1=2.2\".\n",
      "Done. run file is stored under \"grid-search/training/bm25-b=1.0-k_1=2.2/run.txt\".\n",
      "Run bm25-b=1.0-k_1=2.3\n"
     ]
    },
    {
     "name": "stderr",
     "output_type": "stream",
     "text": [
      "BR(BM25): 100%|██████████| 68/68 [00:01<00:00, 49.08q/s]\n"
     ]
    },
    {
     "name": "stdout",
     "output_type": "stream",
     "text": [
      "The run file is normalized outside the TIRA sandbox, I will store it at \"grid-search/training/bm25-b=1.0-k_1=2.3\".\n",
      "Done. run file is stored under \"grid-search/training/bm25-b=1.0-k_1=2.3/run.txt\".\n",
      "Run bm25-b=1.0-k_1=2.4\n"
     ]
    },
    {
     "name": "stderr",
     "output_type": "stream",
     "text": [
      "BR(BM25): 100%|██████████| 68/68 [00:01<00:00, 46.08q/s]\n"
     ]
    },
    {
     "name": "stdout",
     "output_type": "stream",
     "text": [
      "The run file is normalized outside the TIRA sandbox, I will store it at \"grid-search/training/bm25-b=1.0-k_1=2.4\".\n",
      "Done. run file is stored under \"grid-search/training/bm25-b=1.0-k_1=2.4/run.txt\".\n",
      "Run bm25-b=1.0-k_1=2.5\n"
     ]
    },
    {
     "name": "stderr",
     "output_type": "stream",
     "text": [
      "BR(BM25): 100%|██████████| 68/68 [00:01<00:00, 52.40q/s]\n"
     ]
    },
    {
     "name": "stdout",
     "output_type": "stream",
     "text": [
      "The run file is normalized outside the TIRA sandbox, I will store it at \"grid-search/training/bm25-b=1.0-k_1=2.5\".\n",
      "Done. run file is stored under \"grid-search/training/bm25-b=1.0-k_1=2.5/run.txt\".\n",
      "Run bm25-b=1.0-k_1=2.6\n"
     ]
    },
    {
     "name": "stderr",
     "output_type": "stream",
     "text": [
      "BR(BM25): 100%|██████████| 68/68 [00:01<00:00, 47.21q/s]\n"
     ]
    },
    {
     "name": "stdout",
     "output_type": "stream",
     "text": [
      "The run file is normalized outside the TIRA sandbox, I will store it at \"grid-search/training/bm25-b=1.0-k_1=2.6\".\n",
      "Done. run file is stored under \"grid-search/training/bm25-b=1.0-k_1=2.6/run.txt\".\n",
      "Run bm25-b=1.0-k_1=2.7\n"
     ]
    },
    {
     "name": "stderr",
     "output_type": "stream",
     "text": [
      "BR(BM25): 100%|██████████| 68/68 [00:01<00:00, 40.96q/s]\n"
     ]
    },
    {
     "name": "stdout",
     "output_type": "stream",
     "text": [
      "The run file is normalized outside the TIRA sandbox, I will store it at \"grid-search/training/bm25-b=1.0-k_1=2.7\".\n",
      "Done. run file is stored under \"grid-search/training/bm25-b=1.0-k_1=2.7/run.txt\".\n",
      "Run bm25-b=1.0-k_1=2.8\n"
     ]
    },
    {
     "name": "stderr",
     "output_type": "stream",
     "text": [
      "BR(BM25): 100%|██████████| 68/68 [00:01<00:00, 43.80q/s]\n"
     ]
    },
    {
     "name": "stdout",
     "output_type": "stream",
     "text": [
      "The run file is normalized outside the TIRA sandbox, I will store it at \"grid-search/training/bm25-b=1.0-k_1=2.8\".\n",
      "Done. run file is stored under \"grid-search/training/bm25-b=1.0-k_1=2.8/run.txt\".\n",
      "Run bm25-b=1.0-k_1=2.9\n"
     ]
    },
    {
     "name": "stderr",
     "output_type": "stream",
     "text": [
      "BR(BM25): 100%|██████████| 68/68 [00:01<00:00, 43.60q/s]\n"
     ]
    },
    {
     "name": "stdout",
     "output_type": "stream",
     "text": [
      "The run file is normalized outside the TIRA sandbox, I will store it at \"grid-search/training/bm25-b=1.0-k_1=2.9\".\n",
      "Done. run file is stored under \"grid-search/training/bm25-b=1.0-k_1=2.9/run.txt\".\n",
      "Run bm25-b=1.0-k_1=3.0\n"
     ]
    },
    {
     "name": "stderr",
     "output_type": "stream",
     "text": [
      "BR(BM25): 100%|██████████| 68/68 [00:01<00:00, 45.83q/s]\n"
     ]
    },
    {
     "name": "stdout",
     "output_type": "stream",
     "text": [
      "The run file is normalized outside the TIRA sandbox, I will store it at \"grid-search/training/bm25-b=1.0-k_1=3.0\".\n",
      "Done. run file is stored under \"grid-search/training/bm25-b=1.0-k_1=3.0/run.txt\".\n"
     ]
    }
   ],
   "source": [
    "dataset_tira = ir_datasets.load(dataset)\n",
    "queries = pt.io.read_topics(ir_datasets.topics_file(dataset), format='trecxml')\n",
    "run_bm25_grid_search_run(index, 'grid-search/training', queries)"
   ]
  },
  {
   "cell_type": "markdown",
   "metadata": {},
   "source": [
    "# Evaluate all Configurations from Grid Search"
   ]
  },
  {
   "cell_type": "code",
   "execution_count": 9,
   "metadata": {},
   "outputs": [
    {
     "name": "stdout",
     "output_type": "stream",
     "text": [
      "Requirement already satisfied: trectools in /usr/local/lib/python3.10/dist-packages (0.0.49)\n",
      "Requirement already satisfied: pandas>=0.15.0 in /usr/local/lib/python3.10/dist-packages (from trectools) (2.1.3)\n",
      "Requirement already satisfied: scikit-learn>=0.15 in /usr/local/lib/python3.10/dist-packages (from trectools) (1.3.2)\n",
      "Requirement already satisfied: matplotlib>=1.5 in /usr/local/lib/python3.10/dist-packages (from trectools) (3.9.0)\n",
      "Requirement already satisfied: scipy>=0.10.0 in /usr/local/lib/python3.10/dist-packages (from trectools) (1.11.4)\n",
      "Requirement already satisfied: sarge>=0.1.1 in /usr/local/lib/python3.10/dist-packages (from trectools) (0.1.7.post1)\n",
      "Requirement already satisfied: lxml>=3.6.0 in /usr/local/lib/python3.10/dist-packages (from trectools) (4.9.3)\n",
      "Requirement already satisfied: numpy>=1.0.0 in /usr/local/lib/python3.10/dist-packages (from trectools) (1.26.2)\n",
      "Requirement already satisfied: bs4>=0.0.0.1 in /usr/local/lib/python3.10/dist-packages (from trectools) (0.0.2)\n",
      "Requirement already satisfied: beautifulsoup4 in /usr/local/lib/python3.10/dist-packages (from bs4>=0.0.0.1->trectools) (4.12.2)\n",
      "Requirement already satisfied: pyparsing>=2.3.1 in /usr/local/lib/python3.10/dist-packages (from matplotlib>=1.5->trectools) (3.1.2)\n",
      "Requirement already satisfied: contourpy>=1.0.1 in /usr/local/lib/python3.10/dist-packages (from matplotlib>=1.5->trectools) (1.2.1)\n",
      "Requirement already satisfied: fonttools>=4.22.0 in /usr/local/lib/python3.10/dist-packages (from matplotlib>=1.5->trectools) (4.53.0)\n",
      "Requirement already satisfied: pillow>=8 in /usr/local/lib/python3.10/dist-packages (from matplotlib>=1.5->trectools) (10.3.0)\n",
      "Requirement already satisfied: packaging>=20.0 in /usr/local/lib/python3.10/dist-packages (from matplotlib>=1.5->trectools) (23.2)\n",
      "Requirement already satisfied: python-dateutil>=2.7 in /usr/local/lib/python3.10/dist-packages (from matplotlib>=1.5->trectools) (2.8.2)\n",
      "Requirement already satisfied: kiwisolver>=1.3.1 in /usr/local/lib/python3.10/dist-packages (from matplotlib>=1.5->trectools) (1.4.5)\n",
      "Requirement already satisfied: cycler>=0.10 in /usr/local/lib/python3.10/dist-packages (from matplotlib>=1.5->trectools) (0.12.1)\n",
      "Requirement already satisfied: tzdata>=2022.1 in /usr/local/lib/python3.10/dist-packages (from pandas>=0.15.0->trectools) (2023.3)\n",
      "Requirement already satisfied: pytz>=2020.1 in /usr/local/lib/python3.10/dist-packages (from pandas>=0.15.0->trectools) (2023.3.post1)\n",
      "Requirement already satisfied: threadpoolctl>=2.0.0 in /usr/local/lib/python3.10/dist-packages (from scikit-learn>=0.15->trectools) (3.2.0)\n",
      "Requirement already satisfied: joblib>=1.1.1 in /usr/local/lib/python3.10/dist-packages (from scikit-learn>=0.15->trectools) (1.3.2)\n",
      "Requirement already satisfied: six>=1.5 in /usr/local/lib/python3.10/dist-packages (from python-dateutil>=2.7->matplotlib>=1.5->trectools) (1.16.0)\n",
      "Requirement already satisfied: soupsieve>1.2 in /usr/local/lib/python3.10/dist-packages (from beautifulsoup4->bs4>=0.0.0.1->trectools) (2.5)\n",
      "\u001b[33mWARNING: Running pip as the 'root' user can result in broken permissions and conflicting behaviour with the system package manager. It is recommended to use a virtual environment instead: https://pip.pypa.io/warnings/venv\u001b[0m\u001b[33m\n",
      "\u001b[0m"
     ]
    },
    {
     "name": "stderr",
     "output_type": "stream",
     "text": [
      "/usr/local/lib/python3.10/dist-packages/trectools/trec_eval.py:294: FutureWarning: The default of observed=False is deprecated and will be changed to True in a future version of pandas. Pass observed=False to retain current behavior or observed=True to adopt the future default and silence this warning.\n",
      "  selection = selection[~selection[\"rel\"].isnull()].groupby(\"query\").first().copy()\n",
      "/usr/local/lib/python3.10/dist-packages/trectools/trec_eval.py:294: FutureWarning: The default of observed=False is deprecated and will be changed to True in a future version of pandas. Pass observed=False to retain current behavior or observed=True to adopt the future default and silence this warning.\n",
      "  selection = selection[~selection[\"rel\"].isnull()].groupby(\"query\").first().copy()\n",
      "/usr/local/lib/python3.10/dist-packages/trectools/trec_eval.py:294: FutureWarning: The default of observed=False is deprecated and will be changed to True in a future version of pandas. Pass observed=False to retain current behavior or observed=True to adopt the future default and silence this warning.\n",
      "  selection = selection[~selection[\"rel\"].isnull()].groupby(\"query\").first().copy()\n"
     ]
    },
    {
     "ename": "KeyboardInterrupt",
     "evalue": "",
     "output_type": "error",
     "traceback": [
      "\u001b[0;31m---------------------------------------------------------------------------\u001b[0m",
      "\u001b[0;31mKeyboardInterrupt\u001b[0m                         Traceback (most recent call last)",
      "Cell \u001b[0;32mIn[9], line 31\u001b[0m\n\u001b[1;32m     29\u001b[0m df \u001b[38;5;241m=\u001b[39m []\n\u001b[1;32m     30\u001b[0m \u001b[38;5;28;01mfor\u001b[39;00m r \u001b[38;5;129;01min\u001b[39;00m glob(\u001b[38;5;124m'\u001b[39m\u001b[38;5;124mgrid-search/training/bm25*\u001b[39m\u001b[38;5;124m'\u001b[39m):\n\u001b[0;32m---> 31\u001b[0m     df \u001b[38;5;241m+\u001b[39m\u001b[38;5;241m=\u001b[39m [\u001b[43mevaluate_run\u001b[49m\u001b[43m(\u001b[49m\u001b[43mr\u001b[49m\u001b[43m,\u001b[49m\u001b[43m \u001b[49m\u001b[43mtraining_qrels\u001b[49m\u001b[43m)\u001b[49m]\n\u001b[1;32m     32\u001b[0m df \u001b[38;5;241m=\u001b[39m pd\u001b[38;5;241m.\u001b[39mDataFrame(df)\n\u001b[1;32m     33\u001b[0m df_sorted \u001b[38;5;241m=\u001b[39m df\u001b[38;5;241m.\u001b[39msort_values(\u001b[38;5;124m'\u001b[39m\u001b[38;5;124mnDCG@10\u001b[39m\u001b[38;5;124m'\u001b[39m, ascending\u001b[38;5;241m=\u001b[39m\u001b[38;5;28;01mFalse\u001b[39;00m)\n",
      "Cell \u001b[0;32mIn[9], line 25\u001b[0m, in \u001b[0;36mevaluate_run\u001b[0;34m(run_dir, qrels)\u001b[0m\n\u001b[1;32m     16\u001b[0m run \u001b[38;5;241m=\u001b[39m TrecRun(run_dir \u001b[38;5;241m+\u001b[39m \u001b[38;5;124m'\u001b[39m\u001b[38;5;124m/run.txt\u001b[39m\u001b[38;5;124m'\u001b[39m)\n\u001b[1;32m     17\u001b[0m trec_eval \u001b[38;5;241m=\u001b[39m TrecEval(run, qrels)\n\u001b[1;32m     19\u001b[0m \u001b[38;5;28;01mreturn\u001b[39;00m {\n\u001b[1;32m     20\u001b[0m     \u001b[38;5;124m'\u001b[39m\u001b[38;5;124mrun\u001b[39m\u001b[38;5;124m'\u001b[39m: run\u001b[38;5;241m.\u001b[39mget_runid(),\n\u001b[1;32m     21\u001b[0m     \u001b[38;5;124m'\u001b[39m\u001b[38;5;124mnDCG@10\u001b[39m\u001b[38;5;124m'\u001b[39m: trec_eval\u001b[38;5;241m.\u001b[39mget_ndcg(depth\u001b[38;5;241m=\u001b[39m\u001b[38;5;241m10\u001b[39m),\n\u001b[1;32m     22\u001b[0m     \u001b[38;5;124m'\u001b[39m\u001b[38;5;124mnDCG@10 (unjudgedRemoved)\u001b[39m\u001b[38;5;124m'\u001b[39m: trec_eval\u001b[38;5;241m.\u001b[39mget_ndcg(depth\u001b[38;5;241m=\u001b[39m\u001b[38;5;241m10\u001b[39m, removeUnjudged\u001b[38;5;241m=\u001b[39m\u001b[38;5;28;01mTrue\u001b[39;00m),\n\u001b[1;32m     23\u001b[0m     \u001b[38;5;124m'\u001b[39m\u001b[38;5;124mMAP\u001b[39m\u001b[38;5;124m'\u001b[39m: trec_eval\u001b[38;5;241m.\u001b[39mget_map(depth\u001b[38;5;241m=\u001b[39m\u001b[38;5;241m10\u001b[39m),\n\u001b[1;32m     24\u001b[0m     \u001b[38;5;124m'\u001b[39m\u001b[38;5;124mMRR\u001b[39m\u001b[38;5;124m'\u001b[39m: trec_eval\u001b[38;5;241m.\u001b[39mget_reciprocal_rank(),\n\u001b[0;32m---> 25\u001b[0m     \u001b[38;5;124m'\u001b[39m\u001b[38;5;124mP@10\u001b[39m\u001b[38;5;124m'\u001b[39m: \u001b[43mtrec_eval\u001b[49m\u001b[38;5;241;43m.\u001b[39;49m\u001b[43mget_precision\u001b[49m\u001b[43m(\u001b[49m\u001b[43mdepth\u001b[49m\u001b[38;5;241;43m=\u001b[39;49m\u001b[38;5;241;43m10\u001b[39;49m\u001b[43m)\u001b[49m\n\u001b[1;32m     26\u001b[0m }\n",
      "File \u001b[0;32m/usr/local/lib/python3.10/dist-packages/trectools/trec_eval.py:673\u001b[0m, in \u001b[0;36mTrecEval.get_precision\u001b[0;34m(self, depth, per_query, trec_eval, removeUnjudged)\u001b[0m\n\u001b[1;32m    670\u001b[0m merged \u001b[38;5;241m=\u001b[39m pd\u001b[38;5;241m.\u001b[39mmerge(run[[\u001b[38;5;124m\"\u001b[39m\u001b[38;5;124mquery\u001b[39m\u001b[38;5;124m\"\u001b[39m, \u001b[38;5;124m\"\u001b[39m\u001b[38;5;124mdocid\u001b[39m\u001b[38;5;124m\"\u001b[39m, \u001b[38;5;124m\"\u001b[39m\u001b[38;5;124mscore\u001b[39m\u001b[38;5;124m\"\u001b[39m]], qrels[[\u001b[38;5;124m\"\u001b[39m\u001b[38;5;124mquery\u001b[39m\u001b[38;5;124m\"\u001b[39m,\u001b[38;5;124m\"\u001b[39m\u001b[38;5;124mdocid\u001b[39m\u001b[38;5;124m\"\u001b[39m,\u001b[38;5;124m\"\u001b[39m\u001b[38;5;124mrel\u001b[39m\u001b[38;5;124m\"\u001b[39m]], how\u001b[38;5;241m=\u001b[39m\u001b[38;5;124m\"\u001b[39m\u001b[38;5;124mleft\u001b[39m\u001b[38;5;124m\"\u001b[39m)\n\u001b[1;32m    672\u001b[0m \u001b[38;5;28;01mif\u001b[39;00m trec_eval:\n\u001b[0;32m--> 673\u001b[0m     \u001b[43mmerged\u001b[49m\u001b[38;5;241;43m.\u001b[39;49m\u001b[43msort_values\u001b[49m\u001b[43m(\u001b[49m\u001b[43m[\u001b[49m\u001b[38;5;124;43m\"\u001b[39;49m\u001b[38;5;124;43mquery\u001b[39;49m\u001b[38;5;124;43m\"\u001b[39;49m\u001b[43m,\u001b[49m\u001b[43m \u001b[49m\u001b[38;5;124;43m\"\u001b[39;49m\u001b[38;5;124;43mscore\u001b[39;49m\u001b[38;5;124;43m\"\u001b[39;49m\u001b[43m,\u001b[49m\u001b[43m \u001b[49m\u001b[38;5;124;43m\"\u001b[39;49m\u001b[38;5;124;43mdocid\u001b[39;49m\u001b[38;5;124;43m\"\u001b[39;49m\u001b[43m]\u001b[49m\u001b[43m,\u001b[49m\u001b[43m \u001b[49m\u001b[43mascending\u001b[49m\u001b[38;5;241;43m=\u001b[39;49m\u001b[43m[\u001b[49m\u001b[38;5;28;43;01mTrue\u001b[39;49;00m\u001b[43m,\u001b[49m\u001b[38;5;28;43;01mFalse\u001b[39;49;00m\u001b[43m,\u001b[49m\u001b[38;5;28;43;01mFalse\u001b[39;49;00m\u001b[43m]\u001b[49m\u001b[43m,\u001b[49m\u001b[43m \u001b[49m\u001b[43minplace\u001b[49m\u001b[38;5;241;43m=\u001b[39;49m\u001b[38;5;28;43;01mTrue\u001b[39;49;00m\u001b[43m)\u001b[49m\n\u001b[1;32m    675\u001b[0m \u001b[38;5;28;01mif\u001b[39;00m removeUnjudged:\n\u001b[1;32m    676\u001b[0m     merged \u001b[38;5;241m=\u001b[39m merged[\u001b[38;5;241m~\u001b[39mmerged\u001b[38;5;241m.\u001b[39mrel\u001b[38;5;241m.\u001b[39misnull()]\n",
      "File \u001b[0;32m/usr/local/lib/python3.10/dist-packages/pandas/core/frame.py:6938\u001b[0m, in \u001b[0;36mDataFrame.sort_values\u001b[0;34m(self, by, axis, ascending, inplace, kind, na_position, ignore_index, key)\u001b[0m\n\u001b[1;32m   6930\u001b[0m     \u001b[38;5;28;01mif\u001b[39;00m key \u001b[38;5;129;01mis\u001b[39;00m \u001b[38;5;129;01mnot\u001b[39;00m \u001b[38;5;28;01mNone\u001b[39;00m:\n\u001b[1;32m   6931\u001b[0m         \u001b[38;5;66;03m# error: List comprehension has incompatible type List[Series];\u001b[39;00m\n\u001b[1;32m   6932\u001b[0m         \u001b[38;5;66;03m# expected List[ndarray]\u001b[39;00m\n\u001b[1;32m   6933\u001b[0m         keys \u001b[38;5;241m=\u001b[39m [\n\u001b[1;32m   6934\u001b[0m             Series(k, name\u001b[38;5;241m=\u001b[39mname)  \u001b[38;5;66;03m# type: ignore[misc]\u001b[39;00m\n\u001b[1;32m   6935\u001b[0m             \u001b[38;5;28;01mfor\u001b[39;00m (k, name) \u001b[38;5;129;01min\u001b[39;00m \u001b[38;5;28mzip\u001b[39m(keys, by)\n\u001b[1;32m   6936\u001b[0m         ]\n\u001b[0;32m-> 6938\u001b[0m     indexer \u001b[38;5;241m=\u001b[39m \u001b[43mlexsort_indexer\u001b[49m\u001b[43m(\u001b[49m\n\u001b[1;32m   6939\u001b[0m \u001b[43m        \u001b[49m\u001b[43mkeys\u001b[49m\u001b[43m,\u001b[49m\u001b[43m \u001b[49m\u001b[43morders\u001b[49m\u001b[38;5;241;43m=\u001b[39;49m\u001b[43mascending\u001b[49m\u001b[43m,\u001b[49m\u001b[43m \u001b[49m\u001b[43mna_position\u001b[49m\u001b[38;5;241;43m=\u001b[39;49m\u001b[43mna_position\u001b[49m\u001b[43m,\u001b[49m\u001b[43m \u001b[49m\u001b[43mkey\u001b[49m\u001b[38;5;241;43m=\u001b[39;49m\u001b[43mkey\u001b[49m\n\u001b[1;32m   6940\u001b[0m \u001b[43m    \u001b[49m\u001b[43m)\u001b[49m\n\u001b[1;32m   6941\u001b[0m \u001b[38;5;28;01melif\u001b[39;00m \u001b[38;5;28mlen\u001b[39m(by):\n\u001b[1;32m   6942\u001b[0m     \u001b[38;5;66;03m# len(by) == 1\u001b[39;00m\n\u001b[1;32m   6944\u001b[0m     k \u001b[38;5;241m=\u001b[39m \u001b[38;5;28mself\u001b[39m\u001b[38;5;241m.\u001b[39m_get_label_or_level_values(by[\u001b[38;5;241m0\u001b[39m], axis\u001b[38;5;241m=\u001b[39maxis)\n",
      "File \u001b[0;32m/usr/local/lib/python3.10/dist-packages/pandas/core/sorting.py:373\u001b[0m, in \u001b[0;36mlexsort_indexer\u001b[0;34m(keys, orders, na_position, key, codes_given)\u001b[0m\n\u001b[1;32m    370\u001b[0m     n \u001b[38;5;241m=\u001b[39m codes\u001b[38;5;241m.\u001b[39mmax() \u001b[38;5;241m+\u001b[39m \u001b[38;5;241m1\u001b[39m \u001b[38;5;28;01mif\u001b[39;00m \u001b[38;5;28mlen\u001b[39m(codes) \u001b[38;5;28;01melse\u001b[39;00m \u001b[38;5;241m0\u001b[39m  \u001b[38;5;66;03m# type: ignore[union-attr]\u001b[39;00m\n\u001b[1;32m    372\u001b[0m \u001b[38;5;28;01melse\u001b[39;00m:\n\u001b[0;32m--> 373\u001b[0m     cat \u001b[38;5;241m=\u001b[39m \u001b[43mCategorical\u001b[49m\u001b[43m(\u001b[49m\u001b[43mk\u001b[49m\u001b[43m,\u001b[49m\u001b[43m \u001b[49m\u001b[43mordered\u001b[49m\u001b[38;5;241;43m=\u001b[39;49m\u001b[38;5;28;43;01mTrue\u001b[39;49;00m\u001b[43m)\u001b[49m\n\u001b[1;32m    374\u001b[0m     n \u001b[38;5;241m=\u001b[39m \u001b[38;5;28mlen\u001b[39m(cat\u001b[38;5;241m.\u001b[39mcategories)\n\u001b[1;32m    375\u001b[0m     codes \u001b[38;5;241m=\u001b[39m cat\u001b[38;5;241m.\u001b[39mcodes\u001b[38;5;241m.\u001b[39mcopy()\n",
      "File \u001b[0;32m/usr/local/lib/python3.10/dist-packages/pandas/core/arrays/categorical.py:462\u001b[0m, in \u001b[0;36mCategorical.__init__\u001b[0;34m(self, values, categories, ordered, dtype, fastpath, copy)\u001b[0m\n\u001b[1;32m    455\u001b[0m             \u001b[38;5;28;01mraise\u001b[39;00m \u001b[38;5;167;01mTypeError\u001b[39;00m(\n\u001b[1;32m    456\u001b[0m                 \u001b[38;5;124m\"\u001b[39m\u001b[38;5;124m'\u001b[39m\u001b[38;5;124mvalues\u001b[39m\u001b[38;5;124m'\u001b[39m\u001b[38;5;124m is not ordered, please \u001b[39m\u001b[38;5;124m\"\u001b[39m\n\u001b[1;32m    457\u001b[0m                 \u001b[38;5;124m\"\u001b[39m\u001b[38;5;124mexplicitly specify the categories order \u001b[39m\u001b[38;5;124m\"\u001b[39m\n\u001b[1;32m    458\u001b[0m                 \u001b[38;5;124m\"\u001b[39m\u001b[38;5;124mby passing in a categories argument.\u001b[39m\u001b[38;5;124m\"\u001b[39m\n\u001b[1;32m    459\u001b[0m             ) \u001b[38;5;28;01mfrom\u001b[39;00m \u001b[38;5;21;01merr\u001b[39;00m\n\u001b[1;32m    461\u001b[0m     \u001b[38;5;66;03m# we're inferring from values\u001b[39;00m\n\u001b[0;32m--> 462\u001b[0m     dtype \u001b[38;5;241m=\u001b[39m \u001b[43mCategoricalDtype\u001b[49m\u001b[43m(\u001b[49m\u001b[43mcategories\u001b[49m\u001b[43m,\u001b[49m\u001b[43m \u001b[49m\u001b[43mdtype\u001b[49m\u001b[38;5;241;43m.\u001b[39;49m\u001b[43mordered\u001b[49m\u001b[43m)\u001b[49m\n\u001b[1;32m    464\u001b[0m \u001b[38;5;28;01melif\u001b[39;00m \u001b[38;5;28misinstance\u001b[39m(values\u001b[38;5;241m.\u001b[39mdtype, CategoricalDtype):\n\u001b[1;32m    465\u001b[0m     old_codes \u001b[38;5;241m=\u001b[39m extract_array(values)\u001b[38;5;241m.\u001b[39m_codes\n",
      "File \u001b[0;32m/usr/local/lib/python3.10/dist-packages/pandas/core/dtypes/dtypes.py:211\u001b[0m, in \u001b[0;36mCategoricalDtype.__init__\u001b[0;34m(self, categories, ordered)\u001b[0m\n\u001b[1;32m    210\u001b[0m \u001b[38;5;28;01mdef\u001b[39;00m \u001b[38;5;21m__init__\u001b[39m(\u001b[38;5;28mself\u001b[39m, categories\u001b[38;5;241m=\u001b[39m\u001b[38;5;28;01mNone\u001b[39;00m, ordered: Ordered \u001b[38;5;241m=\u001b[39m \u001b[38;5;28;01mFalse\u001b[39;00m) \u001b[38;5;241m-\u001b[39m\u001b[38;5;241m>\u001b[39m \u001b[38;5;28;01mNone\u001b[39;00m:\n\u001b[0;32m--> 211\u001b[0m     \u001b[38;5;28;43mself\u001b[39;49m\u001b[38;5;241;43m.\u001b[39;49m\u001b[43m_finalize\u001b[49m\u001b[43m(\u001b[49m\u001b[43mcategories\u001b[49m\u001b[43m,\u001b[49m\u001b[43m \u001b[49m\u001b[43mordered\u001b[49m\u001b[43m,\u001b[49m\u001b[43m \u001b[49m\u001b[43mfastpath\u001b[49m\u001b[38;5;241;43m=\u001b[39;49m\u001b[38;5;28;43;01mFalse\u001b[39;49;00m\u001b[43m)\u001b[49m\n",
      "File \u001b[0;32m/usr/local/lib/python3.10/dist-packages/pandas/core/dtypes/dtypes.py:368\u001b[0m, in \u001b[0;36mCategoricalDtype._finalize\u001b[0;34m(self, categories, ordered, fastpath)\u001b[0m\n\u001b[1;32m    365\u001b[0m     \u001b[38;5;28mself\u001b[39m\u001b[38;5;241m.\u001b[39mvalidate_ordered(ordered)\n\u001b[1;32m    367\u001b[0m \u001b[38;5;28;01mif\u001b[39;00m categories \u001b[38;5;129;01mis\u001b[39;00m \u001b[38;5;129;01mnot\u001b[39;00m \u001b[38;5;28;01mNone\u001b[39;00m:\n\u001b[0;32m--> 368\u001b[0m     categories \u001b[38;5;241m=\u001b[39m \u001b[38;5;28;43mself\u001b[39;49m\u001b[38;5;241;43m.\u001b[39;49m\u001b[43mvalidate_categories\u001b[49m\u001b[43m(\u001b[49m\u001b[43mcategories\u001b[49m\u001b[43m,\u001b[49m\u001b[43m \u001b[49m\u001b[43mfastpath\u001b[49m\u001b[38;5;241;43m=\u001b[39;49m\u001b[43mfastpath\u001b[49m\u001b[43m)\u001b[49m\n\u001b[1;32m    370\u001b[0m \u001b[38;5;28mself\u001b[39m\u001b[38;5;241m.\u001b[39m_categories \u001b[38;5;241m=\u001b[39m categories\n\u001b[1;32m    371\u001b[0m \u001b[38;5;28mself\u001b[39m\u001b[38;5;241m.\u001b[39m_ordered \u001b[38;5;241m=\u001b[39m ordered\n",
      "File \u001b[0;32m/usr/local/lib/python3.10/dist-packages/pandas/core/dtypes/dtypes.py:563\u001b[0m, in \u001b[0;36mCategoricalDtype.validate_categories\u001b[0;34m(categories, fastpath)\u001b[0m\n\u001b[1;32m    559\u001b[0m     \u001b[38;5;28;01mraise\u001b[39;00m \u001b[38;5;167;01mTypeError\u001b[39;00m(\n\u001b[1;32m    560\u001b[0m         \u001b[38;5;124mf\u001b[39m\u001b[38;5;124m\"\u001b[39m\u001b[38;5;124mParameter \u001b[39m\u001b[38;5;124m'\u001b[39m\u001b[38;5;124mcategories\u001b[39m\u001b[38;5;124m'\u001b[39m\u001b[38;5;124m must be list-like, was \u001b[39m\u001b[38;5;132;01m{\u001b[39;00m\u001b[38;5;28mrepr\u001b[39m(categories)\u001b[38;5;132;01m}\u001b[39;00m\u001b[38;5;124m\"\u001b[39m\n\u001b[1;32m    561\u001b[0m     )\n\u001b[1;32m    562\u001b[0m \u001b[38;5;28;01mif\u001b[39;00m \u001b[38;5;129;01mnot\u001b[39;00m \u001b[38;5;28misinstance\u001b[39m(categories, ABCIndex):\n\u001b[0;32m--> 563\u001b[0m     categories \u001b[38;5;241m=\u001b[39m \u001b[43mIndex\u001b[49m\u001b[38;5;241;43m.\u001b[39;49m\u001b[43m_with_infer\u001b[49m\u001b[43m(\u001b[49m\u001b[43mcategories\u001b[49m\u001b[43m,\u001b[49m\u001b[43m \u001b[49m\u001b[43mtupleize_cols\u001b[49m\u001b[38;5;241;43m=\u001b[39;49m\u001b[38;5;28;43;01mFalse\u001b[39;49;00m\u001b[43m)\u001b[49m\n\u001b[1;32m    565\u001b[0m \u001b[38;5;28;01mif\u001b[39;00m \u001b[38;5;129;01mnot\u001b[39;00m fastpath:\n\u001b[1;32m    566\u001b[0m     \u001b[38;5;28;01mif\u001b[39;00m categories\u001b[38;5;241m.\u001b[39mhasnans:\n",
      "File \u001b[0;32m/usr/local/lib/python3.10/dist-packages/pandas/core/indexes/base.py:686\u001b[0m, in \u001b[0;36mIndex._with_infer\u001b[0;34m(cls, *args, **kwargs)\u001b[0m\n\u001b[1;32m    681\u001b[0m \u001b[38;5;28;01mif\u001b[39;00m result\u001b[38;5;241m.\u001b[39mdtype \u001b[38;5;241m==\u001b[39m _dtype_obj \u001b[38;5;129;01mand\u001b[39;00m \u001b[38;5;129;01mnot\u001b[39;00m result\u001b[38;5;241m.\u001b[39m_is_multi:\n\u001b[1;32m    682\u001b[0m     \u001b[38;5;66;03m# error: Argument 1 to \"maybe_convert_objects\" has incompatible type\u001b[39;00m\n\u001b[1;32m    683\u001b[0m     \u001b[38;5;66;03m# \"Union[ExtensionArray, ndarray[Any, Any]]\"; expected\u001b[39;00m\n\u001b[1;32m    684\u001b[0m     \u001b[38;5;66;03m# \"ndarray[Any, Any]\"\u001b[39;00m\n\u001b[1;32m    685\u001b[0m     values \u001b[38;5;241m=\u001b[39m lib\u001b[38;5;241m.\u001b[39mmaybe_convert_objects(result\u001b[38;5;241m.\u001b[39m_values)  \u001b[38;5;66;03m# type: ignore[arg-type]\u001b[39;00m\n\u001b[0;32m--> 686\u001b[0m     \u001b[38;5;28;01mif\u001b[39;00m values\u001b[38;5;241m.\u001b[39mdtype\u001b[38;5;241m.\u001b[39mkind \u001b[38;5;129;01min\u001b[39;00m \u001b[38;5;124m\"\u001b[39m\u001b[38;5;124miufb\u001b[39m\u001b[38;5;124m\"\u001b[39m:\n\u001b[1;32m    687\u001b[0m         \u001b[38;5;28;01mreturn\u001b[39;00m Index(values, name\u001b[38;5;241m=\u001b[39mresult\u001b[38;5;241m.\u001b[39mname)\n\u001b[1;32m    689\u001b[0m \u001b[38;5;28;01mreturn\u001b[39;00m result\n",
      "\u001b[0;31mKeyboardInterrupt\u001b[0m: "
     ]
    }
   ],
   "source": [
    "!pip3 install trectools\n",
    "\n",
    "from trectools import TrecRun, TrecQrel, TrecEval\n",
    "from tira.rest_api_client import Client\n",
    "from glob import glob\n",
    "import pandas as pd\n",
    "tira = Client()\n",
    "\n",
    "def load_qrels(dataset):\n",
    "    return TrecQrel(tira.download_dataset('ir-lab-sose-2024', dataset, truth_dataset=True) + '/qrels.txt')\n",
    "\n",
    "training_qrels = load_qrels('ir-acl-anthology-20240504-training')\n",
    "\n",
    "\n",
    "def evaluate_run(run_dir, qrels):\n",
    "    run = TrecRun(run_dir + '/run.txt')\n",
    "    trec_eval = TrecEval(run, qrels)\n",
    "\n",
    "    return {\n",
    "        'run': run.get_runid(),\n",
    "        'nDCG@10': trec_eval.get_ndcg(depth=10),\n",
    "        'nDCG@10 (unjudgedRemoved)': trec_eval.get_ndcg(depth=10, removeUnjudged=True),\n",
    "        'MAP': trec_eval.get_map(depth=10),\n",
    "        'MRR': trec_eval.get_reciprocal_rank(),\n",
    "        'P@10': trec_eval.get_precision(depth=10)\n",
    "    }\n",
    "\n",
    "\n",
    "df = []\n",
    "for r in glob('grid-search/training/bm25*'):\n",
    "    df += [evaluate_run(r, training_qrels)]\n",
    "df = pd.DataFrame(df)\n",
    "df_sorted = df.sort_values('nDCG@10', ascending=False)\n",
    "print(df_sorted)\n",
    "best_configuration = df_sorted['run'].values[0]\n",
    "best_b = best_configuration.split(\"-\")[1].split(\"=\")[1]\n",
    "best_k_1 = best_configuration.split(\"-\")[2].split(\"=\")[1]"
   ]
  },
  {
   "cell_type": "code",
   "execution_count": 6,
   "metadata": {},
   "outputs": [],
   "source": [
    "best_b = 0.1\n",
    "best_k_1 = 1.9\n",
    "\n",
    "bm25 = pt.BatchRetrieve(index, wmodel=\"BM25\", controls= {\"bm25.b\" : best_b, \"bm25.k_1\": best_k_1})\n",
    "sdm = pt.rewrite.SDM()"
   ]
  },
  {
   "cell_type": "markdown",
   "metadata": {},
   "source": [
    "# Query expansion/rewriting with LLM´s"
   ]
  },
  {
   "cell_type": "code",
   "execution_count": 10,
   "metadata": {},
   "outputs": [],
   "source": [
    "# Load the expansions\n",
    "dataset_tira = ir_datasets.load(dataset)\n",
    "queries = pt.io.read_topics(ir_datasets.topics_file(dataset), format='trecxml')\n",
    "# llm expansions with gpt\n",
    "gpt_cot = tira.pt.transform_queries('workshop-on-open-web-search/tu-dresden-03/qe-gpt3.5-cot', dataset, prefix='llm_expansion_')\n",
    "gpt_sq_fs = tira.pt.transform_queries('workshop-on-open-web-search/tu-dresden-03/qe-gpt3.5-sq-fs', dataset, prefix='llm_expansion_')\n",
    "gpt_sq_zs = tira.pt.transform_queries('ir-benchmarks/tu-dresden-03/qe-gpt3.5-sq-zs', dataset, prefix='llm_expansion_')\n",
    "\n",
    "# llm expansions with llama\n",
    "llama_cot = tira.pt.transform_queries('ir-benchmarks/tu-dresden-03/qe-llama-cot', dataset, prefix='llm_expansion_')\n",
    "llama_sq_fs = tira.pt.transform_queries('ir-benchmarks/tu-dresden-03/qe-llama-sq-fs', dataset, prefix='llm_expansion_')\n",
    "llama_sq_zs = tira.pt.transform_queries('ir-benchmarks/tu-dresden-03/qe-llama-sq-zs', dataset, prefix='llm_expansion_')\n",
    "\n",
    "# llm expansions with flan-ul2\n",
    "flan_cot = tira.pt.transform_queries('ir-benchmarks/tu-dresden-03/qe-flan-ul2-cot', dataset, prefix='llm_expansion_')\n",
    "flan_sq_fs = tira.pt.transform_queries('ir-benchmarks/tu-dresden-03/qe-flan-ul2-sq-fs', dataset, prefix='llm_expansion_')\n",
    "flan_sq_zs = tira.pt.transform_queries('ir-benchmarks/tu-dresden-03/qe-flan-ul2-sq-zs', dataset, prefix='llm_expansion_')"
   ]
  },
  {
   "cell_type": "code",
   "execution_count": 11,
   "metadata": {},
   "outputs": [],
   "source": [
    "topics = pt_dataset.get_topics(variant='title')\n",
    "\n",
    "tokeniser = pt.autoclass(\"org.terrier.indexing.tokenisation.Tokeniser\").getTokeniser()\n",
    "\n",
    "def pt_tokenize(text):\n",
    "    return ' '.join(tokeniser.getTokens(text))\n",
    "\n",
    "def expand_query(topic):\n",
    "  ret = ' '.join([topic['query'], topic['query'], topic['query'],  topic['query'],  topic['query'], topic['llm_expansion_query']])\n",
    "\n",
    "  # apply the tokenization\n",
    "  return pt_tokenize(ret)\n",
    "\n",
    "# we wrap this into an pyterrier transformer\n",
    "# Documentation: https://pyterrier.readthedocs.io/en/latest/apply.html\n",
    "pt_expand_query = pt.apply.query(expand_query)\n",
    "\n",
    "\n",
    "pipeline_gpt_cot = (gpt_cot >> pt_expand_query) >> bm25\n",
    "pipeline_gpt_sq_fs = (gpt_sq_fs >> pt_expand_query) >> bm25\n",
    "pipeline_gpt_sq_zs = (gpt_sq_zs >> pt_expand_query) >> bm25\n",
    "\n",
    "pipeline_llama_cot = (llama_cot >> pt_expand_query) >> bm25\n",
    "pipeline_llama_sq_fs = (llama_sq_fs >> pt_expand_query) >> bm25\n",
    "pipeline_llama_sq_zs = (llama_sq_zs >> pt_expand_query) >> bm25\n",
    "\n",
    "pipeline_flan_cot = (flan_cot >> pt_expand_query) >> bm25\n",
    "pipeline_flan_sq_fs = (flan_sq_fs >> pt_expand_query) >> bm25\n",
    "pipeline_flan_sq_zs = (flan_sq_zs >> pt_expand_query) >> bm25\n",
    "\n"
   ]
  },
  {
   "cell_type": "code",
   "execution_count": 43,
   "metadata": {},
   "outputs": [
    {
     "name": "stdout",
     "output_type": "stream",
     "text": [
      "Requirement already satisfied: scikit-learn in /usr/local/lib/python3.10/dist-packages (1.3.2)\n",
      "Requirement already satisfied: numpy<2.0,>=1.17.3 in /usr/local/lib/python3.10/dist-packages (from scikit-learn) (1.26.2)\n",
      "Requirement already satisfied: threadpoolctl>=2.0.0 in /usr/local/lib/python3.10/dist-packages (from scikit-learn) (3.2.0)\n",
      "Requirement already satisfied: scipy>=1.5.0 in /usr/local/lib/python3.10/dist-packages (from scikit-learn) (1.11.4)\n",
      "Requirement already satisfied: joblib>=1.1.1 in /usr/local/lib/python3.10/dist-packages (from scikit-learn) (1.3.2)\n",
      "\u001b[33mWARNING: Running pip as the 'root' user can result in broken permissions and conflicting behaviour with the system package manager. It is recommended to use a virtual environment instead: https://pip.pypa.io/warnings/venv\u001b[0m\u001b[33m\n",
      "\u001b[0m"
     ]
    }
   ],
   "source": [
    "if not pt.started():\n",
    "    pt.init(boot_packages=[\"com.github.terrierteam:terrier-prf:-SNAPSHOT\"])\n",
    "    \n",
    "topics = pt_dataset.get_topics(variant='title')\n",
    "\n",
    "SEED=42\n",
    "\n",
    "!pip3 install scikit-learn\n",
    "\n",
    "from sklearn.model_selection import train_test_split\n",
    "\n",
    "tr_va_topics, test_topics = train_test_split(topics, test_size=15, random_state=SEED)\n",
    "train_topics, valid_topics =  train_test_split(tr_va_topics, test_size=5, random_state=SEED)\n",
    "\n",
    "ltr_feats1 = bm25 >> pt.text.get_text(pt_dataset, [\"text\", \"doc_id\"]) >> (\n",
    "    pt.BatchRetrieve(index, wmodel=\"Js_KLs\")\n",
    "    ** # KL Expansion\n",
    "    pt.BatchRetrieve(index, wmodel=\"BM25\", controls={\"qe\":\"on\", \"qemodel\" : \"KL\"})\n",
    "    ** # ChatGPT Similiar Queries Few Shot\n",
    "    pipeline_gpt_sq_fs\n",
    "    ** # ChatGPT Similiar Queries Zero shot\n",
    "    pipeline_gpt_sq_zs\n",
    "    ** # Llama-2 Chain of Thought\n",
    "    pipeline_llama_cot\n",
    "    ** # Llama-2 Similiar Queries Zero shot\n",
    "    pipeline_llama_sq_zs\n",
    "    ** # Flan-UL2 Similiar Queries Few Shot\n",
    "    pipeline_flan_sq_fs\n",
    ")\n",
    "\n",
    "# for reference, lets record the feature names here too\n",
    "fnames=[\"Js_KLs\", \"KL\", \"gpt_sq_fs\", \"gpt_sq_zs\", \"llama_cot\", \"llama_sq_zs\", \"flan_sq_fs\"]"
   ]
  },
  {
   "cell_type": "code",
   "execution_count": 44,
   "metadata": {},
   "outputs": [
    {
     "name": "stdout",
     "output_type": "stream",
     "text": [
      "Requirement already satisfied: joblib in /usr/local/lib/python3.10/dist-packages (1.3.2)\n",
      "\u001b[33mWARNING: Running pip as the 'root' user can result in broken permissions and conflicting behaviour with the system package manager. It is recommended to use a virtual environment instead: https://pip.pypa.io/warnings/venv\u001b[0m\u001b[33m\n",
      "\u001b[0m"
     ]
    },
    {
     "name": "stderr",
     "output_type": "stream",
     "text": [
      "[Parallel(n_jobs=4)]: Using backend ThreadingBackend with 4 concurrent workers.\n",
      "[Parallel(n_jobs=4)]: Done  42 tasks      | elapsed:    7.8s\n",
      "[Parallel(n_jobs=4)]: Done 192 tasks      | elapsed:   34.7s\n",
      "[Parallel(n_jobs=4)]: Done 400 out of 400 | elapsed:  1.2min finished\n"
     ]
    },
    {
     "name": "stdout",
     "output_type": "stream",
     "text": [
      "Model trained and saved to file.\n",
      "[0.19679015 0.19760398 0.20677358 0.20676063 0.19207166]\n"
     ]
    }
   ],
   "source": [
    "from sklearn.ensemble import RandomForestRegressor\n",
    "!pip3 install joblib\n",
    "import joblib\n",
    "\n",
    "model_path = \"./model9.joblib\"\n",
    "\n",
    "if os.path.exists(model_path):\n",
    "    # Load the model\n",
    "    model = joblib.load(model_path)\n",
    "    print(\"Model loaded from file.\")\n",
    "    rf_pipe = ltr_feats1 >> pt.ltr.apply_learned_model(model)\n",
    "else:\n",
    "    \n",
    "    model = RandomForestRegressor(n_estimators=400, verbose=1, random_state=SEED, n_jobs=4)\n",
    "    rf_pipe = ltr_feats1 >> pt.ltr.apply_learned_model(model)\n",
    "    rf_pipe.fit(train_topics, pt_dataset.get_qrels())\n",
    "    joblib.dump(model, model_path)\n",
    "    print(\"Model trained and saved to file.\")\n",
    "\n",
    "print(model.feature_importances_)"
   ]
  },
  {
   "cell_type": "code",
   "execution_count": 45,
   "metadata": {},
   "outputs": [
    {
     "name": "stderr",
     "output_type": "stream",
     "text": [
      "[Parallel(n_jobs=4)]: Using backend ThreadingBackend with 4 concurrent workers.\n",
      "[Parallel(n_jobs=4)]: Done  42 tasks      | elapsed:    0.1s\n",
      "[Parallel(n_jobs=4)]: Done 192 tasks      | elapsed:    0.4s\n",
      "[Parallel(n_jobs=4)]: Done 400 out of 400 | elapsed:    0.9s finished\n"
     ]
    },
    {
     "name": "stdout",
     "output_type": "stream",
     "text": [
      "The run file is normalized outside the TIRA sandbox, I will store it at \"../runs\".\n",
      "Done. run file is stored under \"../runs/run.txt\".\n"
     ]
    }
   ],
   "source": [
    "def save_results(system, name):\n",
    "    run = system(pt_dataset.get_topics('text'))\n",
    "    persist_and_normalize_run(run, system_name=name, default_output='../runs')\n",
    "    os.rename('../runs/run.txt', \"../runs/\"+name+\".txt\")\n",
    "\n",
    "save_results(rf_pipe, \"15_samples_even_even_less_features\")\n",
    "# run = rf_pipe(pt_dataset.get_topics('text'))\n",
    "# persist_and_normalize_run(run, system_name=\"RandomForestRegressor\", default_output='../runs')"
   ]
  }
 ],
 "metadata": {
  "kernelspec": {
   "display_name": "Python 3",
   "language": "python",
   "name": "python3"
  },
  "language_info": {
   "codemirror_mode": {
    "name": "ipython",
    "version": 3
   },
   "file_extension": ".py",
   "mimetype": "text/x-python",
   "name": "python",
   "nbconvert_exporter": "python",
   "pygments_lexer": "ipython3",
   "version": "3.10.12"
  }
 },
 "nbformat": 4,
 "nbformat_minor": 2
}
