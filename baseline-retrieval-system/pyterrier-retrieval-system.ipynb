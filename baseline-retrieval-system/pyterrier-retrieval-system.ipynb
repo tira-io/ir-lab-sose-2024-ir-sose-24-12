{
 "cells": [
  {
   "cell_type": "code",
   "execution_count": 8,
   "metadata": {},
   "outputs": [],
   "source": [
    "from tira.third_party_integrations import ensure_pyterrier_is_loaded, persist_and_normalize_run\n",
    "import pyterrier as pt\n",
    "import os"
   ]
  },
  {
   "cell_type": "code",
   "execution_count": 22,
   "metadata": {},
   "outputs": [
    {
     "ename": "Exception",
     "evalue": "--- \n------Dockerfile\n------.devcontainer.json\n------.gitignore\n------README.md\n--- .github\n--- --- workflows\n---------upload-docker-submission.yml\n--- runs\n------run.txt\n------trained.txt\n------loaded.txt\n--- .tira\n------.gitkeep\n--- baseline-retrieval-system\n------baseline-retrieval-system.ipynb\n------model.joblib\n------retrieval-system.ipynb\n------pyterrier-retrieval-system.ipynb\n--- --- terrier-index\n---------data.meta-0.fsomapfile\n---------data.lexicon.fsomaphash\n---------data.meta.zdata\n---------data.direct.bf\n---------data.lexicon.fsomapid\n---------data.document.fsarrayfile\n---------data.meta.idx\n---------data.properties\n---------data.lexicon.fsomapfile\n---------data.inverted.bf\n--- .git\n------description\n------config\n------HEAD\n------FETCH_HEAD\n------packed-refs\n------COMMIT_EDITMSG\n------ORIG_HEAD\n------index\n--- --- info\n---------exclude\n--- --- branches\n--- --- refs\n--- --- --- heads\n------------pyterrier-ir-system\n------------main\n------------indexing\n------------evaluation\n--- --- --- remotes\n--- --- --- --- origin\n---------------gridsearch\n---------------query-expansion\n---------------pyterrier-ir-system\n---------------main\n---------------HEAD\n---------------indexing\n---------------evaluation\n--- --- --- tags\n--- --- logs\n---------HEAD\n--- --- --- refs\n--- --- --- --- heads\n---------------pyterrier-ir-system\n---------------main\n---------------indexing\n---------------evaluation\n--- --- --- --- remotes\n--- --- --- --- --- origin\n------------------gridsearch\n------------------query-expansion\n------------------pyterrier-ir-system\n------------------main\n------------------HEAD\n------------------indexing\n------------------evaluation\n--- --- objects\n--- --- --- 68\n------------c4ba87357c2988de9d2ee117b90fbccf15d96e\n--- --- --- 0d\n------------3b17ed19ced2d0decd304ca27927e0d746a79d\n------------b2af7e24906e804d96f87d3e13620d4b4663a0\n--- --- --- 5f\n------------0016bec70890e39b0b0fe3cdc14445d0b4babd\n--- --- --- 3e\n------------e0f0b9344f6fae1d864e1ed6d41cc5a5c0810c\n--- --- --- e8\n------------c8bea27f73f83ab0a4c0e25afa52a2defc5575\n--- --- --- e6\n------------20fda603903d3cf303f66f3717d3c87a6745c4\n------------5292f45fce884c7e7f663cbc3c2c7d93697306\n--- --- --- 59\n------------3f4708db84ac8fd0f5cc47c634f38c013fe9e4\n--- --- --- info\n--- --- --- ea\n------------9a35c94be4be2e1020d9ffe8d33d4e4d1fef24\n--- --- --- cc\n------------017cb0f2672afe957712b72183d07182989a55\n--- --- --- 2c\n------------048422523531e5ab90a404171d9adb7cbcf41b\n------------16b51d20fc6f7ec22feb4608e7296e603e6a7c\n--- --- --- 2f\n------------d642e6d9483222e1c1b40f506d69973f3633a5\n------------f9f5c10a67162a7191bfcb0807e8ffe706fbe1\n--- --- --- 51\n------------7ccbab47486779255c67cbeb60ecd580778899\n------------e64567f958e2cc9d3c3d49d9fa37b7903fdb8d\n--- --- --- 65\n------------42a0e8aaacdc7d0bba7b34335321c34199c0cf\n--- --- --- 85\n------------5267f2e846ee4b3a871009956fc1d9bbc8d285\n--- --- --- 50\n------------51937932cffb2b3d09ffb7e72b608159aef563\n--- --- --- b5\n------------bc6efdd52339b4eabade34edcfca1f07147eba\n------------0c93fc52e84ee1a02a82555349ba76bea7b263\n--- --- --- 1c\n------------a3b2dd9c50adf9bb4c3b629af5b20d37527fc0\n------------e7bcce1ce5d27d67e427bf310dfd73985ed242\n--- --- --- ca\n------------ea52ce8d9b8d3620f1bbd3017fa856dbdb829a\n--- --- --- f8\n------------d5c3a3ab156da7cada9d9f4de24c88e96e5ce6\n------------2648c92667df0c105b3d3e158924e4fb0a2494\n--- --- --- 05\n------------07a5f8eac0b27c38eb445c545f8d95bdf1a72b\n------------df4a762b48e7c1db5f5cb4726c9a6769968a51\n--- --- --- a4\n------------28d718de9f1b6e08bd149f4e564f72ae99393e\n--- --- --- a3\n------------42aa822461825107324113c715f7bb5fad8d71\n------------5607a62390ca4204c4eb5ea1c5dcf21d4df41c\n--- --- --- 47\n------------e20ce80bf5eab0e9bc0d9f5e5d3a68b08a0876\n--- --- --- d4\n------------854abfe4899364c42c5056372c97dec1d6be6a\n--- --- --- a5\n------------ca69067df8e1daf80aa0e88f17aca7d6062d37\n--- --- --- c0\n------------98e15a6be566ee8025b09ee506e3cc7d215eed\n--- --- --- a1\n------------cbac78e294e972e5ae8cac760b1cb043b90088\n--- --- --- 1d\n------------f637fa1698c529a600509486cb8b77c0d8add8\n------------c70ad21d93ef9928a7f571d2c088f457993807\n--- --- --- 87\n------------3083cfb67c3f56f4ff2d6bfc91a7b9cd3b5ed3\n------------01e952647d7a466d126549fde85eca469a8295\n------------d9c43899b858dbf7ee754b67b60098370f9e6c\n--- --- --- 30\n------------0fb430039382c185cf84e1ea7417cc78e962ac\n--- --- --- 01\n------------d633b27e8ea9b17084fc911d0c8cc43a4170a9\n--- --- --- 69\n------------99de5a87f0b5f6c3aa51e37606f48d01b21564\n------------605b67d45126fb5858d8f157d2a02673f35ae0\n------------b09832e5872f1c8f9f2cb2fa707cce8eec3edc\n--- --- --- e7\n------------73f0c8dbd57d050caf8e9b7c370f3cbc21137c\n--- --- --- a9\n------------d0c394fcf8c25e91e2f1c8dec0b625c49b7ea0\n------------d9e65132a7881381cfc19d46f85475e5d8d4b6\n--- --- --- 5c\n------------e5929d7dfe6489a5326e38d06a7f6d467fbc2d\n--- --- --- 3d\n------------a61c9f45d850f027b3451977d1fdeb02c9b1bc\n--- --- --- bd\n------------45805a72f684b6da0776e8fbfdf0f60e5cf890\n--- --- --- 15\n------------53f13ac4acbc14dacbd93ad16bb53213a88964\n--- --- --- a2\n------------d09df5efc00315a474bde9f486ce71f2f2ac65\n--- --- --- 0b\n------------b226ed2fa3ce8c43e6433ebb28c8dedb356414\n------------1a74884e8d197075f292914a4e940b09ff89b8\n--- --- --- 9f\n------------1ca83c45ad771cf82f88bbde5e572e7b8c2009\n--- --- --- 34\n------------465959f16f377f039269ad8e9ad9c316fd9870\n--- --- --- ba\n------------ffb263f228d437bde1c264e5e04e2a2d6f0bb0\n------------670437ae5d89be44d3a620b4b3d9f19324a942\n--- --- --- 97\n------------5fb71b276ac521662e0487a5c2995698a7ae5e\n--- --- --- 6b\n------------749a260ecd90f469e667d9095980f52aba0954\n--- --- --- 98\n------------e74cb9b523cf85d54504a4ab4f5d000bad1cc2\n--- --- --- 7d\n------------3e6e38308e76ea82daf76abe3f15edaf475e41\n--- --- --- 18\n------------b552ab5ab7920d50a79ac73e2dd20d999c1a9a\n--- --- --- e9\n------------df608e5e4ae88e10137f5255438f7cf11d2aa6\n--- --- --- c2\n------------b525af5675d6f86d6b3298709cee897edd244b\n--- --- --- 6f\n------------c1eaff6afdc0882b1fa3a76eb07f2f03adfc93\n------------acd9375d17e86e8980457f965d49a81b61bedb\n--- --- --- ae\n------------beeac22b8e342afa2a30549d8ad2017d128f87\n--- --- --- 92\n------------d525eaac3e45836406830ee87ab54d6d7ef8f4\n--- --- --- ed\n------------50c5d36def3fb533fe0231dea283e4e1a023f3\n--- --- --- 79\n------------052f626204913de50ae3034e8efca2c03ceb94\n--- --- --- 6c\n------------e1a193477f4490dfcfabf7f469b9f6dc5397ba\n--- --- --- b9\n------------e7cefab121f8ab341455b17e79368a24e25774\n--- --- --- 62\n------------2d887758b0fe19c40437fa9a5806f82e15d03d\n--- --- --- 4e\n------------5811815386f9e6b433fb6874fa12518cfc0181\n--- --- --- d5\n------------a8d7c17109c6b381819800875663d7532307d6\n------------7d4e94637521b5161d89712feb02099c2c1955\n--- --- --- 77\n------------7a51c4b9c7ec3fc39acaf8b12c1d105035c923\n--- --- --- 37\n------------500d9247abe87c2f2c6242a4e4feca0713095c\n------------2652e03ffa8f3a0a0408e108826a94aa646922\n--- --- --- 3b\n------------bdd30b4bb10f66e4d3d5301ed3425019dff892\n--- --- --- 52\n------------dc01c17c101ed520d34363cd852b18a3c0d22f\n--- --- --- 0c\n------------6cb98e512bc882e5ffb28907c8a4d8127a7719\n--- --- --- 31\n------------5c9a37e24c842efad277eb51bed71c363f24d8\n--- --- --- 00\n------------6ce79a730fb3aecfb8a271e65580b4d838416a\n--- --- --- 9a\n------------4ebba02d8479ea64e5eb2de56c020cec3af928\n--- --- --- 43\n------------fb1a601a07e84eff258ed61a45d4238881369d\n--- --- --- b1\n------------94f32cad7c0e2f613269cc556e189e3f72b4b5\n--- --- --- 7b\n------------e61351f5845fa38bc694b545155dd8092da1a3\n------------08e8ffa3467f7390772d9d581495ae59ae9eda\n--- --- --- 6a\n------------8a5cf28dcb594d45d01a62274aeb3824ea6f11\n--- --- --- e2\n------------b6106439c53ea61c1dd14ab013059b1af0164f\n--- --- --- eb\n------------6572ae15e8cc695a7625af761eae32003e53ca\n------------00648fe4c4773a8930a9465142941e4f9f1c63\n--- --- --- 3f\n------------9a8a55c30ce389a36d79ce59290f1afed9c6e3\n--- --- --- 57\n------------f02d409e6d8ac69020ce6e0c7db469685155ac\n--- --- --- 33\n------------ab1f8b44c2a8cb5f3a1ebb1c0735b9ae17b08a\n--- --- --- f0\n------------fa179d3346645fa05176d04eedbacc2b333a4f\n--- --- --- f3\n------------a38a87ea3b73a44c51f797d168ca6d9005493e\n------------ca32084021f9dcddf6bf376ede687bfdb10e73\n--- --- --- 5b\n------------79c8be6d658775432d459cfb6ecffbd2272014\n--- --- --- e4\n------------c9fe409c4f2688f151a85e506d706574a039b7\n--- --- --- 84\n------------87921f9faf2e212cf3b03338f9ca4a1b024987\n--- --- --- 80\n------------db9e6e444d5cfe1d0a775a68c2dc18b044f045\n--- --- --- 2e\n------------98d23fb730c3617c582bfc11d19998c63a2e37\n--- --- --- 78\n------------85895a08dc86ef91ad35c670464e64b9206788\n------------b8516c7a6e2ce79d12342e1ac3f7f4c9c4fed4\n------------1ad2f81712daa54a9d915595f9ebb6a519ead2\n--- --- --- 7a\n------------8d4de1dcbf8ef557f28a950ae4bbee8328552c\n--- --- --- pack\n------------pack-9ec655f9a7ba96fd8ea3c8b4e364821903b096f4.idx\n------------pack-9ec655f9a7ba96fd8ea3c8b4e364821903b096f4.rev\n------------pack-9ec655f9a7ba96fd8ea3c8b4e364821903b096f4.pack\n--- --- --- 82\n------------74508a0fca56f8fad7fbba8a753974ec48da8d\n------------1eac1e36fad6264df3663d9bf8cb9de13f5d51\n------------c7398c1d6290844ff1a7652f5e343a0c2124e9\n--- --- --- c1\n------------7b216d46090d962cc4c14abb847cc52de27bc4\n--- --- --- 7e\n------------2d40694f70321f80cafc5da5db8b2f80199a0c\n--- --- --- 20\n------------d5cb86e6dff1f3684dc229a358a2ea697cecfb\n--- --- --- 45\n------------5199503069a5679da7671a20de06c6245510ef\n--- --- --- de\n------------5ae73db127ee68dc6c5f718d8e0282394b5b3c\n--- --- --- d8\n------------967e0945638dc30fb4ea9c6d57c16b64392630\n--- --- --- b7\n------------a88e3d4ec0cad6584be1a199d9864248e96927\n--- --- --- b0\n------------4adeef595d286d8e23103402bbd28462d3016b\n--- --- --- ce\n------------78fa83a7615180aae9830c851306db0b04c9c2\n--- --- --- 6d\n------------d339d35d6966feec8522d0429d31ca8dc00ce1\n--- --- --- 10\n------------98439c0094f9d75c30957aaf377bb8d82f3f99\n------------efc64bf2114d459f314a0a2dc24af8b08468e8\n--- --- --- 46\n------------b6fc8eacbea45c3dd1f72593fc67f95150e082\n--- --- --- b8\n------------e249ae2a28e5624ff41764ff5ad3f76fe85982\n------------fe99fccc1d6d0f13cdb6d56589d6b59663b764\n--- --- --- c8\n------------2e1cadb10c42ca7c8e760c8af85dd263f6251e\n--- --- --- 8c\n------------e0ccd73cda2095a9c6a21db4be3b81ef52e290\n--- --- --- d6\n------------143c6a09c01c606c5b985235c4b9681b352336\n--- --- --- bb\n------------0726da19f6c8286529897d4396561a1c04d0ca\n------------6618cde91e521413fd48eebb65eb4ae6f68650\n--- --- --- ec\n------------3892757dd0684acafcfb4e6c451e94e6823ca3\n--- --- --- e5\n------------1d7fd814c1a37666c7427d6cbf426cfe696dcb\n------------5123db65165de03a7dab5e7f495a9eaab9eae6\n------------f61b8af73db6ee6c7e99090753b62d49d867be\n--- --- hooks\n---------post-update.sample\n---------pre-receive.sample\n---------update.sample\n---------push-to-checkout.sample\n---------sendemail-validate.sample\n---------pre-commit.sample\n---------applypatch-msg.sample\n---------fsmonitor-watchman.sample\n---------pre-rebase.sample\n---------pre-merge-commit.sample\n---------pre-applypatch.sample\n---------prepare-commit-msg.sample\n---------pre-push.sample\n---------commit-msg.sample\n--- evaluation\n------explore-datasets.ipynb\n------initial-evaluation.ipynb\n",
     "output_type": "error",
     "traceback": [
      "\u001b[0;31m---------------------------------------------------------------------------\u001b[0m",
      "\u001b[0;31mException\u001b[0m                                 Traceback (most recent call last)",
      "Cell \u001b[0;32mIn[22], line 7\u001b[0m\n\u001b[1;32m      5\u001b[0m     \u001b[38;5;28;01mfor\u001b[39;00m file \u001b[38;5;129;01min\u001b[39;00m files:\n\u001b[1;32m      6\u001b[0m         err \u001b[38;5;241m+\u001b[39m\u001b[38;5;241m=\u001b[39m \u001b[38;5;28mlen\u001b[39m(path) \u001b[38;5;241m*\u001b[39m \u001b[38;5;124m'\u001b[39m\u001b[38;5;124m---\u001b[39m\u001b[38;5;124m'\u001b[39m \u001b[38;5;241m+\u001b[39m file \u001b[38;5;241m+\u001b[39m\u001b[38;5;124m'\u001b[39m\u001b[38;5;130;01m\\n\u001b[39;00m\u001b[38;5;124m'\u001b[39m\n\u001b[0;32m----> 7\u001b[0m \u001b[38;5;28;01mraise\u001b[39;00m \u001b[38;5;167;01mException\u001b[39;00m(err)\n",
      "\u001b[0;31mException\u001b[0m: --- \n------Dockerfile\n------.devcontainer.json\n------.gitignore\n------README.md\n--- .github\n--- --- workflows\n---------upload-docker-submission.yml\n--- runs\n------run.txt\n------trained.txt\n------loaded.txt\n--- .tira\n------.gitkeep\n--- baseline-retrieval-system\n------baseline-retrieval-system.ipynb\n------model.joblib\n------retrieval-system.ipynb\n------pyterrier-retrieval-system.ipynb\n--- --- terrier-index\n---------data.meta-0.fsomapfile\n---------data.lexicon.fsomaphash\n---------data.meta.zdata\n---------data.direct.bf\n---------data.lexicon.fsomapid\n---------data.document.fsarrayfile\n---------data.meta.idx\n---------data.properties\n---------data.lexicon.fsomapfile\n---------data.inverted.bf\n--- .git\n------description\n------config\n------HEAD\n------FETCH_HEAD\n------packed-refs\n------COMMIT_EDITMSG\n------ORIG_HEAD\n------index\n--- --- info\n---------exclude\n--- --- branches\n--- --- refs\n--- --- --- heads\n------------pyterrier-ir-system\n------------main\n------------indexing\n------------evaluation\n--- --- --- remotes\n--- --- --- --- origin\n---------------gridsearch\n---------------query-expansion\n---------------pyterrier-ir-system\n---------------main\n---------------HEAD\n---------------indexing\n---------------evaluation\n--- --- --- tags\n--- --- logs\n---------HEAD\n--- --- --- refs\n--- --- --- --- heads\n---------------pyterrier-ir-system\n---------------main\n---------------indexing\n---------------evaluation\n--- --- --- --- remotes\n--- --- --- --- --- origin\n------------------gridsearch\n------------------query-expansion\n------------------pyterrier-ir-system\n------------------main\n------------------HEAD\n------------------indexing\n------------------evaluation\n--- --- objects\n--- --- --- 68\n------------c4ba87357c2988de9d2ee117b90fbccf15d96e\n--- --- --- 0d\n------------3b17ed19ced2d0decd304ca27927e0d746a79d\n------------b2af7e24906e804d96f87d3e13620d4b4663a0\n--- --- --- 5f\n------------0016bec70890e39b0b0fe3cdc14445d0b4babd\n--- --- --- 3e\n------------e0f0b9344f6fae1d864e1ed6d41cc5a5c0810c\n--- --- --- e8\n------------c8bea27f73f83ab0a4c0e25afa52a2defc5575\n--- --- --- e6\n------------20fda603903d3cf303f66f3717d3c87a6745c4\n------------5292f45fce884c7e7f663cbc3c2c7d93697306\n--- --- --- 59\n------------3f4708db84ac8fd0f5cc47c634f38c013fe9e4\n--- --- --- info\n--- --- --- ea\n------------9a35c94be4be2e1020d9ffe8d33d4e4d1fef24\n--- --- --- cc\n------------017cb0f2672afe957712b72183d07182989a55\n--- --- --- 2c\n------------048422523531e5ab90a404171d9adb7cbcf41b\n------------16b51d20fc6f7ec22feb4608e7296e603e6a7c\n--- --- --- 2f\n------------d642e6d9483222e1c1b40f506d69973f3633a5\n------------f9f5c10a67162a7191bfcb0807e8ffe706fbe1\n--- --- --- 51\n------------7ccbab47486779255c67cbeb60ecd580778899\n------------e64567f958e2cc9d3c3d49d9fa37b7903fdb8d\n--- --- --- 65\n------------42a0e8aaacdc7d0bba7b34335321c34199c0cf\n--- --- --- 85\n------------5267f2e846ee4b3a871009956fc1d9bbc8d285\n--- --- --- 50\n------------51937932cffb2b3d09ffb7e72b608159aef563\n--- --- --- b5\n------------bc6efdd52339b4eabade34edcfca1f07147eba\n------------0c93fc52e84ee1a02a82555349ba76bea7b263\n--- --- --- 1c\n------------a3b2dd9c50adf9bb4c3b629af5b20d37527fc0\n------------e7bcce1ce5d27d67e427bf310dfd73985ed242\n--- --- --- ca\n------------ea52ce8d9b8d3620f1bbd3017fa856dbdb829a\n--- --- --- f8\n------------d5c3a3ab156da7cada9d9f4de24c88e96e5ce6\n------------2648c92667df0c105b3d3e158924e4fb0a2494\n--- --- --- 05\n------------07a5f8eac0b27c38eb445c545f8d95bdf1a72b\n------------df4a762b48e7c1db5f5cb4726c9a6769968a51\n--- --- --- a4\n------------28d718de9f1b6e08bd149f4e564f72ae99393e\n--- --- --- a3\n------------42aa822461825107324113c715f7bb5fad8d71\n------------5607a62390ca4204c4eb5ea1c5dcf21d4df41c\n--- --- --- 47\n------------e20ce80bf5eab0e9bc0d9f5e5d3a68b08a0876\n--- --- --- d4\n------------854abfe4899364c42c5056372c97dec1d6be6a\n--- --- --- a5\n------------ca69067df8e1daf80aa0e88f17aca7d6062d37\n--- --- --- c0\n------------98e15a6be566ee8025b09ee506e3cc7d215eed\n--- --- --- a1\n------------cbac78e294e972e5ae8cac760b1cb043b90088\n--- --- --- 1d\n------------f637fa1698c529a600509486cb8b77c0d8add8\n------------c70ad21d93ef9928a7f571d2c088f457993807\n--- --- --- 87\n------------3083cfb67c3f56f4ff2d6bfc91a7b9cd3b5ed3\n------------01e952647d7a466d126549fde85eca469a8295\n------------d9c43899b858dbf7ee754b67b60098370f9e6c\n--- --- --- 30\n------------0fb430039382c185cf84e1ea7417cc78e962ac\n--- --- --- 01\n------------d633b27e8ea9b17084fc911d0c8cc43a4170a9\n--- --- --- 69\n------------99de5a87f0b5f6c3aa51e37606f48d01b21564\n------------605b67d45126fb5858d8f157d2a02673f35ae0\n------------b09832e5872f1c8f9f2cb2fa707cce8eec3edc\n--- --- --- e7\n------------73f0c8dbd57d050caf8e9b7c370f3cbc21137c\n--- --- --- a9\n------------d0c394fcf8c25e91e2f1c8dec0b625c49b7ea0\n------------d9e65132a7881381cfc19d46f85475e5d8d4b6\n--- --- --- 5c\n------------e5929d7dfe6489a5326e38d06a7f6d467fbc2d\n--- --- --- 3d\n------------a61c9f45d850f027b3451977d1fdeb02c9b1bc\n--- --- --- bd\n------------45805a72f684b6da0776e8fbfdf0f60e5cf890\n--- --- --- 15\n------------53f13ac4acbc14dacbd93ad16bb53213a88964\n--- --- --- a2\n------------d09df5efc00315a474bde9f486ce71f2f2ac65\n--- --- --- 0b\n------------b226ed2fa3ce8c43e6433ebb28c8dedb356414\n------------1a74884e8d197075f292914a4e940b09ff89b8\n--- --- --- 9f\n------------1ca83c45ad771cf82f88bbde5e572e7b8c2009\n--- --- --- 34\n------------465959f16f377f039269ad8e9ad9c316fd9870\n--- --- --- ba\n------------ffb263f228d437bde1c264e5e04e2a2d6f0bb0\n------------670437ae5d89be44d3a620b4b3d9f19324a942\n--- --- --- 97\n------------5fb71b276ac521662e0487a5c2995698a7ae5e\n--- --- --- 6b\n------------749a260ecd90f469e667d9095980f52aba0954\n--- --- --- 98\n------------e74cb9b523cf85d54504a4ab4f5d000bad1cc2\n--- --- --- 7d\n------------3e6e38308e76ea82daf76abe3f15edaf475e41\n--- --- --- 18\n------------b552ab5ab7920d50a79ac73e2dd20d999c1a9a\n--- --- --- e9\n------------df608e5e4ae88e10137f5255438f7cf11d2aa6\n--- --- --- c2\n------------b525af5675d6f86d6b3298709cee897edd244b\n--- --- --- 6f\n------------c1eaff6afdc0882b1fa3a76eb07f2f03adfc93\n------------acd9375d17e86e8980457f965d49a81b61bedb\n--- --- --- ae\n------------beeac22b8e342afa2a30549d8ad2017d128f87\n--- --- --- 92\n------------d525eaac3e45836406830ee87ab54d6d7ef8f4\n--- --- --- ed\n------------50c5d36def3fb533fe0231dea283e4e1a023f3\n--- --- --- 79\n------------052f626204913de50ae3034e8efca2c03ceb94\n--- --- --- 6c\n------------e1a193477f4490dfcfabf7f469b9f6dc5397ba\n--- --- --- b9\n------------e7cefab121f8ab341455b17e79368a24e25774\n--- --- --- 62\n------------2d887758b0fe19c40437fa9a5806f82e15d03d\n--- --- --- 4e\n------------5811815386f9e6b433fb6874fa12518cfc0181\n--- --- --- d5\n------------a8d7c17109c6b381819800875663d7532307d6\n------------7d4e94637521b5161d89712feb02099c2c1955\n--- --- --- 77\n------------7a51c4b9c7ec3fc39acaf8b12c1d105035c923\n--- --- --- 37\n------------500d9247abe87c2f2c6242a4e4feca0713095c\n------------2652e03ffa8f3a0a0408e108826a94aa646922\n--- --- --- 3b\n------------bdd30b4bb10f66e4d3d5301ed3425019dff892\n--- --- --- 52\n------------dc01c17c101ed520d34363cd852b18a3c0d22f\n--- --- --- 0c\n------------6cb98e512bc882e5ffb28907c8a4d8127a7719\n--- --- --- 31\n------------5c9a37e24c842efad277eb51bed71c363f24d8\n--- --- --- 00\n------------6ce79a730fb3aecfb8a271e65580b4d838416a\n--- --- --- 9a\n------------4ebba02d8479ea64e5eb2de56c020cec3af928\n--- --- --- 43\n------------fb1a601a07e84eff258ed61a45d4238881369d\n--- --- --- b1\n------------94f32cad7c0e2f613269cc556e189e3f72b4b5\n--- --- --- 7b\n------------e61351f5845fa38bc694b545155dd8092da1a3\n------------08e8ffa3467f7390772d9d581495ae59ae9eda\n--- --- --- 6a\n------------8a5cf28dcb594d45d01a62274aeb3824ea6f11\n--- --- --- e2\n------------b6106439c53ea61c1dd14ab013059b1af0164f\n--- --- --- eb\n------------6572ae15e8cc695a7625af761eae32003e53ca\n------------00648fe4c4773a8930a9465142941e4f9f1c63\n--- --- --- 3f\n------------9a8a55c30ce389a36d79ce59290f1afed9c6e3\n--- --- --- 57\n------------f02d409e6d8ac69020ce6e0c7db469685155ac\n--- --- --- 33\n------------ab1f8b44c2a8cb5f3a1ebb1c0735b9ae17b08a\n--- --- --- f0\n------------fa179d3346645fa05176d04eedbacc2b333a4f\n--- --- --- f3\n------------a38a87ea3b73a44c51f797d168ca6d9005493e\n------------ca32084021f9dcddf6bf376ede687bfdb10e73\n--- --- --- 5b\n------------79c8be6d658775432d459cfb6ecffbd2272014\n--- --- --- e4\n------------c9fe409c4f2688f151a85e506d706574a039b7\n--- --- --- 84\n------------87921f9faf2e212cf3b03338f9ca4a1b024987\n--- --- --- 80\n------------db9e6e444d5cfe1d0a775a68c2dc18b044f045\n--- --- --- 2e\n------------98d23fb730c3617c582bfc11d19998c63a2e37\n--- --- --- 78\n------------85895a08dc86ef91ad35c670464e64b9206788\n------------b8516c7a6e2ce79d12342e1ac3f7f4c9c4fed4\n------------1ad2f81712daa54a9d915595f9ebb6a519ead2\n--- --- --- 7a\n------------8d4de1dcbf8ef557f28a950ae4bbee8328552c\n--- --- --- pack\n------------pack-9ec655f9a7ba96fd8ea3c8b4e364821903b096f4.idx\n------------pack-9ec655f9a7ba96fd8ea3c8b4e364821903b096f4.rev\n------------pack-9ec655f9a7ba96fd8ea3c8b4e364821903b096f4.pack\n--- --- --- 82\n------------74508a0fca56f8fad7fbba8a753974ec48da8d\n------------1eac1e36fad6264df3663d9bf8cb9de13f5d51\n------------c7398c1d6290844ff1a7652f5e343a0c2124e9\n--- --- --- c1\n------------7b216d46090d962cc4c14abb847cc52de27bc4\n--- --- --- 7e\n------------2d40694f70321f80cafc5da5db8b2f80199a0c\n--- --- --- 20\n------------d5cb86e6dff1f3684dc229a358a2ea697cecfb\n--- --- --- 45\n------------5199503069a5679da7671a20de06c6245510ef\n--- --- --- de\n------------5ae73db127ee68dc6c5f718d8e0282394b5b3c\n--- --- --- d8\n------------967e0945638dc30fb4ea9c6d57c16b64392630\n--- --- --- b7\n------------a88e3d4ec0cad6584be1a199d9864248e96927\n--- --- --- b0\n------------4adeef595d286d8e23103402bbd28462d3016b\n--- --- --- ce\n------------78fa83a7615180aae9830c851306db0b04c9c2\n--- --- --- 6d\n------------d339d35d6966feec8522d0429d31ca8dc00ce1\n--- --- --- 10\n------------98439c0094f9d75c30957aaf377bb8d82f3f99\n------------efc64bf2114d459f314a0a2dc24af8b08468e8\n--- --- --- 46\n------------b6fc8eacbea45c3dd1f72593fc67f95150e082\n--- --- --- b8\n------------e249ae2a28e5624ff41764ff5ad3f76fe85982\n------------fe99fccc1d6d0f13cdb6d56589d6b59663b764\n--- --- --- c8\n------------2e1cadb10c42ca7c8e760c8af85dd263f6251e\n--- --- --- 8c\n------------e0ccd73cda2095a9c6a21db4be3b81ef52e290\n--- --- --- d6\n------------143c6a09c01c606c5b985235c4b9681b352336\n--- --- --- bb\n------------0726da19f6c8286529897d4396561a1c04d0ca\n------------6618cde91e521413fd48eebb65eb4ae6f68650\n--- --- --- ec\n------------3892757dd0684acafcfb4e6c451e94e6823ca3\n--- --- --- e5\n------------1d7fd814c1a37666c7427d6cbf426cfe696dcb\n------------5123db65165de03a7dab5e7f495a9eaab9eae6\n------------f61b8af73db6ee6c7e99090753b62d49d867be\n--- --- hooks\n---------post-update.sample\n---------pre-receive.sample\n---------update.sample\n---------push-to-checkout.sample\n---------sendemail-validate.sample\n---------pre-commit.sample\n---------applypatch-msg.sample\n---------fsmonitor-watchman.sample\n---------pre-rebase.sample\n---------pre-merge-commit.sample\n---------pre-applypatch.sample\n---------prepare-commit-msg.sample\n---------pre-push.sample\n---------commit-msg.sample\n--- evaluation\n------explore-datasets.ipynb\n------initial-evaluation.ipynb\n"
     ]
    }
   ],
   "source": [
    "err = ''\n",
    "for root, dirs, files in os.walk(\"../\"):\n",
    "    path = root.split(os.sep)\n",
    "    err += (len(path) - 1) * '--- ' + os.path.basename(root) +'\\n'\n",
    "    for file in files:\n",
    "        err += len(path) * '---' + file +'\\n'\n",
    "raise Exception(err)"
   ]
  },
  {
   "cell_type": "code",
   "execution_count": 9,
   "metadata": {},
   "outputs": [],
   "source": [
    "# Create a REST client to the TIRA platform for retrieving the pre-indexed data.\n",
    "ensure_pyterrier_is_loaded()"
   ]
  },
  {
   "cell_type": "code",
   "execution_count": 10,
   "metadata": {},
   "outputs": [],
   "source": [
    "# The dataset: the union of the IR Anthology and the ACL Anthology\n",
    "# This line creates an IRDSDataset object and registers it under the name provided as an argument.\n",
    "pt_dataset = pt.get_dataset('irds:ir-lab-sose-2024/ir-acl-anthology-20240504-training')\n",
    "\n",
    "pt_index_path = './terrier-index'\n",
    "\n",
    "if not os.path.exists(pt_index_path + \"/data.properties\"):\n",
    "  # create the index, using the IterDictIndexer indexer \n",
    "  indexer = pt.index.IterDictIndexer(pt_index_path, blocks=True)\n",
    "\n",
    "  # we give the dataset get_corpus_iter() directly to the indexer\n",
    "  # while specifying the fields to index and the metadata to record\n",
    "  index_ref = indexer.index(pt_dataset.get_corpus_iter(), \n",
    "                            meta=('docno',))\n",
    "\n",
    "else:\n",
    "  # if you already have the index, use it.\n",
    "  index_ref = pt.IndexRef.of(pt_index_path + \"/data.properties\")\n",
    "index = pt.IndexFactory.of(index_ref)"
   ]
  },
  {
   "cell_type": "code",
   "execution_count": 11,
   "metadata": {},
   "outputs": [],
   "source": [
    "if not pt.started():\n",
    "    pt.init(boot_packages=[\"com.github.terrierteam:terrier-prf:-SNAPSHOT\"])\n",
    "\n",
    "bm25 = pt.BatchRetrieve(index, wmodel=\"BM25\")\n",
    "sdm = pt.rewrite.SDM()\n",
    "qe = pt.rewrite.Bo1QueryExpansion(index)"
   ]
  },
  {
   "cell_type": "code",
   "execution_count": 12,
   "metadata": {},
   "outputs": [
    {
     "name": "stdout",
     "output_type": "stream",
     "text": [
      "Requirement already satisfied: scikit-learn in /usr/local/lib/python3.10/dist-packages (1.3.2)\n",
      "Requirement already satisfied: joblib>=1.1.1 in /usr/local/lib/python3.10/dist-packages (from scikit-learn) (1.3.2)\n",
      "Requirement already satisfied: scipy>=1.5.0 in /usr/local/lib/python3.10/dist-packages (from scikit-learn) (1.11.4)\n",
      "Requirement already satisfied: numpy<2.0,>=1.17.3 in /usr/local/lib/python3.10/dist-packages (from scikit-learn) (1.26.2)\n",
      "Requirement already satisfied: threadpoolctl>=2.0.0 in /usr/local/lib/python3.10/dist-packages (from scikit-learn) (3.2.0)\n",
      "\u001b[33mWARNING: Running pip as the 'root' user can result in broken permissions and conflicting behaviour with the system package manager. It is recommended to use a virtual environment instead: https://pip.pypa.io/warnings/venv\u001b[0m\u001b[33m\n",
      "\u001b[0m"
     ]
    }
   ],
   "source": [
    "topics = pt_dataset.get_topics(variant='title')\n",
    "\n",
    "SEED=42\n",
    "\n",
    "!pip3 install scikit-learn\n",
    "\n",
    "from sklearn.model_selection import train_test_split\n",
    "\n",
    "tr_va_topics, test_topics = train_test_split(topics, test_size=15, random_state=SEED)\n",
    "train_topics, valid_topics =  train_test_split(tr_va_topics, test_size=5, random_state=SEED)\n",
    "\n",
    "ltr_feats1 = bm25 >> pt.text.get_text(pt_dataset, [\"text\", \"doc_id\"]) >> (\n",
    "    pt.transformer.IdentityTransformer()\n",
    "    ** # sequential dependence\n",
    "    (sdm >> bm25)\n",
    "    ** # score of text (not originally indexed)\n",
    "    (pt.text.scorer(body_attr=\"text\", wmodel=\"TF_IDF\", background_index=index)) \n",
    "    ** # abstract coordinate match\n",
    "    pt.BatchRetrieve(index, wmodel=\"CoordinateMatch\")\n",
    ")\n",
    "\n",
    "# for reference, lets record the feature names here too\n",
    "fnames=[\"BM25\", \"SDM\", 'text', \"CoordinateMatch\"]"
   ]
  },
  {
   "cell_type": "code",
   "execution_count": 13,
   "metadata": {},
   "outputs": [
    {
     "name": "stdout",
     "output_type": "stream",
     "text": [
      "Requirement already satisfied: joblib in /usr/local/lib/python3.10/dist-packages (1.3.2)\n",
      "\u001b[33mWARNING: Running pip as the 'root' user can result in broken permissions and conflicting behaviour with the system package manager. It is recommended to use a virtual environment instead: https://pip.pypa.io/warnings/venv\u001b[0m\u001b[33m\n",
      "\u001b[0mModel loaded from file.\n"
     ]
    }
   ],
   "source": [
    "from sklearn.ensemble import RandomForestRegressor\n",
    "!pip3 install joblib\n",
    "import joblib\n",
    "\n",
    "model_path = \"./model.joblib\"\n",
    "\n",
    "https://github.com/tira-io/ir-lab-sose-2024-ir-sose-24-12/raw/pyterrier-ir-system/baseline-retrieval-system/model.joblib\n",
    "\n",
    "if os.path.exists(model_path):\n",
    "    # Load the model\n",
    "    model = joblib.load(model_path)\n",
    "    print(\"Model loaded from file.\")\n",
    "    rf_pipe = ltr_feats1 >> pt.ltr.apply_learned_model(model)\n",
    "else:\n",
    "    \n",
    "    model = RandomForestRegressor(n_estimators=400, verbose=1, random_state=SEED, n_jobs=2)\n",
    "    rf_pipe = ltr_feats1 >> pt.ltr.apply_learned_model(model)\n",
    "    rf_pipe.fit(train_topics, pt_dataset.get_qrels())\n",
    "    joblib.dump(model, model_path)\n",
    "    print(\"Model trained and saved to file.\")"
   ]
  },
  {
   "cell_type": "code",
   "execution_count": 14,
   "metadata": {},
   "outputs": [
    {
     "name": "stdout",
     "output_type": "stream",
     "text": [
      "19:21:19.416 [main] WARN org.terrier.querying.ApplyTermPipeline - The index has no termpipelines configuration, and no control configuration is found. Defaulting to global termpipelines configuration of 'Stopwords,PorterStemmer'. Set a termpipelines control to remove this warning.\n"
     ]
    },
    {
     "name": "stderr",
     "output_type": "stream",
     "text": [
      "[Parallel(n_jobs=2)]: Using backend ThreadingBackend with 2 concurrent workers.\n",
      "[Parallel(n_jobs=2)]: Done  46 tasks      | elapsed:    0.1s\n",
      "[Parallel(n_jobs=2)]: Done 196 tasks      | elapsed:    0.3s\n",
      "[Parallel(n_jobs=2)]: Done 400 out of 400 | elapsed:    0.7s finished\n"
     ]
    },
    {
     "name": "stdout",
     "output_type": "stream",
     "text": [
      "The run file is normalized outside the TIRA sandbox, I will store it at \"../runs\".\n",
      "Done. run file is stored under \"../runs/run.txt\".\n"
     ]
    }
   ],
   "source": [
    "def save_results(system, name):\n",
    "    run = system(pt_dataset.get_topics('text'))\n",
    "    persist_and_normalize_run(run, system_name=name, default_output='../runs')\n",
    "    os.rename('../runs/run.txt', \"../runs/\"+name+\".txt\")\n",
    "\n",
    "run = rf_pipe(pt_dataset.get_topics('text'))\n",
    "persist_and_normalize_run(run, system_name=\"rf_pipe\", default_output='../runs')"
   ]
  }
 ],
 "metadata": {
  "kernelspec": {
   "display_name": "Python 3",
   "language": "python",
   "name": "python3"
  },
  "language_info": {
   "codemirror_mode": {
    "name": "ipython",
    "version": 3
   },
   "file_extension": ".py",
   "mimetype": "text/x-python",
   "name": "python",
   "nbconvert_exporter": "python",
   "pygments_lexer": "ipython3",
   "version": "3.10.12"
  }
 },
 "nbformat": 4,
 "nbformat_minor": 2
}
