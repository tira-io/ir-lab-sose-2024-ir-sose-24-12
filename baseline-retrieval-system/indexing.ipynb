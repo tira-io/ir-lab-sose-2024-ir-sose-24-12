{
 "cells": [
  {
   "cell_type": "code",
   "execution_count": 2,
   "metadata": {},
   "outputs": [],
   "source": [
    "from tira.third_party_integrations import ensure_pyterrier_is_loaded, persist_and_normalize_run\n",
    "from tira.rest_api_client import Client\n",
    "import pyterrier as pt\n",
    "from pyterrier_pisa import PisaIndex"
   ]
  },
  {
   "cell_type": "code",
   "execution_count": 3,
   "metadata": {},
   "outputs": [
    {
     "name": "stderr",
     "output_type": "stream",
     "text": [
      "PyTerrier 0.10.0 has loaded Terrier 5.8 (built by craigm on 2023-11-01 18:05) and terrier-helper 0.0.8\n",
      "\n",
      "No etc/terrier.properties, using terrier.default.properties for bootstrap configuration.\n"
     ]
    }
   ],
   "source": [
    "# Create a REST client to the TIRA platform for retrieving the pre-indexed data.\n",
    "ensure_pyterrier_is_loaded()\n",
    "tira = Client()"
   ]
  },
  {
   "cell_type": "code",
   "execution_count": 5,
   "metadata": {},
   "outputs": [
    {
     "data": {
      "application/vnd.jupyter.widget-view+json": {
       "model_id": "0debe0fdca9e4bf28ebb9c36894dabd4",
       "version_major": 2,
       "version_minor": 0
      },
      "text/plain": [
       "ir-lab-sose-2024/ir-acl-anthology-20240504-training documents:   0%|          | 0/126958 [00:00<?, ?it/s]"
      ]
     },
     "metadata": {},
     "output_type": "display_data"
    },
    {
     "name": "stderr",
     "output_type": "stream",
     "text": [
      "/usr/local/lib/python3.10/dist-packages/pyterrier_pisa/indexers.py:38: UserWarning: Removing index\n",
      "  warn(f'Removing {str(path)}')\n",
      "Exception in thread Thread-12 (_write_fifo):\n",
      "Traceback (most recent call last):\n",
      "  File \"/usr/lib/python3.10/threading.py\", line 1016, in _bootstrap_inner\n",
      "    self.run()\n",
      "  File \"/usr/lib/python3.10/threading.py\", line 953, in run\n",
      "    self._target(*self._args, **self._kwargs)\n",
      "  File \"/usr/local/lib/python3.10/dist-packages/pyterrier_pisa/indexers.py\", line 65, in _write_fifo\n",
      "    docno, text = doc['docno'], ' '.join(doc[f] for f in text_field)\n",
      "  File \"/usr/local/lib/python3.10/dist-packages/pyterrier_pisa/indexers.py\", line 65, in <genexpr>\n",
      "    docno, text = doc['docno'], ' '.join(doc[f] for f in text_field)\n",
      "KeyError: 'abstract'\n"
     ]
    },
    {
     "name": "stdout",
     "output_type": "stream",
     "text": [
      "[2024-06-12 09:33:37.593] [info] [Batch 0] Processed documents [0, 0)\n",
      "[2024-06-12 09:33:37.593] [info] Merging titles\n",
      "[2024-06-12 09:33:37.594] [info] Creating document lexicon\n",
      "[2024-06-12 09:33:37.596] [info] Merging URLs\n",
      "[2024-06-12 09:33:37.596] [info] Collecting terms\n",
      "[2024-06-12 09:33:37.596] [info] Writing terms\n",
      "[2024-06-12 09:33:37.597] [info] Mapping terms\n",
      "[2024-06-12 09:33:37.597] [info] Remapping IDs\n",
      "[2024-06-12 09:33:37.613] [info] Concatenating batches\n",
      "[2024-06-12 09:33:37.613] [info] Success.\n",
      "[2024-06-12 09:33:37.615] [info] Number of terms: 0\n",
      "[2024-06-12 09:33:37.615] [info] Number of documents: 0\n",
      "[2024-06-12 09:33:37.615] [info] Number of postings: 0\n"
     ]
    },
    {
     "data": {
      "text/plain": [
       "PisaIndex('./index')"
      ]
     },
     "execution_count": 5,
     "metadata": {},
     "output_type": "execute_result"
    }
   ],
   "source": [
    "# The dataset: the union of the IR Anthology and the ACL Anthology\n",
    "# This line creates an IRDSDataset object and registers it under the name provided as an argument.\n",
    "pt_dataset = pt.get_dataset('irds:ir-lab-sose-2024/ir-acl-anthology-20240504-training')\n",
    "\n",
    "index = PisaIndex('./index', overwrite=True)\n",
    "\n",
    "index.index(pt_dataset.get_corpus_iter())"
   ]
  },
  {
   "cell_type": "code",
   "execution_count": null,
   "metadata": {},
   "outputs": [],
   "source": []
  }
 ],
 "metadata": {
  "kernelspec": {
   "display_name": "Python 3",
   "language": "python",
   "name": "python3"
  },
  "language_info": {
   "codemirror_mode": {
    "name": "ipython",
    "version": 3
   },
   "file_extension": ".py",
   "mimetype": "text/x-python",
   "name": "python",
   "nbconvert_exporter": "python",
   "pygments_lexer": "ipython3",
   "version": "3.10.12"
  }
 },
 "nbformat": 4,
 "nbformat_minor": 2
}
